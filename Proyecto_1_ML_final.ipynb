{
  "nbformat": 4,
  "nbformat_minor": 0,
  "metadata": {
    "colab": {
      "provenance": []
    },
    "kernelspec": {
      "name": "python3",
      "display_name": "Python 3"
    },
    "language_info": {
      "name": "python"
    }
  },
  "cells": [
    {
      "cell_type": "markdown",
      "source": [
        "Consigna:\n",
        "\n",
        "**Sistema de recomendación:**\n",
        "\n",
        "Una vez que toda la data es consumible por la API, está lista para consumir por los departamentos de Analytics y Machine Learning, y nuestro EDA nos permite entender bien los datos a los que tenemos acceso, es hora de entrenar nuestro modelo de machine learning para armar un sistema de recomendación de películas. El EDA debería incluir gráficas interesantes para extraer datos, como por ejemplo una nube de palabras con las palabras más frecuentes en los títulos de las películas. Éste consiste en recomendar películas a los usuarios basándose en películas similares, por lo que se debe encontrar la similitud de puntuación entre esa película y el resto de películas, se ordenarán según el score de similaridad y devolverá una lista de Python con 5 valores, cada uno siendo el string del nombre de las películas con mayor puntaje, en orden descendente. Debe ser deployado como una función adicional de la API anterior y debe llamarse:\n",
        "\n",
        "def recomendacion( titulo ): Se ingresa el nombre de una película y te recomienda las similares en una lista de 5 valores.\n"
      ],
      "metadata": {
        "id": "R8yB1Jt8HwKM"
      }
    },
    {
      "cell_type": "code",
      "source": [
        "# Se importan las librerias necesarias\n",
        "import pandas as pd\n",
        "from sklearn.metrics.pairwise import cosine_similarity\n"
      ],
      "metadata": {
        "id": "COFzY7C4HEyD"
      },
      "execution_count": null,
      "outputs": []
    },
    {
      "cell_type": "code",
      "source": [
        "import matplotlib.pyplot as plt\n"
      ],
      "metadata": {
        "id": "i5WPzP_ALqiR"
      },
      "execution_count": null,
      "outputs": []
    },
    {
      "cell_type": "code",
      "source": [
        "from sklearn.feature_extraction.text import TfidfVectorizer\n",
        "from sklearn.metrics.pairwise import linear_kernel"
      ],
      "metadata": {
        "id": "1g-hK-35LlGH"
      },
      "execution_count": null,
      "outputs": []
    },
    {
      "cell_type": "code",
      "source": [
        "from sklearn.metrics.pairwise import pairwise_distances"
      ],
      "metadata": {
        "id": "_QNdENv4RibV"
      },
      "execution_count": null,
      "outputs": []
    },
    {
      "cell_type": "code",
      "source": [
        "# Cargar el archivo .csv en el dataframe\n",
        "total = pd.read_csv('df_Total.csv', low_memory=False)"
      ],
      "metadata": {
        "id": "DDS8Vjr5HSI5"
      },
      "execution_count": null,
      "outputs": []
    },
    {
      "cell_type": "code",
      "source": [
        "import numpy as np"
      ],
      "metadata": {
        "id": "S2QpPl9eT-3r"
      },
      "execution_count": null,
      "outputs": []
    },
    {
      "cell_type": "markdown",
      "source": [
        "Dado el tamaño del dataset es recomendable trabajar con una parte del mismo. En este caso se procede a aplicar un \"sample\" = 10000 datos y almacenar este dataset como df_parte para utilizar siempre la misma muestra."
      ],
      "metadata": {
        "id": "ms5emanfHc4e"
      }
    },
    {
      "cell_type": "code",
      "source": [
        "#df_parte = df_Total.sample(n=10000)\n",
        "#df_parte.head()"
      ],
      "metadata": {
        "id": "q2GFMo-ilLPc"
      },
      "execution_count": null,
      "outputs": []
    },
    {
      "cell_type": "code",
      "source": [
        "# Exportar el df generado\n",
        "# ruta_archivo = '/content/sample_data/df_parte.csv'\n",
        "\n",
        "# Exportar el DataFrame a un archivo CSV\n",
        "# df_Total.to_csv(ruta_archivo, index=False)\n",
        "\n",
        "# Para leer el archivo CSV y mostrar los datos\n",
        "# df_exportado = pd.read_csv(ruta_archivo)"
      ],
      "metadata": {
        "id": "j_XMjKOIIQk4"
      },
      "execution_count": null,
      "outputs": []
    },
    {
      "cell_type": "code",
      "source": [
        "# En caso de haber fraccionado o realizado el sample previamente, este paso se omite.\n",
        "\n",
        "# Cargar el archivo csv\n",
        "parte = pd.read_csv('df_parte.csv', low_memory=False)"
      ],
      "metadata": {
        "id": "nXWrG04zIFUg"
      },
      "execution_count": null,
      "outputs": []
    },
    {
      "cell_type": "code",
      "source": [
        "parte.info()"
      ],
      "metadata": {
        "colab": {
          "base_uri": "https://localhost:8080/"
        },
        "id": "K9BdwBK_KAuj",
        "outputId": "07958bc1-285c-4abf-c46e-05da4f3bd5e7"
      },
      "execution_count": null,
      "outputs": [
        {
          "output_type": "stream",
          "name": "stdout",
          "text": [
            "<class 'pandas.core.frame.DataFrame'>\n",
            "RangeIndex: 10000 entries, 0 to 9999\n",
            "Data columns (total 24 columns):\n",
            " #   Column                  Non-Null Count  Dtype  \n",
            "---  ------                  --------------  -----  \n",
            " 0   budget                  10000 non-null  float64\n",
            " 1   id                      10000 non-null  float64\n",
            " 2   original_language       9997 non-null   object \n",
            " 3   overview                9825 non-null   object \n",
            " 4   popularity              10000 non-null  float64\n",
            " 5   release_date            10000 non-null  object \n",
            " 6   revenue                 10000 non-null  float64\n",
            " 7   runtime                 9961 non-null   float64\n",
            " 8   spoken_languages        10000 non-null  object \n",
            " 9   status                  9991 non-null   object \n",
            " 10  title                   10000 non-null  object \n",
            " 11  vote_average            10000 non-null  float64\n",
            " 12  vote_count              10000 non-null  float64\n",
            " 13  return                  10000 non-null  float64\n",
            " 14  release_year            10000 non-null  int64  \n",
            " 15  name_a                  9633 non-null   object \n",
            " 16  spoken_language_name_a  9388 non-null   object \n",
            " 17  crew_size               10000 non-null  int64  \n",
            " 18  cast_size               10000 non-null  int64  \n",
            " 19  Name_actors             10000 non-null  object \n",
            " 20  Names_crew              10000 non-null  object \n",
            " 21  Director_name           10000 non-null  object \n",
            " 22  D_Name                  10000 non-null  object \n",
            " 23  D_LastName              9942 non-null   object \n",
            "dtypes: float64(8), int64(3), object(13)\n",
            "memory usage: 1.8+ MB\n"
          ]
        }
      ]
    },
    {
      "cell_type": "code",
      "source": [
        "# Para trabajar luego sobre la muestra conocemos algunos de sus títulos\n",
        "# Obtener las primeras 6 filas de la columna \"Title\"\n",
        "resultado = parte['title'].head(20)\n",
        "\n",
        "# Imprimir el resultado\n",
        "print(resultado)"
      ],
      "metadata": {
        "colab": {
          "base_uri": "https://localhost:8080/"
        },
        "id": "Cp5OaONyKDXZ",
        "outputId": "2c2bef57-e8d1-41b1-efaf-9b6dfc6f080c"
      },
      "execution_count": null,
      "outputs": [
        {
          "output_type": "stream",
          "name": "stdout",
          "text": [
            "0                         The Cheap Detective\n",
            "1     The White Haired Witch of Lunar Kingdom\n",
            "2                           Carnival of Souls\n",
            "3                          The Sheltering Sky\n",
            "4                             Erik the Viking\n",
            "5                     My Left Eye Sees Ghosts\n",
            "6                   A One-Way Trip to Antibes\n",
            "7           Duck Dodgers in the 24½th Century\n",
            "8                                   Aces High\n",
            "9                                        Land\n",
            "10                        My Brother's Keeper\n",
            "11                                    Aankhen\n",
            "12              Elite Squad: The Enemy Within\n",
            "13                             The Mouthpiece\n",
            "14                                The Recruit\n",
            "15                                    Rosetta\n",
            "16                   The 3 Worlds of Gulliver\n",
            "17                             Deck the Halls\n",
            "18                                    Zenobia\n",
            "19                         If I Had a Million\n",
            "Name: title, dtype: object\n"
          ]
        }
      ]
    },
    {
      "cell_type": "markdown",
      "source": [
        "Usando la muestra de 10.000 datos es posible realizar el cálculo de las 10 películas mas populares"
      ],
      "metadata": {
        "id": "4hVdYUceKR_T"
      }
    },
    {
      "cell_type": "code",
      "execution_count": null,
      "metadata": {
        "id": "jjnJLN8LlCTd"
      },
      "outputs": [],
      "source": [
        "C = parte[\"vote_average\"].mean()\n",
        "m = parte[\"vote_count\"].quantile(0.9)\n",
        "print(\"C:\", C)\n",
        "print(\"m:\", m)\n",
        "\n",
        "new_movies_df = parte.copy().loc[parte[\"vote_count\"] >= m]\n",
        "print(new_movies_df.shape)\n",
        "\n",
        "def weighted_rating(x, C=C, m=m):\n",
        "    v = x[\"vote_count\"]\n",
        "    R = x[\"vote_average\"]\n",
        "    return (v / (v + m) * R) + (m / (v + m) * C)\n",
        "\n",
        "new_movies_df[\"score\"] = new_movies_df.apply(weighted_rating, axis=1)\n",
        "new_movies_df = new_movies_df.sort_values('score', ascending=False)\n",
        "print(new_movies_df[[\"title\", \"vote_count\", \"vote_average\", \"score\"]].head(10))\n",
        "\n",
        "def plot():\n",
        "    popularity = new_movies_df.sort_values(\"popularity\", ascending=False)\n",
        "    plt.figure(figsize=(12, 6))\n",
        "    plt.barh(popularity[\"title\"].head(10), popularity[\"popularity\"].head(10), align=\"center\", color=\"skyblue\")\n",
        "    plt.gca().invert_yaxis()\n",
        "    plt.title(\"Top 10 movies\")\n",
        "    plt.xlabel(\"Popularity\")\n",
        "    plt.show()\n",
        "\n",
        "plot()\n"
      ]
    },
    {
      "cell_type": "markdown",
      "source": [
        "No obstante, estos resultados cambian si se aplica el mismo código al dataset completo"
      ],
      "metadata": {
        "id": "BEXXKD7KKf8j"
      }
    },
    {
      "cell_type": "code",
      "source": [
        "C = total[\"vote_average\"].mean()\n",
        "m = total[\"vote_count\"].quantile(0.9)\n",
        "print(\"C:\", C)\n",
        "print(\"m:\", m)\n",
        "\n",
        "new_movies_df = total.copy().loc[total[\"vote_count\"] >= m]\n",
        "print(new_movies_df.shape)\n",
        "\n",
        "def weighted_rating(x, C=C, m=m):\n",
        "    v = x[\"vote_count\"]\n",
        "    R = x[\"vote_average\"]\n",
        "    return (v / (v + m) * R) + (m / (v + m) * C)\n",
        "\n",
        "new_movies_df[\"score\"] = new_movies_df.apply(weighted_rating, axis=1)\n",
        "new_movies_df = new_movies_df.sort_values('score', ascending=False)\n",
        "print(new_movies_df[[\"title\", \"vote_count\", \"vote_average\", \"score\"]].head(10))\n",
        "\n",
        "def plot():\n",
        "    popularity = new_movies_df.sort_values(\"popularity\", ascending=False)\n",
        "    plt.figure(figsize=(12, 6))\n",
        "    plt.barh(popularity[\"title\"].head(10), popularity[\"popularity\"].head(10), align=\"center\", color=\"skyblue\")\n",
        "    plt.gca().invert_yaxis()\n",
        "    plt.title(\"Top 10 movies\")\n",
        "    plt.xlabel(\"Popularity\")\n",
        "    plt.show()\n",
        "\n",
        "plot()"
      ],
      "metadata": {
        "colab": {
          "base_uri": "https://localhost:8080/",
          "height": 842
        },
        "id": "XnahfkTSK2vN",
        "outputId": "b77e33f7-f89d-48d7-cfd0-5d99b2bd70a5"
      },
      "execution_count": null,
      "outputs": [
        {
          "output_type": "stream",
          "name": "stdout",
          "text": [
            "C: 5.6809478140862195\n",
            "m: 177.0\n",
            "(4284, 26)\n",
            "                             title  vote_count  vote_average     score\n",
            "311       The Shawshank Redemption      8358.0           8.5  8.441538\n",
            "816                  The Godfather      6024.0           8.5  8.419534\n",
            "10163  Dilwale Dulhania Le Jayenge       661.0           9.1  8.377837\n",
            "12302              The Dark Knight     12269.0           8.3  8.262753\n",
            "2803                    Fight Club      9678.0           8.3  8.252961\n",
            "289                   Pulp Fiction      8670.0           8.3  8.247601\n",
            "517               Schindler's List      4436.0           8.3  8.199507\n",
            "22840                     Whiplash      4376.0           8.3  8.198183\n",
            "5409                 Spirited Away      3968.0           8.3  8.188161\n",
            "2175             Life Is Beautiful      3643.0           8.3  8.178646\n"
          ]
        },
        {
          "output_type": "display_data",
          "data": {
            "text/plain": [
              "<Figure size 1200x600 with 1 Axes>"
            ],
            "image/png": "[encoded data removed]"
          },
          "metadata": {}
        }
      ]
    },
    {
      "cell_type": "markdown",
      "source": [
        "Aqui podemos notar que \"Minions\" tiene el mayor indice de popularidad"
      ],
      "metadata": {
        "id": "ObBDqivJLKxl"
      }
    },
    {
      "cell_type": "markdown",
      "source": [
        "# Filtro basado en contenido\n",
        "\n",
        "En este caso se aplica Cosine_sim\n",
        " y  TfidfVectorizer para obtener resultados dentro del df fraccionado\n",
        "\n"
      ],
      "metadata": {
        "id": "Ai7-brL1PO4e"
      }
    },
    {
      "cell_type": "code",
      "source": [
        "# Obtener las primeras 6 filas de la columna \"Title\"\n",
        "resultado2 = parte['title'].head(30)\n",
        "\n",
        "# Imprimir el resultado\n",
        "print(resultado2)"
      ],
      "metadata": {
        "colab": {
          "base_uri": "https://localhost:8080/"
        },
        "id": "WvFiFNDrPtjc",
        "outputId": "dccd6b89-d3f0-4ed6-f0a4-cf707dc64f4b"
      },
      "execution_count": null,
      "outputs": [
        {
          "output_type": "stream",
          "name": "stdout",
          "text": [
            "0                         The Cheap Detective\n",
            "1     The White Haired Witch of Lunar Kingdom\n",
            "2                           Carnival of Souls\n",
            "3                          The Sheltering Sky\n",
            "4                             Erik the Viking\n",
            "5                     My Left Eye Sees Ghosts\n",
            "6                   A One-Way Trip to Antibes\n",
            "7           Duck Dodgers in the 24½th Century\n",
            "8                                   Aces High\n",
            "9                                        Land\n",
            "10                        My Brother's Keeper\n",
            "11                                    Aankhen\n",
            "12              Elite Squad: The Enemy Within\n",
            "13                             The Mouthpiece\n",
            "14                                The Recruit\n",
            "15                                    Rosetta\n",
            "16                   The 3 Worlds of Gulliver\n",
            "17                             Deck the Halls\n",
            "18                                    Zenobia\n",
            "19                         If I Had a Million\n",
            "20                                Rabbit, Run\n",
            "21                         Picture Mommy Dead\n",
            "22                                      Bliss\n",
            "23                         Comes a Bright Day\n",
            "24                              The Milky Way\n",
            "25      The Amazing Truth About Queen Raquela\n",
            "26                 Sadie's Last Days on Earth\n",
            "27                      The Mouse on the Moon\n",
            "28                                 Set It Off\n",
            "29                            Fashion Victims\n",
            "Name: title, dtype: object\n"
          ]
        }
      ]
    },
    {
      "cell_type": "code",
      "source": [
        "# Filtro basado en contenido\n",
        "tfidf = TfidfVectorizer(stop_words=\"english\") #se convierte el texto de la columna \"overview\" en una representación numérica (TF-IDF)\n",
        "parte[\"overview\"] = parte[\"overview\"].fillna(\"\") # rellena vacios\n",
        "tfidf_matrix = tfidf.fit_transform(parte[\"overview\"]) # se genera la matriz\n",
        "\n",
        "# Similitud\n",
        "cosine_sim = linear_kernel(tfidf_matrix, tfidf_matrix) # similitud coseno entre todas las películas basándose en la matriz TF-IDF\n",
        "# print(cosine_sim.shape) # se puede usar para visualizar la matriz generada hasta aqui\n",
        "\n",
        "indices = pd.Series(parte.index, index=parte[\"title\"]).drop_duplicates()\n",
        "print(indices.head())\n"
      ],
      "metadata": {
        "colab": {
          "base_uri": "https://localhost:8080/"
        },
        "id": "x4QBYdUflgnB",
        "outputId": "abeee1c3-66b2-447b-ea14-1ca4fb33ac74"
      },
      "execution_count": null,
      "outputs": [
        {
          "output_type": "stream",
          "name": "stdout",
          "text": [
            "title\n",
            "The Cheap Detective                        0\n",
            "The White Haired Witch of Lunar Kingdom    1\n",
            "Carnival of Souls                          2\n",
            "The Sheltering Sky                         3\n",
            "Erik the Viking                            4\n",
            "dtype: int64\n"
          ]
        }
      ]
    },
    {
      "cell_type": "code",
      "source": [
        "def get_recommendations(title, cosine_sim=cosine_sim):\n",
        "    idx = indices[title]\n",
        "    sim_scores = list(enumerate(cosine_sim[idx]))\n",
        "    sim_scores = sorted(sim_scores, key=lambda x: x[1], reverse=True)\n",
        "    sim_scores = sim_scores[1:11]\n",
        "    movies_indices = [ind[0] for ind in sim_scores]\n",
        "    movies = parte[\"title\"].iloc[movies_indices]\n",
        "    return movies\n",
        "print(\"# Contenidos recomendados - plot#\")\n",
        "print()\n",
        "print(\"Recomendaciones para Bliss\")\n",
        "print(get_recommendations(\"Bliss\"))\n",
        "print()\n",
        "print(\"Recomendaciones para Erik the Viking\")\n",
        "print(get_recommendations(\"Erik the Viking\"))\n",
        "print()\n",
        "print(\"Recomendaciones para The Cheap Detective\")\n",
        "print(get_recommendations(\"The Cheap Detective\"))"
      ],
      "metadata": {
        "colab": {
          "base_uri": "https://localhost:8080/"
        },
        "id": "5KOC_P4LlkaH",
        "outputId": "b79deaf1-c662-4389-db9c-58f79f28852f"
      },
      "execution_count": null,
      "outputs": [
        {
          "output_type": "stream",
          "name": "stdout",
          "text": [
            "# Contenidos recomendados - plot#\n",
            "\n",
            "Recomendaciones para Bliss\n",
            "8198         The River and Death\n",
            "8085      The Ballad of Narayama\n",
            "7332    The Price of Forgiveness\n",
            "7072              The Blue Light\n",
            "7815       Village of the Damned\n",
            "4109                   Two Women\n",
            "2668                       Fluke\n",
            "249                  Blood Curse\n",
            "9859      A Wolf from Vesyegonsk\n",
            "9720                 The Italian\n",
            "Name: title, dtype: object\n",
            "\n",
            "Recomendaciones para Erik the Viking\n",
            "794                                               Details\n",
            "8422                                Knives of the Avenger\n",
            "9701                                     Almost Christmas\n",
            "4097    The Saga of the Viking Women and Their Voyage ...\n",
            "2990                                             Ragnarok\n",
            "7293                                          The Terrace\n",
            "2668                                                Fluke\n",
            "1975                                The Hideous Sun Demon\n",
            "5233                                          The Commune\n",
            "218                                    The Official Story\n",
            "Name: title, dtype: object\n",
            "\n",
            "Recomendaciones para The Cheap Detective\n",
            "1305              The Long Goodbye\n",
            "5031    The Return of Frank Cannon\n",
            "4606                 Underclassman\n",
            "2118               Wheels on Meals\n",
            "1809               V.I. Warshawski\n",
            "7969                      Red Heat\n",
            "783                     Follow Me!\n",
            "9394                       Exposed\n",
            "5454                       Sisters\n",
            "989                      Rogue Cop\n",
            "Name: title, dtype: object\n"
          ]
        }
      ]
    },
    {
      "cell_type": "markdown",
      "source": [
        "Existen diferentes enfoques y técnicas más sofisticadas para implementar sistemas de recomendación de películas, como el filtrado colaborativo basado en vecinos más cercanos (k-NN) o el uso de técnicas de descomposición de matrices, entre otros. Además, es importante considerar otras características relevantes de las películas, como el género, el director, el año de lanzamiento, entre otras, para obtener recomendaciones más precisas y personalizadas."
      ],
      "metadata": {
        "id": "lFTesP5SJNCM"
      }
    },
    {
      "cell_type": "code",
      "source": [
        "# Seleccionar las columnas relevantes para el sistema de recomendación\n",
        "columns = ['title', 'vote_average', 'popularity']\n",
        "\n",
        "# Eliminar las filas con valores nulos en las columnas seleccionadas\n",
        "df = parte[columns].dropna()\n",
        "\n",
        "# Eliminar duplicados en las valoraciones\n",
        "df = df.drop_duplicates(subset=['title', 'vote_average', 'popularity'], keep='first')\n",
        "df.head(30)"
      ],
      "metadata": {
        "id": "Zau9I5--UsTy"
      },
      "execution_count": null,
      "outputs": []
    },
    {
      "cell_type": "code",
      "source": [
        "\n",
        "# Eliminar duplicados en las valoraciones\n",
        "df = df.drop_duplicates(subset=['title', 'vote_average', 'popularity'], keep='first')\n",
        "\n",
        "# Seleccionar la película \"Bliss\" del dataframe\n",
        "selected_movie = \"Bliss\"\n",
        "\n",
        "# Construir la matriz de valoraciones\n",
        "ratings_matrix = df.pivot(index='title', columns='popularity', values='vote_average')\n",
        "\n",
        "# Reemplazar los valores NaN con ceros\n",
        "ratings_matrix = ratings_matrix.fillna(0)\n",
        "\n",
        "# Calcular la matriz de similitud entre las películas\n",
        "similarity_matrix = pairwise_distances(ratings_matrix.values.T, metric='euclidean')\n",
        "\n",
        "# Obtener el índice de la película seleccionada\n",
        "selected_movie_index = ratings_matrix.index.get_loc(selected_movie)\n",
        "\n",
        "# Obtener los índices de las películas más similares\n",
        "closest_neighbors_indices = similarity_matrix[selected_movie_index].argsort()[1:k+1]\n",
        "\n",
        "# Obtener las películas similares\n",
        "similar_movies = ratings_matrix.iloc[closest_neighbors_indices].index.tolist()\n",
        "\n",
        "print(similar_movies)"
      ],
      "metadata": {
        "colab": {
          "base_uri": "https://localhost:8080/"
        },
        "id": "jWkYZccRV6kH",
        "outputId": "14323460-cd30-450a-a97e-3aee3f49bea6"
      },
      "execution_count": null,
      "outputs": [
        {
          "output_type": "stream",
          "name": "stdout",
          "text": [
            "['$5 a Day', 'Being There', 'According to Greta', 'Dead Weekend', 'Day Night Day Night']\n"
          ]
        }
      ]
    },
    {
      "cell_type": "markdown",
      "source": [
        "Para el desarrollo del sistema a traves de la appi se usará el siguiente código"
      ],
      "metadata": {
        "id": "DlsjatJzUSp5"
      }
    },
    {
      "cell_type": "code",
      "source": [
        "from typing import List\n",
        "\n",
        "def obtener_recomendaciones(similarity_matrix, selected_movie_title):\n",
        "    selected_movie_index = df_Total.index[df_Total[\"title\"].str.lower() == selected_movie_title.lower()][0]\n",
        "    similar_movies_indices = similarity_matrix[selected_movie_index].argsort()[::-1][1:6]\n",
        "    recommended_movies = df_Total.loc[similar_movies_indices, \"title\"].tolist()\n",
        "    return recommended_movies\n",
        "\n",
        "@app.get('/recomendacion/{titulo}')\n",
        "def recomendacion(titulo: str) -> List[str]:\n",
        "    similarity_matrix = calcular_similitud()\n",
        "    recommended_movies = obtener_recomendaciones(similarity_matrix, titulo)\n",
        "    return recommended_movies"
      ],
      "metadata": {
        "id": "6Alce3ObRe2m"
      },
      "execution_count": null,
      "outputs": []
    },
    {
      "cell_type": "code",
      "source": [],
      "metadata": {
        "id": "m_WtXBXRHboa"
      },
      "execution_count": null,
      "outputs": []
    },
    {
      "cell_type": "code",
      "source": [],
      "metadata": {
        "id": "mxk0WkbElb5u"
      },
      "execution_count": null,
      "outputs": []
    }
  ]
}