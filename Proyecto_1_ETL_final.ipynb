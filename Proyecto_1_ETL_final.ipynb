{
  "cells": [
    {
      "cell_type": "markdown",
      "metadata": {
        "id": "w2LxGlHYUAil"
      },
      "source": [
        "# Proyecto Individual n°1\n",
        "\n",
        "## Machine Learning Operations (MLOps)\n",
        "\n",
        "### Proyecto ETL - Fase de Transformación\n",
        "\n",
        "En esta fase del proyecto, se lleva a cabo la transformación de los datos del dataset \"movies_datset.csv\" y \"credits.csv\" para su posterior uso en las consultas de la API.\n",
        "\n",
        "Este proyecto consiste en el desarrollo de una API para la gestión de información de películas.\n",
        "La limpieza de datos se llevará a cabo aplicando una serie de transformaciones, como desanidar campos anidados, rellenar valores nulos, eliminar registros con datos faltantes, formatear fechas y calcular el retorno de inversión. Estas transformaciones permitirán que los datos estén listos para su uso posterior en consultas y análisis.\n",
        "\n",
        "## Tabla de contenido:\n",
        "- Uso\n",
        "- Dependencias\n",
        "- Transformaciones realizadas\n",
        "- Contribuciones\n",
        "\n",
        "### Uso\n",
        "Para este proceso de ETL se utilizaron los conjuntos de datos \"movies_dataset\" y \"credits\" en formato CSV.\n",
        "\n",
        "### Dependencias\n",
        "Este proyecto requiere las siguientes dependencias de Python:\n",
        "- pandas: Biblioteca para el manejo y análisis de datos.\n",
        "- numpy: Biblioteca para operaciones matemáticas y manipulación de matrices.\n",
        "\n",
        "### Transformaciones realizadas: de \"movies_datset.csv\"\n",
        "Se realizarán las siguientes transformaciones a los datos planteadas en \"Consignas_PI.md\":\n",
        "\n",
        "1. Eliminación de columnas no utilizadas: Se eliminarán las columnas que no serán utilizadas en el análisis, incluyendo video, imdb_id, adult, original_title, poster_path y homepage.\n",
        "\n",
        "2. Eliminación de valores nulos: Los registros con valores nulos en el campo release_date serán eliminados.\n",
        "\n",
        "3. Relleno de valores nulos: Los campos revenue y budget que tengan valores nulos serán rellenados con el número 0.\n",
        "\n",
        "4. Cálculo del retorno de inversión: Se creará una columna llamada return que calculará el retorno de inversión dividiendo los campos revenue y budget. Si no hay datos disponibles para calcularlo, se tomará el valor 0.\n",
        "\n",
        "5. Eliminación de valores nulos: Los registros con valores nulos en el campo release_date serán eliminados.\n",
        "\n",
        "6. Formato de fecha: Las fechas en el campo release_date deberán tener el formato AAAA-mm-dd. Además, se creará una nueva columna llamada release_year para extraer el año de la fecha de estreno.\n",
        "\n",
        "7. Desanidar campos anidados: Algunos campos, como belongs_to_collection, production_companies y otros, están anidados y contienen diccionarios o listas como valores en cada fila. Estos campos se desanidarán para que puedan ser unidos al conjunto de datos principal o accedidos directamente para consultas de la API.\n",
        "\n",
        "### Transformaciones realizadas: de \"credits.csv\"\n",
        "\n",
        "Se realizaran estas y otras transformaciones necesarias en ambos datasets.\n",
        "Para simplificar el registro de posibles errores se generan copias y modifica el dataframe por cada paso necesario.  \n",
        "\n",
        "### Contribuciones\n",
        "Las contribuciones a este proyecto son bienvenidas.\n",
        "\n"
      ]
    },
    {
      "cell_type": "code",
      "execution_count": null,
      "metadata": {
        "id": "u3pwssXJUAiq"
      },
      "outputs": [],
      "source": [
        "# Instalación de las librerias necesarias\n",
        "import pandas as pd\n",
        "import numpy as np\n",
        "import ast\n",
        "from ast import literal_eval\n",
        "# Librerias para el archivo \"credits.csv\"\n",
        "import json\n"
      ]
    },
    {
      "cell_type": "markdown",
      "metadata": {
        "id": "iouVcr5MUAir"
      },
      "source": [
        "Se procede a cargar y limpiar el dataset \"movies_dataset.csv\""
      ]
    },
    {
      "cell_type": "code",
      "execution_count": null,
      "metadata": {
        "id": "4ARF6vFEUAir"
      },
      "outputs": [],
      "source": [
        "# Cargar el archivo .csv en el dataframe\n",
        "dfA = pd.read_csv('movies_dataset.csv', low_memory=False)"
      ]
    },
    {
      "cell_type": "code",
      "execution_count": null,
      "metadata": {
        "id": "mVT7mMbTUAis",
        "outputId": "539c4c97-58b0-49ba-ac0d-6cce254c1f20"
      },
      "outputs": [
        {
          "name": "stdout",
          "output_type": "stream",
          "text": [
            "<class 'pandas.core.frame.DataFrame'>\n",
            "RangeIndex: 45466 entries, 0 to 45465\n",
            "Data columns (total 24 columns):\n",
            " #   Column                 Non-Null Count  Dtype  \n",
            "---  ------                 --------------  -----  \n",
            " 0   adult                  45466 non-null  object \n",
            " 1   belongs_to_collection  4494 non-null   object \n",
            " 2   budget                 45466 non-null  object \n",
            " 3   genres                 45466 non-null  object \n",
            " 4   homepage               7782 non-null   object \n",
            " 5   id                     45466 non-null  object \n",
            " 6   imdb_id                45449 non-null  object \n",
            " 7   original_language      45455 non-null  object \n",
            " 8   original_title         45466 non-null  object \n",
            " 9   overview               44512 non-null  object \n",
            " 10  popularity             45461 non-null  object \n",
            " 11  poster_path            45080 non-null  object \n",
            " 12  production_companies   45463 non-null  object \n",
            " 13  production_countries   45463 non-null  object \n",
            " 14  release_date           45379 non-null  object \n",
            " 15  revenue                45460 non-null  float64\n",
            " 16  runtime                45203 non-null  float64\n",
            " 17  spoken_languages       45460 non-null  object \n",
            " 18  status                 45379 non-null  object \n",
            " 19  tagline                20412 non-null  object \n",
            " 20  title                  45460 non-null  object \n",
            " 21  video                  45460 non-null  object \n",
            " 22  vote_average           45460 non-null  float64\n",
            " 23  vote_count             45460 non-null  float64\n",
            "dtypes: float64(4), object(20)\n",
            "memory usage: 8.3+ MB\n"
          ]
        }
      ],
      "source": [
        "# Se observa el contenido del dataframe\n",
        "dfA.info()\n",
        "# Cuenta con 45466 filas × 24 columnas"
      ]
    },
    {
      "cell_type": "code",
      "execution_count": null,
      "metadata": {
        "id": "bQLn1vajUAit",
        "outputId": "fee7593e-9168-4558-f1ce-881ecbfc690b"
      },
      "outputs": [
        {
          "data": {
            "text/html": [
              "<div>\n",
              "<style scoped>\n",
              "    .dataframe tbody tr th:only-of-type {\n",
              "        vertical-align: middle;\n",
              "    }\n",
              "\n",
              "    .dataframe tbody tr th {\n",
              "        vertical-align: top;\n",
              "    }\n",
              "\n",
              "    .dataframe thead th {\n",
              "        text-align: right;\n",
              "    }\n",
              "</style>\n",
              "<table border=\"1\" class=\"dataframe\">\n",
              "  <thead>\n",
              "    <tr style=\"text-align: right;\">\n",
              "      <th></th>\n",
              "      <th>adult</th>\n",
              "      <th>belongs_to_collection</th>\n",
              "      <th>budget</th>\n",
              "      <th>genres</th>\n",
              "      <th>homepage</th>\n",
              "      <th>id</th>\n",
              "      <th>imdb_id</th>\n",
              "      <th>original_language</th>\n",
              "      <th>original_title</th>\n",
              "      <th>overview</th>\n",
              "      <th>...</th>\n",
              "      <th>release_date</th>\n",
              "      <th>revenue</th>\n",
              "      <th>runtime</th>\n",
              "      <th>spoken_languages</th>\n",
              "      <th>status</th>\n",
              "      <th>tagline</th>\n",
              "      <th>title</th>\n",
              "      <th>video</th>\n",
              "      <th>vote_average</th>\n",
              "      <th>vote_count</th>\n",
              "    </tr>\n",
              "  </thead>\n",
              "  <tbody>\n",
              "    <tr>\n",
              "      <th>0</th>\n",
              "      <td>False</td>\n",
              "      <td>{'id': 10194, 'name': 'Toy Story Collection', ...</td>\n",
              "      <td>30000000</td>\n",
              "      <td>[{'id': 16, 'name': 'Animation'}, {'id': 35, '...</td>\n",
              "      <td>http://toystory.disney.com/toy-story</td>\n",
              "      <td>862</td>\n",
              "      <td>tt0114709</td>\n",
              "      <td>en</td>\n",
              "      <td>Toy Story</td>\n",
              "      <td>Led by Woody, Andy's toys live happily in his ...</td>\n",
              "      <td>...</td>\n",
              "      <td>1995-10-30</td>\n",
              "      <td>373554033.0</td>\n",
              "      <td>81.0</td>\n",
              "      <td>[{'iso_639_1': 'en', 'name': 'English'}]</td>\n",
              "      <td>Released</td>\n",
              "      <td>NaN</td>\n",
              "      <td>Toy Story</td>\n",
              "      <td>False</td>\n",
              "      <td>7.7</td>\n",
              "      <td>5415.0</td>\n",
              "    </tr>\n",
              "    <tr>\n",
              "      <th>1</th>\n",
              "      <td>False</td>\n",
              "      <td>NaN</td>\n",
              "      <td>65000000</td>\n",
              "      <td>[{'id': 12, 'name': 'Adventure'}, {'id': 14, '...</td>\n",
              "      <td>NaN</td>\n",
              "      <td>8844</td>\n",
              "      <td>tt0113497</td>\n",
              "      <td>en</td>\n",
              "      <td>Jumanji</td>\n",
              "      <td>When siblings Judy and Peter discover an encha...</td>\n",
              "      <td>...</td>\n",
              "      <td>1995-12-15</td>\n",
              "      <td>262797249.0</td>\n",
              "      <td>104.0</td>\n",
              "      <td>[{'iso_639_1': 'en', 'name': 'English'}, {'iso...</td>\n",
              "      <td>Released</td>\n",
              "      <td>Roll the dice and unleash the excitement!</td>\n",
              "      <td>Jumanji</td>\n",
              "      <td>False</td>\n",
              "      <td>6.9</td>\n",
              "      <td>2413.0</td>\n",
              "    </tr>\n",
              "    <tr>\n",
              "      <th>2</th>\n",
              "      <td>False</td>\n",
              "      <td>{'id': 119050, 'name': 'Grumpy Old Men Collect...</td>\n",
              "      <td>0</td>\n",
              "      <td>[{'id': 10749, 'name': 'Romance'}, {'id': 35, ...</td>\n",
              "      <td>NaN</td>\n",
              "      <td>15602</td>\n",
              "      <td>tt0113228</td>\n",
              "      <td>en</td>\n",
              "      <td>Grumpier Old Men</td>\n",
              "      <td>A family wedding reignites the ancient feud be...</td>\n",
              "      <td>...</td>\n",
              "      <td>1995-12-22</td>\n",
              "      <td>0.0</td>\n",
              "      <td>101.0</td>\n",
              "      <td>[{'iso_639_1': 'en', 'name': 'English'}]</td>\n",
              "      <td>Released</td>\n",
              "      <td>Still Yelling. Still Fighting. Still Ready for...</td>\n",
              "      <td>Grumpier Old Men</td>\n",
              "      <td>False</td>\n",
              "      <td>6.5</td>\n",
              "      <td>92.0</td>\n",
              "    </tr>\n",
              "  </tbody>\n",
              "</table>\n",
              "<p>3 rows × 24 columns</p>\n",
              "</div>"
            ],
            "text/plain": [
              "   adult                              belongs_to_collection    budget  \\\n",
              "0  False  {'id': 10194, 'name': 'Toy Story Collection', ...  30000000   \n",
              "1  False                                                NaN  65000000   \n",
              "2  False  {'id': 119050, 'name': 'Grumpy Old Men Collect...         0   \n",
              "\n",
              "                                              genres  \\\n",
              "0  [{'id': 16, 'name': 'Animation'}, {'id': 35, '...   \n",
              "1  [{'id': 12, 'name': 'Adventure'}, {'id': 14, '...   \n",
              "2  [{'id': 10749, 'name': 'Romance'}, {'id': 35, ...   \n",
              "\n",
              "                               homepage     id    imdb_id original_language  \\\n",
              "0  http://toystory.disney.com/toy-story    862  tt0114709                en   \n",
              "1                                   NaN   8844  tt0113497                en   \n",
              "2                                   NaN  15602  tt0113228                en   \n",
              "\n",
              "     original_title                                           overview  ...  \\\n",
              "0         Toy Story  Led by Woody, Andy's toys live happily in his ...  ...   \n",
              "1           Jumanji  When siblings Judy and Peter discover an encha...  ...   \n",
              "2  Grumpier Old Men  A family wedding reignites the ancient feud be...  ...   \n",
              "\n",
              "  release_date      revenue runtime  \\\n",
              "0   1995-10-30  373554033.0    81.0   \n",
              "1   1995-12-15  262797249.0   104.0   \n",
              "2   1995-12-22          0.0   101.0   \n",
              "\n",
              "                                    spoken_languages    status  \\\n",
              "0           [{'iso_639_1': 'en', 'name': 'English'}]  Released   \n",
              "1  [{'iso_639_1': 'en', 'name': 'English'}, {'iso...  Released   \n",
              "2           [{'iso_639_1': 'en', 'name': 'English'}]  Released   \n",
              "\n",
              "                                             tagline             title  video  \\\n",
              "0                                                NaN         Toy Story  False   \n",
              "1          Roll the dice and unleash the excitement!           Jumanji  False   \n",
              "2  Still Yelling. Still Fighting. Still Ready for...  Grumpier Old Men  False   \n",
              "\n",
              "  vote_average vote_count  \n",
              "0          7.7     5415.0  \n",
              "1          6.9     2413.0  \n",
              "2          6.5       92.0  \n",
              "\n",
              "[3 rows x 24 columns]"
            ]
          },
          "execution_count": 5,
          "metadata": {},
          "output_type": "execute_result"
        }
      ],
      "source": [
        "#Revisión de los primeros 3 elementos del dataframe\n",
        "dfA.head(3)"
      ]
    },
    {
      "cell_type": "markdown",
      "metadata": {
        "id": "XMruird8UAit"
      },
      "source": [
        "Consigna:\n",
        "1. Eliminación de columnas no utilizadas: Se eliminarán las columnas que no serán utilizadas en el análisis, incluyendo:  video, imdb_id, adult, original_title, poster_path y homepage."
      ]
    },
    {
      "cell_type": "code",
      "execution_count": null,
      "metadata": {
        "id": "UFG0RATZUAiu",
        "outputId": "c3e59c51-028e-4527-d41b-97fab02cafda"
      },
      "outputs": [
        {
          "name": "stdout",
          "output_type": "stream",
          "text": [
            "<class 'pandas.core.frame.DataFrame'>\n",
            "RangeIndex: 45466 entries, 0 to 45465\n",
            "Data columns (total 18 columns):\n",
            " #   Column                 Non-Null Count  Dtype  \n",
            "---  ------                 --------------  -----  \n",
            " 0   belongs_to_collection  4494 non-null   object \n",
            " 1   budget                 45466 non-null  object \n",
            " 2   genres                 45466 non-null  object \n",
            " 3   id                     45466 non-null  object \n",
            " 4   original_language      45455 non-null  object \n",
            " 5   overview               44512 non-null  object \n",
            " 6   popularity             45461 non-null  object \n",
            " 7   production_companies   45463 non-null  object \n",
            " 8   production_countries   45463 non-null  object \n",
            " 9   release_date           45379 non-null  object \n",
            " 10  revenue                45460 non-null  float64\n",
            " 11  runtime                45203 non-null  float64\n",
            " 12  spoken_languages       45460 non-null  object \n",
            " 13  status                 45379 non-null  object \n",
            " 14  tagline                20412 non-null  object \n",
            " 15  title                  45460 non-null  object \n",
            " 16  vote_average           45460 non-null  float64\n",
            " 17  vote_count             45460 non-null  float64\n",
            "dtypes: float64(4), object(14)\n",
            "memory usage: 6.2+ MB\n"
          ]
        }
      ],
      "source": [
        "# Eliminar las 6 columnas que no serán utilizadas\n",
        "dfB = dfA.copy()\n",
        "dfB2= dfB[['video', 'imdb_id', 'adult', 'original_title', 'poster_path', 'homepage']]\n",
        "dfB.drop(columns=dfB2, inplace=True)\n",
        "dfB.info() #quedan 18 columnas"
      ]
    },
    {
      "cell_type": "markdown",
      "metadata": {
        "id": "vRXgITemUAiv"
      },
      "source": [
        "Consigna:\n",
        "\n",
        "2. Eliminación de valores nulos: Los registros con valores nulos en el campo release_date serán eliminados."
      ]
    },
    {
      "cell_type": "code",
      "execution_count": null,
      "metadata": {
        "id": "IoSDk90_UAiv",
        "outputId": "c19682bd-7dae-4516-e08a-ae14b2e91ac2"
      },
      "outputs": [
        {
          "name": "stdout",
          "output_type": "stream",
          "text": [
            "Número de valores nulos en la columna 'release_date': 87\n"
          ]
        }
      ],
      "source": [
        "# Contar los valores nulos en la columna 'release_date'\n",
        "nulos = dfB['release_date'].isnull().sum()\n",
        "\n",
        "# Imprimir el número de valores nulos\n",
        "print(\"Número de valores nulos en la columna 'release_date':\", nulos)"
      ]
    },
    {
      "cell_type": "code",
      "execution_count": null,
      "metadata": {
        "id": "xSGt0RxXUAiw"
      },
      "outputs": [],
      "source": [
        "# Eliminar las filas con valores nulos en la columna 'release_date'\n",
        "dfC = dfB.copy()\n",
        "dfC.dropna(subset=['release_date'], inplace=True)"
      ]
    },
    {
      "cell_type": "code",
      "execution_count": null,
      "metadata": {
        "id": "bw4oiWXRUAiw",
        "outputId": "07e9c3e2-449b-4115-961d-d93ab9aada74"
      },
      "outputs": [
        {
          "name": "stdout",
          "output_type": "stream",
          "text": [
            "Número de valores nulos en la columna 'release_date': 0\n"
          ]
        }
      ],
      "source": [
        "# Contar los valores nulos en la columna 'release_date'\n",
        "nulos = dfC['release_date'].isnull().sum()\n",
        "\n",
        "# Imprimir el número de valores nulos\n",
        "print(\"Número de valores nulos en la columna 'release_date':\", nulos)"
      ]
    },
    {
      "cell_type": "markdown",
      "metadata": {
        "id": "mLGt2bf-UAiw"
      },
      "source": [
        "Consigna:\n",
        "\n",
        "3. Relleno de valores nulos: Los campos revenue y budget que tengan valores nulos serán rellenados con el número 0."
      ]
    },
    {
      "cell_type": "code",
      "execution_count": null,
      "metadata": {
        "id": "ZhWvwmSyUAiw",
        "outputId": "844df73d-9fea-4b6b-ed87-72b983dd7739"
      },
      "outputs": [
        {
          "name": "stdout",
          "output_type": "stream",
          "text": [
            "budget     0\n",
            "revenue    3\n",
            "dtype: int64\n"
          ]
        }
      ],
      "source": [
        "# Contar los valores nulos en las columnas 'budget' y 'revenue'\n",
        "nulos = dfC[['budget', 'revenue']].isnull().sum()\n",
        "\n",
        "# Imprimir el número de valores nulos\n",
        "print(nulos)\n",
        "# tenemos 0 en budget y 3 en revenue"
      ]
    },
    {
      "cell_type": "code",
      "execution_count": null,
      "metadata": {
        "id": "ezIggR-KUAix"
      },
      "outputs": [],
      "source": [
        "# Reemplazar los valores nulos por cero en la columna 'budget'\n",
        "dfC['budget'].fillna(0, inplace=True)\n",
        "dfC['revenue'].fillna(0, inplace=True)"
      ]
    },
    {
      "cell_type": "code",
      "execution_count": null,
      "metadata": {
        "id": "ku0DcwX6UAix",
        "outputId": "f88366a6-1616-4fe6-88bd-de26974cafa9"
      },
      "outputs": [
        {
          "name": "stdout",
          "output_type": "stream",
          "text": [
            "budget     0\n",
            "revenue    0\n",
            "dtype: int64\n"
          ]
        }
      ],
      "source": [
        "# Contar los valores nulos en las columnas 'budget' y 'revenue'\n",
        "nulos = dfC[['budget', 'revenue']].isnull().sum()\n",
        "\n",
        "# Imprimir el número de valores nulos\n",
        "print(nulos)\n",
        "# ahora tenemos 0 valores nulos en ambas columnas"
      ]
    },
    {
      "cell_type": "markdown",
      "metadata": {
        "id": "ujjIWPLOUAix"
      },
      "source": [
        "Consigna:\n",
        "\n",
        "4. Cálculo del retorno de inversión: Se creará una columna llamada \"return\" que calculará el retorno de inversión dividiendo los campos \"revenue\" y \"budget\". Si no hay datos disponibles para calcularlo, se tomará el valor 0."
      ]
    },
    {
      "cell_type": "code",
      "execution_count": null,
      "metadata": {
        "id": "iZS3MxcJUAix",
        "outputId": "d218bbf9-c9b2-4408-8858-df51fc626653"
      },
      "outputs": [
        {
          "name": "stdout",
          "output_type": "stream",
          "text": [
            "Tipo de variable en 'budget': object\n",
            "Tipo de variable en 'revenue': float64\n"
          ]
        }
      ],
      "source": [
        "# Se procede a obtener los tipos de variables en las columnas 'budget' y 'revenue'\n",
        "tipo_budget = dfC['budget'].dtype\n",
        "tipo_revenue = dfC['revenue'].dtype\n",
        "\n",
        "# Imprimir los tipos de variables\n",
        "print(\"Tipo de variable en 'budget':\", tipo_budget)\n",
        "print(\"Tipo de variable en 'revenue':\", tipo_revenue)"
      ]
    },
    {
      "cell_type": "code",
      "execution_count": null,
      "metadata": {
        "id": "RDelDk8BUAix"
      },
      "outputs": [],
      "source": [
        "# Para poder operar entre columnas, es necesario que sean el mismo tipo de dato\n",
        "# Se convierte la columna 'budget' a tipo numérico (float) y asigna los valores no válidos como NaN\n",
        "dfC['budget'] = pd.to_numeric(dfC['budget'], errors='coerce')\n"
      ]
    },
    {
      "cell_type": "code",
      "execution_count": null,
      "metadata": {
        "id": "FNeDllNjUAiy"
      },
      "outputs": [],
      "source": [
        "# Se crea la columna 'return' calculando la división: 'revenue' / 'budget' y asignando el valor 0 en casos de valores nulos o no numéricos\n",
        "dfC['return'] = dfC['revenue'] / dfC['budget']\n",
        "dfC['return'] = dfC['return'].fillna(value=0)\n",
        "dfC['return'].replace([np.inf, -np.inf], 0, inplace=True)"
      ]
    },
    {
      "cell_type": "code",
      "execution_count": null,
      "metadata": {
        "id": "GB8D09CkUAiy",
        "outputId": "b217f3f0-c3f9-442e-a23a-77ce681fd613"
      },
      "outputs": [
        {
          "data": {
            "text/html": [
              "<div>\n",
              "<style scoped>\n",
              "    .dataframe tbody tr th:only-of-type {\n",
              "        vertical-align: middle;\n",
              "    }\n",
              "\n",
              "    .dataframe tbody tr th {\n",
              "        vertical-align: top;\n",
              "    }\n",
              "\n",
              "    .dataframe thead th {\n",
              "        text-align: right;\n",
              "    }\n",
              "</style>\n",
              "<table border=\"1\" class=\"dataframe\">\n",
              "  <thead>\n",
              "    <tr style=\"text-align: right;\">\n",
              "      <th></th>\n",
              "      <th>belongs_to_collection</th>\n",
              "      <th>budget</th>\n",
              "      <th>genres</th>\n",
              "      <th>id</th>\n",
              "      <th>original_language</th>\n",
              "      <th>overview</th>\n",
              "      <th>popularity</th>\n",
              "      <th>production_companies</th>\n",
              "      <th>production_countries</th>\n",
              "      <th>release_date</th>\n",
              "      <th>revenue</th>\n",
              "      <th>runtime</th>\n",
              "      <th>spoken_languages</th>\n",
              "      <th>status</th>\n",
              "      <th>tagline</th>\n",
              "      <th>title</th>\n",
              "      <th>vote_average</th>\n",
              "      <th>vote_count</th>\n",
              "      <th>return</th>\n",
              "    </tr>\n",
              "  </thead>\n",
              "  <tbody>\n",
              "    <tr>\n",
              "      <th>0</th>\n",
              "      <td>{'id': 10194, 'name': 'Toy Story Collection', ...</td>\n",
              "      <td>30000000.0</td>\n",
              "      <td>[{'id': 16, 'name': 'Animation'}, {'id': 35, '...</td>\n",
              "      <td>862</td>\n",
              "      <td>en</td>\n",
              "      <td>Led by Woody, Andy's toys live happily in his ...</td>\n",
              "      <td>21.946943</td>\n",
              "      <td>[{'name': 'Pixar Animation Studios', 'id': 3}]</td>\n",
              "      <td>[{'iso_3166_1': 'US', 'name': 'United States o...</td>\n",
              "      <td>1995-10-30</td>\n",
              "      <td>373554033.0</td>\n",
              "      <td>81.0</td>\n",
              "      <td>[{'iso_639_1': 'en', 'name': 'English'}]</td>\n",
              "      <td>Released</td>\n",
              "      <td>NaN</td>\n",
              "      <td>Toy Story</td>\n",
              "      <td>7.7</td>\n",
              "      <td>5415.0</td>\n",
              "      <td>12.451801</td>\n",
              "    </tr>\n",
              "    <tr>\n",
              "      <th>1</th>\n",
              "      <td>NaN</td>\n",
              "      <td>65000000.0</td>\n",
              "      <td>[{'id': 12, 'name': 'Adventure'}, {'id': 14, '...</td>\n",
              "      <td>8844</td>\n",
              "      <td>en</td>\n",
              "      <td>When siblings Judy and Peter discover an encha...</td>\n",
              "      <td>17.015539</td>\n",
              "      <td>[{'name': 'TriStar Pictures', 'id': 559}, {'na...</td>\n",
              "      <td>[{'iso_3166_1': 'US', 'name': 'United States o...</td>\n",
              "      <td>1995-12-15</td>\n",
              "      <td>262797249.0</td>\n",
              "      <td>104.0</td>\n",
              "      <td>[{'iso_639_1': 'en', 'name': 'English'}, {'iso...</td>\n",
              "      <td>Released</td>\n",
              "      <td>Roll the dice and unleash the excitement!</td>\n",
              "      <td>Jumanji</td>\n",
              "      <td>6.9</td>\n",
              "      <td>2413.0</td>\n",
              "      <td>4.043035</td>\n",
              "    </tr>\n",
              "    <tr>\n",
              "      <th>2</th>\n",
              "      <td>{'id': 119050, 'name': 'Grumpy Old Men Collect...</td>\n",
              "      <td>0.0</td>\n",
              "      <td>[{'id': 10749, 'name': 'Romance'}, {'id': 35, ...</td>\n",
              "      <td>15602</td>\n",
              "      <td>en</td>\n",
              "      <td>A family wedding reignites the ancient feud be...</td>\n",
              "      <td>11.7129</td>\n",
              "      <td>[{'name': 'Warner Bros.', 'id': 6194}, {'name'...</td>\n",
              "      <td>[{'iso_3166_1': 'US', 'name': 'United States o...</td>\n",
              "      <td>1995-12-22</td>\n",
              "      <td>0.0</td>\n",
              "      <td>101.0</td>\n",
              "      <td>[{'iso_639_1': 'en', 'name': 'English'}]</td>\n",
              "      <td>Released</td>\n",
              "      <td>Still Yelling. Still Fighting. Still Ready for...</td>\n",
              "      <td>Grumpier Old Men</td>\n",
              "      <td>6.5</td>\n",
              "      <td>92.0</td>\n",
              "      <td>0.000000</td>\n",
              "    </tr>\n",
              "  </tbody>\n",
              "</table>\n",
              "</div>"
            ],
            "text/plain": [
              "                               belongs_to_collection      budget  \\\n",
              "0  {'id': 10194, 'name': 'Toy Story Collection', ...  30000000.0   \n",
              "1                                                NaN  65000000.0   \n",
              "2  {'id': 119050, 'name': 'Grumpy Old Men Collect...         0.0   \n",
              "\n",
              "                                              genres     id original_language  \\\n",
              "0  [{'id': 16, 'name': 'Animation'}, {'id': 35, '...    862                en   \n",
              "1  [{'id': 12, 'name': 'Adventure'}, {'id': 14, '...   8844                en   \n",
              "2  [{'id': 10749, 'name': 'Romance'}, {'id': 35, ...  15602                en   \n",
              "\n",
              "                                            overview popularity  \\\n",
              "0  Led by Woody, Andy's toys live happily in his ...  21.946943   \n",
              "1  When siblings Judy and Peter discover an encha...  17.015539   \n",
              "2  A family wedding reignites the ancient feud be...    11.7129   \n",
              "\n",
              "                                production_companies  \\\n",
              "0     [{'name': 'Pixar Animation Studios', 'id': 3}]   \n",
              "1  [{'name': 'TriStar Pictures', 'id': 559}, {'na...   \n",
              "2  [{'name': 'Warner Bros.', 'id': 6194}, {'name'...   \n",
              "\n",
              "                                production_countries release_date  \\\n",
              "0  [{'iso_3166_1': 'US', 'name': 'United States o...   1995-10-30   \n",
              "1  [{'iso_3166_1': 'US', 'name': 'United States o...   1995-12-15   \n",
              "2  [{'iso_3166_1': 'US', 'name': 'United States o...   1995-12-22   \n",
              "\n",
              "       revenue  runtime                                   spoken_languages  \\\n",
              "0  373554033.0     81.0           [{'iso_639_1': 'en', 'name': 'English'}]   \n",
              "1  262797249.0    104.0  [{'iso_639_1': 'en', 'name': 'English'}, {'iso...   \n",
              "2          0.0    101.0           [{'iso_639_1': 'en', 'name': 'English'}]   \n",
              "\n",
              "     status                                            tagline  \\\n",
              "0  Released                                                NaN   \n",
              "1  Released          Roll the dice and unleash the excitement!   \n",
              "2  Released  Still Yelling. Still Fighting. Still Ready for...   \n",
              "\n",
              "              title  vote_average  vote_count     return  \n",
              "0         Toy Story           7.7      5415.0  12.451801  \n",
              "1           Jumanji           6.9      2413.0   4.043035  \n",
              "2  Grumpier Old Men           6.5        92.0   0.000000  "
            ]
          },
          "execution_count": 16,
          "metadata": {},
          "output_type": "execute_result"
        }
      ],
      "source": [
        "# Podemos revisar las 3 primeras filas despues de estas modificaciones\n",
        "dfC.head(3)"
      ]
    },
    {
      "cell_type": "code",
      "execution_count": null,
      "metadata": {
        "id": "cDK2n56MUAiy",
        "outputId": "03cf525b-68db-4075-b3f3-4515aa3dfc57"
      },
      "outputs": [
        {
          "data": {
            "text/plain": [
              "12.4518011"
            ]
          },
          "execution_count": 17,
          "metadata": {},
          "output_type": "execute_result"
        }
      ],
      "source": [
        "# Si revisamos el primer valor (primera celda): 'revenue' / 'budget'  = return\n",
        "373554033.0 / 30000000.0  # en este caso: 12.451801"
      ]
    },
    {
      "cell_type": "code",
      "execution_count": null,
      "metadata": {
        "id": "tCzy4ILFUAiy",
        "outputId": "7717ab5f-a31d-42cb-ed1d-517c70d89b8a"
      },
      "outputs": [
        {
          "name": "stdout",
          "output_type": "stream",
          "text": [
            "Número de valores igual a 0 en 'return': 39998\n"
          ]
        }
      ],
      "source": [
        "# Contar los valores igual a 0 en la columna 'return'\n",
        "ceros = dfC['return'].value_counts()[0]\n",
        "\n",
        "# Imprimir el número de valores 0 en 'return'\n",
        "print(\"Número de valores igual a 0 en 'return':\", ceros)"
      ]
    },
    {
      "cell_type": "code",
      "execution_count": null,
      "metadata": {
        "id": "PHKbV5osUAiy",
        "outputId": "dffca6e8-ea4f-49a6-9f2e-741b14630434"
      },
      "outputs": [
        {
          "name": "stdout",
          "output_type": "stream",
          "text": [
            "Número de valores igual a 0 en 'budegt': 36490\n"
          ]
        }
      ],
      "source": [
        "# Contar los valores igual a 0 en la columna 'budget'\n",
        "ceros = dfC['budget'].value_counts()[0]\n",
        "\n",
        "# Imprimir el número de valores 0 en 'budget'\n",
        "print(\"Número de valores igual a 0 en 'budegt':\", ceros)"
      ]
    },
    {
      "cell_type": "markdown",
      "metadata": {
        "id": "VDCCMMvKUAiy"
      },
      "source": [
        "Consigna:\n",
        "\n",
        "5. Eliminación de valores nulos: Los registros con valores nulos en el campo release_date serán eliminados."
      ]
    },
    {
      "cell_type": "code",
      "execution_count": null,
      "metadata": {
        "id": "wX6eaRCcUAiz",
        "outputId": "c84e4256-0b67-4a37-9104-b214b11e22a4"
      },
      "outputs": [
        {
          "name": "stdout",
          "output_type": "stream",
          "text": [
            "Número de valores nulos en 'release_date': 0\n"
          ]
        }
      ],
      "source": [
        "# Contar los valores nulos en la columna 'release_date'\n",
        "nulos = dfC['release_date'].isnull().sum()\n",
        "\n",
        "# Imprimir el número de valores nulos\n",
        "print(\"Número de valores nulos en 'release_date':\", nulos)"
      ]
    },
    {
      "cell_type": "code",
      "execution_count": null,
      "metadata": {
        "id": "X4mz_apbUAiz",
        "outputId": "b6997a89-ec19-4b61-e41c-aa937366605f"
      },
      "outputs": [
        {
          "name": "stdout",
          "output_type": "stream",
          "text": [
            "Número de valores igual a 0 en 'release_date': 136\n"
          ]
        }
      ],
      "source": [
        "# Contar los valores igual a 0 en la columna 'release_date'\n",
        "ceros = dfC['release_date'].value_counts()[0]\n",
        "\n",
        "# Imprimir el número de valores 0\n",
        "print(\"Número de valores igual a 0 en 'release_date':\", ceros)"
      ]
    },
    {
      "cell_type": "markdown",
      "metadata": {
        "id": "61N4fsquUAiz"
      },
      "source": [
        "Podemos notar que el dataframe en la columna \"release_date\" no tiene nulos, y posee 136 ceros"
      ]
    },
    {
      "cell_type": "code",
      "execution_count": null,
      "metadata": {
        "id": "5SmW9lR_UAiz"
      },
      "outputs": [],
      "source": [
        "# Para eliminar los valores nulos de la columna 'release_date' se puede aplicar dropna\n",
        "dfD = dfC.copy()\n",
        "dfD.dropna(subset=['release_date'], inplace=True)"
      ]
    },
    {
      "cell_type": "markdown",
      "metadata": {
        "id": "Faox4XfJUAiz"
      },
      "source": [
        "Consigna:\n",
        "\n",
        "6. Formato de fecha: Las fechas en el campo \"release_date\" deberán tener el formato AAAA-mm-dd. Además, se creará una nueva columna llamada \"release_year\" para extraer el año de la fecha de estreno."
      ]
    },
    {
      "cell_type": "code",
      "execution_count": null,
      "metadata": {
        "id": "wrUc2QZYUAiz",
        "outputId": "cada2ea4-b8e3-40e4-ed1c-d484e45728e7"
      },
      "outputs": [
        {
          "name": "stdout",
          "output_type": "stream",
          "text": [
            "<class 'pandas.core.frame.DataFrame'>\n",
            "Int64Index: 45379 entries, 0 to 45465\n",
            "Data columns (total 19 columns):\n",
            " #   Column                 Non-Null Count  Dtype         \n",
            "---  ------                 --------------  -----         \n",
            " 0   belongs_to_collection  4491 non-null   object        \n",
            " 1   budget                 45376 non-null  float64       \n",
            " 2   genres                 45379 non-null  object        \n",
            " 3   id                     45379 non-null  object        \n",
            " 4   original_language      45368 non-null  object        \n",
            " 5   overview               44438 non-null  object        \n",
            " 6   popularity             45377 non-null  object        \n",
            " 7   production_companies   45379 non-null  object        \n",
            " 8   production_countries   45379 non-null  object        \n",
            " 9   release_date           45376 non-null  datetime64[ns]\n",
            " 10  revenue                45379 non-null  float64       \n",
            " 11  runtime                45130 non-null  float64       \n",
            " 12  spoken_languages       45376 non-null  object        \n",
            " 13  status                 45296 non-null  object        \n",
            " 14  tagline                20398 non-null  object        \n",
            " 15  title                  45376 non-null  object        \n",
            " 16  vote_average           45376 non-null  float64       \n",
            " 17  vote_count             45376 non-null  float64       \n",
            " 18  return                 45379 non-null  float64       \n",
            "dtypes: datetime64[ns](1), float64(6), object(12)\n",
            "memory usage: 6.9+ MB\n"
          ]
        }
      ],
      "source": [
        "# Se realiza una copia del df con los cambios hasta el momento\n",
        "dfE = dfD.copy()\n",
        "\n",
        "# Convertir la columna 'release_date' a tipo datetime con formato AAAA-mm-dd\n",
        "dfE['release_date'] = pd.to_datetime(dfE['release_date'], format='%Y-%m-%d', errors='coerce')\n",
        "\n",
        "# Imprimir el DataFrame actualizado\n",
        "dfE.info()\n",
        "# Ahora la columna \"release_date\" tiene el formato: datetime64[ns]"
      ]
    },
    {
      "cell_type": "code",
      "execution_count": null,
      "metadata": {
        "id": "t14PHialUAiz",
        "outputId": "90a53bc6-8b72-4802-bd9f-e538ef993d20"
      },
      "outputs": [
        {
          "name": "stdout",
          "output_type": "stream",
          "text": [
            "Número de valores nulos en 'release_date': 3\n"
          ]
        }
      ],
      "source": [
        "# Contar los valores nulos en la columna 'release_date'\n",
        "nulos = dfE['release_date'].isnull().sum()\n",
        "\n",
        "# Imprimir el número de valores nulos\n",
        "print(\"Número de valores nulos en 'release_date':\", nulos)"
      ]
    },
    {
      "cell_type": "code",
      "execution_count": null,
      "metadata": {
        "id": "dTWT1bzVUAiz"
      },
      "outputs": [],
      "source": [
        "# Eliminar los valores nulos de la columna 'release_date' (consigna 2)\n",
        "dfF = dfE.copy()\n",
        "dfF.dropna(subset=['release_date'], inplace=True)"
      ]
    },
    {
      "cell_type": "code",
      "execution_count": null,
      "metadata": {
        "id": "CGDoimrGUAi0",
        "outputId": "e0d82514-af3f-4ab7-9036-b67fef077034"
      },
      "outputs": [
        {
          "name": "stdout",
          "output_type": "stream",
          "text": [
            "Número de valores nulos en 'release_date': 0\n"
          ]
        }
      ],
      "source": [
        "# Se revisan los valores nulos en la columna\n",
        "nulos = dfF['release_date'].isnull().sum()\n",
        "\n",
        "# Imprimir el número de valores nulos\n",
        "print(\"Número de valores nulos en 'release_date':\", nulos)"
      ]
    },
    {
      "cell_type": "code",
      "execution_count": null,
      "metadata": {
        "id": "iburrMahUAi0",
        "outputId": "d606377b-b561-4fb9-dfe0-3b9af62e19e6"
      },
      "outputs": [
        {
          "name": "stdout",
          "output_type": "stream",
          "text": [
            "2008-01-01    136\n",
            "2009-01-01    121\n",
            "2007-01-01    118\n",
            "2005-01-01    111\n",
            "2006-01-01    101\n",
            "             ... \n",
            "1957-09-26      1\n",
            "1938-11-21      1\n",
            "1936-08-19      1\n",
            "2010-01-27      1\n",
            "1917-10-21      1\n",
            "Name: release_date, Length: 17333, dtype: int64\n"
          ]
        }
      ],
      "source": [
        "# Se revisan los valores de la nueva columna\n",
        "# Por ejemplo se puede revisar la frecuencia de valores en la columna 'release_date'\n",
        "frecuencia_valores = dfF['release_date'].value_counts()\n",
        "\n",
        "# Imprimir la frecuencia de valores\n",
        "print(frecuencia_valores)"
      ]
    },
    {
      "cell_type": "markdown",
      "metadata": {
        "id": "4GwDptwGUAi0"
      },
      "source": [
        "Se creará una nueva columna llamada release_year para extraer el año de la fecha de estreno."
      ]
    },
    {
      "cell_type": "code",
      "execution_count": null,
      "metadata": {
        "id": "YAvELLGrUAi0"
      },
      "outputs": [],
      "source": [
        "dfG = dfF.copy()\n",
        "\n",
        "# Crear la columna 'release_year' con los valores de los años\n",
        "dfG['release_year'] = dfG['release_date'].dt.year\n"
      ]
    },
    {
      "cell_type": "code",
      "execution_count": null,
      "metadata": {
        "id": "naevjJ6hUAi0",
        "outputId": "df90cae1-6b94-46d8-a207-2fd226c5f7e5"
      },
      "outputs": [
        {
          "name": "stdout",
          "output_type": "stream",
          "text": [
            "<class 'pandas.core.frame.DataFrame'>\n",
            "Int64Index: 45376 entries, 0 to 45465\n",
            "Data columns (total 20 columns):\n",
            " #   Column                 Non-Null Count  Dtype         \n",
            "---  ------                 --------------  -----         \n",
            " 0   belongs_to_collection  4488 non-null   object        \n",
            " 1   budget                 45376 non-null  float64       \n",
            " 2   genres                 45376 non-null  object        \n",
            " 3   id                     45376 non-null  object        \n",
            " 4   original_language      45365 non-null  object        \n",
            " 5   overview               44435 non-null  object        \n",
            " 6   popularity             45376 non-null  object        \n",
            " 7   production_companies   45376 non-null  object        \n",
            " 8   production_countries   45376 non-null  object        \n",
            " 9   release_date           45376 non-null  datetime64[ns]\n",
            " 10  revenue                45376 non-null  float64       \n",
            " 11  runtime                45130 non-null  float64       \n",
            " 12  spoken_languages       45376 non-null  object        \n",
            " 13  status                 45296 non-null  object        \n",
            " 14  tagline                20398 non-null  object        \n",
            " 15  title                  45376 non-null  object        \n",
            " 16  vote_average           45376 non-null  float64       \n",
            " 17  vote_count             45376 non-null  float64       \n",
            " 18  return                 45376 non-null  float64       \n",
            " 19  release_year           45376 non-null  int64         \n",
            "dtypes: datetime64[ns](1), float64(6), int64(1), object(12)\n",
            "memory usage: 7.3+ MB\n"
          ]
        }
      ],
      "source": [
        "dfG.info() # Podemos ver que se creo la columna con los años"
      ]
    },
    {
      "cell_type": "code",
      "execution_count": null,
      "metadata": {
        "id": "CvcIrCnuUAi0",
        "outputId": "ab6264bc-48b4-4c33-e753-7addc8f8dcf9"
      },
      "outputs": [
        {
          "data": {
            "text/html": [
              "<div>\n",
              "<style scoped>\n",
              "    .dataframe tbody tr th:only-of-type {\n",
              "        vertical-align: middle;\n",
              "    }\n",
              "\n",
              "    .dataframe tbody tr th {\n",
              "        vertical-align: top;\n",
              "    }\n",
              "\n",
              "    .dataframe thead th {\n",
              "        text-align: right;\n",
              "    }\n",
              "</style>\n",
              "<table border=\"1\" class=\"dataframe\">\n",
              "  <thead>\n",
              "    <tr style=\"text-align: right;\">\n",
              "      <th></th>\n",
              "      <th>belongs_to_collection</th>\n",
              "      <th>budget</th>\n",
              "      <th>genres</th>\n",
              "      <th>id</th>\n",
              "      <th>original_language</th>\n",
              "      <th>overview</th>\n",
              "      <th>popularity</th>\n",
              "      <th>production_companies</th>\n",
              "      <th>production_countries</th>\n",
              "      <th>release_date</th>\n",
              "      <th>revenue</th>\n",
              "      <th>runtime</th>\n",
              "      <th>spoken_languages</th>\n",
              "      <th>status</th>\n",
              "      <th>tagline</th>\n",
              "      <th>title</th>\n",
              "      <th>vote_average</th>\n",
              "      <th>vote_count</th>\n",
              "      <th>return</th>\n",
              "      <th>release_year</th>\n",
              "    </tr>\n",
              "  </thead>\n",
              "  <tbody>\n",
              "    <tr>\n",
              "      <th>20956</th>\n",
              "      <td>NaN</td>\n",
              "      <td>0.0</td>\n",
              "      <td>[{'id': 18, 'name': 'Drama'}, {'id': 35, 'name...</td>\n",
              "      <td>27861</td>\n",
              "      <td>ru</td>\n",
              "      <td>Georgian bush pilot Valentin (Valiko) Mizandar...</td>\n",
              "      <td>1.479568</td>\n",
              "      <td>[{'name': 'Mosfilm', 'id': 5120}, {'name': 'Qa...</td>\n",
              "      <td>[{'iso_3166_1': 'GE', 'name': 'Georgia'}, {'is...</td>\n",
              "      <td>1977-06-06</td>\n",
              "      <td>0.0</td>\n",
              "      <td>92.0</td>\n",
              "      <td>[{'iso_639_1': 'hy', 'name': ''}, {'iso_639_1'...</td>\n",
              "      <td>Released</td>\n",
              "      <td>NaN</td>\n",
              "      <td>Mimino</td>\n",
              "      <td>7.6</td>\n",
              "      <td>16.0</td>\n",
              "      <td>0.000000</td>\n",
              "      <td>1977</td>\n",
              "    </tr>\n",
              "    <tr>\n",
              "      <th>32307</th>\n",
              "      <td>{'id': 357173, 'name': 'Sinister Collection', ...</td>\n",
              "      <td>10000000.0</td>\n",
              "      <td>[{'id': 27, 'name': 'Horror'}]</td>\n",
              "      <td>283445</td>\n",
              "      <td>en</td>\n",
              "      <td>A young mother and her twin sons move into a r...</td>\n",
              "      <td>17.602928</td>\n",
              "      <td>[{'name': 'Alliance Films', 'id': 2514}, {'nam...</td>\n",
              "      <td>[{'iso_3166_1': 'US', 'name': 'United States o...</td>\n",
              "      <td>2015-08-19</td>\n",
              "      <td>52882018.0</td>\n",
              "      <td>97.0</td>\n",
              "      <td>[{'iso_639_1': 'en', 'name': 'English'}]</td>\n",
              "      <td>Released</td>\n",
              "      <td>Be careful, children at play.</td>\n",
              "      <td>Sinister 2</td>\n",
              "      <td>5.5</td>\n",
              "      <td>605.0</td>\n",
              "      <td>5.288202</td>\n",
              "      <td>2015</td>\n",
              "    </tr>\n",
              "    <tr>\n",
              "      <th>14836</th>\n",
              "      <td>NaN</td>\n",
              "      <td>0.0</td>\n",
              "      <td>[{'id': 18, 'name': 'Drama'}, {'id': 10769, 'n...</td>\n",
              "      <td>55522</td>\n",
              "      <td>fi</td>\n",
              "      <td>With few options, newly pardoned convict Leila...</td>\n",
              "      <td>0.570175</td>\n",
              "      <td>[]</td>\n",
              "      <td>[]</td>\n",
              "      <td>2009-04-03</td>\n",
              "      <td>0.0</td>\n",
              "      <td>74.0</td>\n",
              "      <td>[{'iso_639_1': 'fi', 'name': 'suomi'}]</td>\n",
              "      <td>Released</td>\n",
              "      <td>NaN</td>\n",
              "      <td>Letters to Father Jacob</td>\n",
              "      <td>6.8</td>\n",
              "      <td>8.0</td>\n",
              "      <td>0.000000</td>\n",
              "      <td>2009</td>\n",
              "    </tr>\n",
              "  </tbody>\n",
              "</table>\n",
              "</div>"
            ],
            "text/plain": [
              "                                   belongs_to_collection      budget  \\\n",
              "20956                                                NaN         0.0   \n",
              "32307  {'id': 357173, 'name': 'Sinister Collection', ...  10000000.0   \n",
              "14836                                                NaN         0.0   \n",
              "\n",
              "                                                  genres      id  \\\n",
              "20956  [{'id': 18, 'name': 'Drama'}, {'id': 35, 'name...   27861   \n",
              "32307                     [{'id': 27, 'name': 'Horror'}]  283445   \n",
              "14836  [{'id': 18, 'name': 'Drama'}, {'id': 10769, 'n...   55522   \n",
              "\n",
              "      original_language                                           overview  \\\n",
              "20956                ru  Georgian bush pilot Valentin (Valiko) Mizandar...   \n",
              "32307                en  A young mother and her twin sons move into a r...   \n",
              "14836                fi  With few options, newly pardoned convict Leila...   \n",
              "\n",
              "      popularity                               production_companies  \\\n",
              "20956   1.479568  [{'name': 'Mosfilm', 'id': 5120}, {'name': 'Qa...   \n",
              "32307  17.602928  [{'name': 'Alliance Films', 'id': 2514}, {'nam...   \n",
              "14836   0.570175                                                 []   \n",
              "\n",
              "                                    production_countries release_date  \\\n",
              "20956  [{'iso_3166_1': 'GE', 'name': 'Georgia'}, {'is...   1977-06-06   \n",
              "32307  [{'iso_3166_1': 'US', 'name': 'United States o...   2015-08-19   \n",
              "14836                                                 []   2009-04-03   \n",
              "\n",
              "          revenue  runtime                                   spoken_languages  \\\n",
              "20956         0.0     92.0  [{'iso_639_1': 'hy', 'name': ''}, {'iso_639_1'...   \n",
              "32307  52882018.0     97.0           [{'iso_639_1': 'en', 'name': 'English'}]   \n",
              "14836         0.0     74.0             [{'iso_639_1': 'fi', 'name': 'suomi'}]   \n",
              "\n",
              "         status                        tagline                    title  \\\n",
              "20956  Released                            NaN                   Mimino   \n",
              "32307  Released  Be careful, children at play.               Sinister 2   \n",
              "14836  Released                            NaN  Letters to Father Jacob   \n",
              "\n",
              "       vote_average  vote_count    return  release_year  \n",
              "20956           7.6        16.0  0.000000          1977  \n",
              "32307           5.5       605.0  5.288202          2015  \n",
              "14836           6.8         8.0  0.000000          2009  "
            ]
          },
          "execution_count": 30,
          "metadata": {},
          "output_type": "execute_result"
        }
      ],
      "source": [
        "# Podemos visualizar algunos de estos datos\n",
        "dfG.sample(3)"
      ]
    },
    {
      "cell_type": "markdown",
      "metadata": {
        "id": "jFai7zN9UAi4"
      },
      "source": [
        "Consigna:\n",
        "\n",
        "7. Desanidar campos anidados: Algunos campos, como \"belongs_to_collection\", \"production_companies\" y otros, están anidados y contienen diccionarios o listas como valores en cada fila. Estos campos se desanidarán para que puedan ser unidos al conjunto de datos principal o accedidos directamente para consultas de la API.\n",
        "\n",
        "Según el diccionario:\n",
        "- belongs_to_collection: Un diccionario que indica a que franquicia o serie de películas pertenece la película\n",
        "- genres: Un diccionario que indica todos los géneros asociados a la película\n",
        "- production_companies - Lista con las compañias productoras asociadas a la película\n",
        "- production_countries - Lista con los países donde se produjo la película\n",
        "- spoken_languages - Lista con los idiomas que se hablan en la pelicula"
      ]
    },
    {
      "cell_type": "code",
      "execution_count": null,
      "metadata": {
        "id": "4R04ldjjUAi4",
        "outputId": "dc35e8fc-0f83-46c8-cbe8-8f51fd91fb38"
      },
      "outputs": [
        {
          "name": "stdout",
          "output_type": "stream",
          "text": [
            "{'id': 96871, 'name': 'Father of the Bride Collection', 'poster_path': '/nts4iOmNnq7GNicycMJ9pSAn204.jpg', 'backdrop_path': '/7qwE57OVZmMJChBpLEbJEmzUydk.jpg'}\n"
          ]
        }
      ],
      "source": [
        "# BELONGS_TO_COLECTION:\n",
        "\n",
        "# Revisar el contenido de una celdam en este caso \"belongs_to_colection\"\n",
        "contenido = dfG.iloc[4, dfG.columns.get_loc(\"belongs_to_collection\")]\n",
        "print(contenido)"
      ]
    },
    {
      "cell_type": "code",
      "execution_count": null,
      "metadata": {
        "id": "DTwNQIf-UAi5"
      },
      "outputs": [],
      "source": [
        "dfH= dfG.copy()\n",
        "\n",
        "# Función para desanidar la columna 'belongs_to_collection'\n",
        "def parse_dict(text):\n",
        "    try:\n",
        "        return ast.literal_eval(text)\n",
        "    except (ValueError, SyntaxError):\n",
        "        return {}\n",
        "\n",
        "# Desanidar la columna 'belongs_to_collection'\n",
        "dfH['belongs_to_collection'] = dfH['belongs_to_collection'].apply(parse_dict)\n",
        "\n",
        "# Crear columnas adicionales para cada clave del diccionario - se agrega \"a\" para identificar las columnas que proceden de columnas anidadas\n",
        "dfH[['collection_id_a', 'collection_name_a', 'collection_poster_path_a', 'collection_backdrop_path_a']] = pd.DataFrame(dfH['belongs_to_collection'].tolist(), index=dfH.index)\n",
        "\n"
      ]
    },
    {
      "cell_type": "code",
      "execution_count": null,
      "metadata": {
        "id": "t49-SyyQUAi5",
        "outputId": "40b9249a-1d0c-4f3a-df8e-535ee0429f0d"
      },
      "outputs": [
        {
          "name": "stdout",
          "output_type": "stream",
          "text": [
            "<class 'pandas.core.frame.DataFrame'>\n",
            "Int64Index: 45376 entries, 0 to 45465\n",
            "Data columns (total 24 columns):\n",
            " #   Column                      Non-Null Count  Dtype         \n",
            "---  ------                      --------------  -----         \n",
            " 0   belongs_to_collection       45376 non-null  object        \n",
            " 1   budget                      45376 non-null  float64       \n",
            " 2   genres                      45376 non-null  object        \n",
            " 3   id                          45376 non-null  object        \n",
            " 4   original_language           45365 non-null  object        \n",
            " 5   overview                    44435 non-null  object        \n",
            " 6   popularity                  45376 non-null  object        \n",
            " 7   production_companies        45376 non-null  object        \n",
            " 8   production_countries        45376 non-null  object        \n",
            " 9   release_date                45376 non-null  datetime64[ns]\n",
            " 10  revenue                     45376 non-null  float64       \n",
            " 11  runtime                     45130 non-null  float64       \n",
            " 12  spoken_languages            45376 non-null  object        \n",
            " 13  status                      45296 non-null  object        \n",
            " 14  tagline                     20398 non-null  object        \n",
            " 15  title                       45376 non-null  object        \n",
            " 16  vote_average                45376 non-null  float64       \n",
            " 17  vote_count                  45376 non-null  float64       \n",
            " 18  return                      45376 non-null  float64       \n",
            " 19  release_year                45376 non-null  int64         \n",
            " 20  collection_id_a             4488 non-null   float64       \n",
            " 21  collection_name_a           4488 non-null   object        \n",
            " 22  collection_poster_path_a    3945 non-null   object        \n",
            " 23  collection_backdrop_path_a  3260 non-null   object        \n",
            "dtypes: datetime64[ns](1), float64(7), int64(1), object(15)\n",
            "memory usage: 8.7+ MB\n"
          ]
        }
      ],
      "source": [
        "dfH.info() # Podemos notar que se crearon las columnas indicadas previamente"
      ]
    },
    {
      "cell_type": "code",
      "execution_count": null,
      "metadata": {
        "id": "DkK7r2ObUAi5",
        "outputId": "c0b210da-e8ea-498f-c715-447bbd7328b3"
      },
      "outputs": [
        {
          "data": {
            "text/html": [
              "<div>\n",
              "<style scoped>\n",
              "    .dataframe tbody tr th:only-of-type {\n",
              "        vertical-align: middle;\n",
              "    }\n",
              "\n",
              "    .dataframe tbody tr th {\n",
              "        vertical-align: top;\n",
              "    }\n",
              "\n",
              "    .dataframe thead th {\n",
              "        text-align: right;\n",
              "    }\n",
              "</style>\n",
              "<table border=\"1\" class=\"dataframe\">\n",
              "  <thead>\n",
              "    <tr style=\"text-align: right;\">\n",
              "      <th></th>\n",
              "      <th>belongs_to_collection</th>\n",
              "      <th>budget</th>\n",
              "      <th>genres</th>\n",
              "      <th>id</th>\n",
              "      <th>original_language</th>\n",
              "      <th>overview</th>\n",
              "      <th>popularity</th>\n",
              "      <th>production_companies</th>\n",
              "      <th>production_countries</th>\n",
              "      <th>release_date</th>\n",
              "      <th>...</th>\n",
              "      <th>tagline</th>\n",
              "      <th>title</th>\n",
              "      <th>vote_average</th>\n",
              "      <th>vote_count</th>\n",
              "      <th>return</th>\n",
              "      <th>release_year</th>\n",
              "      <th>collection_id_a</th>\n",
              "      <th>collection_name_a</th>\n",
              "      <th>collection_poster_path_a</th>\n",
              "      <th>collection_backdrop_path_a</th>\n",
              "    </tr>\n",
              "  </thead>\n",
              "  <tbody>\n",
              "    <tr>\n",
              "      <th>0</th>\n",
              "      <td>{'id': 10194, 'name': 'Toy Story Collection', ...</td>\n",
              "      <td>30000000.0</td>\n",
              "      <td>[{'id': 16, 'name': 'Animation'}, {'id': 35, '...</td>\n",
              "      <td>862</td>\n",
              "      <td>en</td>\n",
              "      <td>Led by Woody, Andy's toys live happily in his ...</td>\n",
              "      <td>21.946943</td>\n",
              "      <td>[{'name': 'Pixar Animation Studios', 'id': 3}]</td>\n",
              "      <td>[{'iso_3166_1': 'US', 'name': 'United States o...</td>\n",
              "      <td>1995-10-30</td>\n",
              "      <td>...</td>\n",
              "      <td>NaN</td>\n",
              "      <td>Toy Story</td>\n",
              "      <td>7.7</td>\n",
              "      <td>5415.0</td>\n",
              "      <td>12.451801</td>\n",
              "      <td>1995</td>\n",
              "      <td>10194.0</td>\n",
              "      <td>Toy Story Collection</td>\n",
              "      <td>/7G9915LfUQ2lVfwMEEhDsn3kT4B.jpg</td>\n",
              "      <td>/9FBwqcd9IRruEDUrTdcaafOMKUq.jpg</td>\n",
              "    </tr>\n",
              "    <tr>\n",
              "      <th>1</th>\n",
              "      <td>{}</td>\n",
              "      <td>65000000.0</td>\n",
              "      <td>[{'id': 12, 'name': 'Adventure'}, {'id': 14, '...</td>\n",
              "      <td>8844</td>\n",
              "      <td>en</td>\n",
              "      <td>When siblings Judy and Peter discover an encha...</td>\n",
              "      <td>17.015539</td>\n",
              "      <td>[{'name': 'TriStar Pictures', 'id': 559}, {'na...</td>\n",
              "      <td>[{'iso_3166_1': 'US', 'name': 'United States o...</td>\n",
              "      <td>1995-12-15</td>\n",
              "      <td>...</td>\n",
              "      <td>Roll the dice and unleash the excitement!</td>\n",
              "      <td>Jumanji</td>\n",
              "      <td>6.9</td>\n",
              "      <td>2413.0</td>\n",
              "      <td>4.043035</td>\n",
              "      <td>1995</td>\n",
              "      <td>NaN</td>\n",
              "      <td>NaN</td>\n",
              "      <td>NaN</td>\n",
              "      <td>NaN</td>\n",
              "    </tr>\n",
              "    <tr>\n",
              "      <th>2</th>\n",
              "      <td>{'id': 119050, 'name': 'Grumpy Old Men Collect...</td>\n",
              "      <td>0.0</td>\n",
              "      <td>[{'id': 10749, 'name': 'Romance'}, {'id': 35, ...</td>\n",
              "      <td>15602</td>\n",
              "      <td>en</td>\n",
              "      <td>A family wedding reignites the ancient feud be...</td>\n",
              "      <td>11.7129</td>\n",
              "      <td>[{'name': 'Warner Bros.', 'id': 6194}, {'name'...</td>\n",
              "      <td>[{'iso_3166_1': 'US', 'name': 'United States o...</td>\n",
              "      <td>1995-12-22</td>\n",
              "      <td>...</td>\n",
              "      <td>Still Yelling. Still Fighting. Still Ready for...</td>\n",
              "      <td>Grumpier Old Men</td>\n",
              "      <td>6.5</td>\n",
              "      <td>92.0</td>\n",
              "      <td>0.000000</td>\n",
              "      <td>1995</td>\n",
              "      <td>119050.0</td>\n",
              "      <td>Grumpy Old Men Collection</td>\n",
              "      <td>/nLvUdqgPgm3F85NMCii9gVFUcet.jpg</td>\n",
              "      <td>/hypTnLot2z8wpFS7qwsQHW1uV8u.jpg</td>\n",
              "    </tr>\n",
              "  </tbody>\n",
              "</table>\n",
              "<p>3 rows × 24 columns</p>\n",
              "</div>"
            ],
            "text/plain": [
              "                               belongs_to_collection      budget  \\\n",
              "0  {'id': 10194, 'name': 'Toy Story Collection', ...  30000000.0   \n",
              "1                                                 {}  65000000.0   \n",
              "2  {'id': 119050, 'name': 'Grumpy Old Men Collect...         0.0   \n",
              "\n",
              "                                              genres     id original_language  \\\n",
              "0  [{'id': 16, 'name': 'Animation'}, {'id': 35, '...    862                en   \n",
              "1  [{'id': 12, 'name': 'Adventure'}, {'id': 14, '...   8844                en   \n",
              "2  [{'id': 10749, 'name': 'Romance'}, {'id': 35, ...  15602                en   \n",
              "\n",
              "                                            overview popularity  \\\n",
              "0  Led by Woody, Andy's toys live happily in his ...  21.946943   \n",
              "1  When siblings Judy and Peter discover an encha...  17.015539   \n",
              "2  A family wedding reignites the ancient feud be...    11.7129   \n",
              "\n",
              "                                production_companies  \\\n",
              "0     [{'name': 'Pixar Animation Studios', 'id': 3}]   \n",
              "1  [{'name': 'TriStar Pictures', 'id': 559}, {'na...   \n",
              "2  [{'name': 'Warner Bros.', 'id': 6194}, {'name'...   \n",
              "\n",
              "                                production_countries release_date  ...  \\\n",
              "0  [{'iso_3166_1': 'US', 'name': 'United States o...   1995-10-30  ...   \n",
              "1  [{'iso_3166_1': 'US', 'name': 'United States o...   1995-12-15  ...   \n",
              "2  [{'iso_3166_1': 'US', 'name': 'United States o...   1995-12-22  ...   \n",
              "\n",
              "                                             tagline             title  \\\n",
              "0                                                NaN         Toy Story   \n",
              "1          Roll the dice and unleash the excitement!           Jumanji   \n",
              "2  Still Yelling. Still Fighting. Still Ready for...  Grumpier Old Men   \n",
              "\n",
              "  vote_average vote_count     return release_year  collection_id_a  \\\n",
              "0          7.7     5415.0  12.451801         1995          10194.0   \n",
              "1          6.9     2413.0   4.043035         1995              NaN   \n",
              "2          6.5       92.0   0.000000         1995         119050.0   \n",
              "\n",
              "           collection_name_a          collection_poster_path_a  \\\n",
              "0       Toy Story Collection  /7G9915LfUQ2lVfwMEEhDsn3kT4B.jpg   \n",
              "1                        NaN                               NaN   \n",
              "2  Grumpy Old Men Collection  /nLvUdqgPgm3F85NMCii9gVFUcet.jpg   \n",
              "\n",
              "         collection_backdrop_path_a  \n",
              "0  /9FBwqcd9IRruEDUrTdcaafOMKUq.jpg  \n",
              "1                               NaN  \n",
              "2  /hypTnLot2z8wpFS7qwsQHW1uV8u.jpg  \n",
              "\n",
              "[3 rows x 24 columns]"
            ]
          },
          "execution_count": 34,
          "metadata": {},
          "output_type": "execute_result"
        }
      ],
      "source": [
        "# Podemos ver el contenido de las primeras 3 filas en estas nuevas columnas creadas\n",
        "dfH.head(3)"
      ]
    },
    {
      "cell_type": "code",
      "execution_count": null,
      "metadata": {
        "id": "6fjqnMoRUAi5",
        "outputId": "66eabc3f-ae42-458a-b0e4-95f153833b47"
      },
      "outputs": [
        {
          "name": "stdout",
          "output_type": "stream",
          "text": [
            "[{'id': 35, 'name': 'Comedy'}, {'id': 18, 'name': 'Drama'}, {'id': 10749, 'name': 'Romance'}]\n",
            "[{'id': 28, 'name': 'Action'}, {'id': 80, 'name': 'Crime'}, {'id': 18, 'name': 'Drama'}, {'id': 53, 'name': 'Thriller'}]\n"
          ]
        }
      ],
      "source": [
        "# De forma análoga para GENRES\n",
        "\n",
        "dfI = dfH.copy()\n",
        "\n",
        "#Revisar el contenido de una celda\n",
        "contenido = dfI.iloc[10, dfI.columns.get_loc(\"genres\")]\n",
        "contenido2 = dfI.iloc[5, dfI.columns.get_loc(\"genres\")]\n",
        "print(contenido)\n",
        "print(contenido2) # vemos que contiene cantidades variables de \"id\" y \"name\""
      ]
    },
    {
      "cell_type": "code",
      "execution_count": null,
      "metadata": {
        "id": "loRBcIm4UAi5"
      },
      "outputs": [],
      "source": [
        "# Crear columnas vacías para almacenar los valores desanidados\n",
        "dfI['id_a'] = ''\n",
        "dfI['name_a'] = ''\n",
        "\n",
        "# Iterar sobre cada fila del DataFrame\n",
        "for index, row in dfI.iterrows():\n",
        "    genres_str = row['genres']  # Obtener la cadena de géneros para la fila actual\n",
        "\n",
        "    # Convertir la cadena en una lista de diccionarios\n",
        "    try:\n",
        "        genres_list = ast.literal_eval(genres_str)\n",
        "    except (ValueError, SyntaxError):\n",
        "        genres_list = []\n",
        "\n",
        "    ids = []\n",
        "    names = []\n",
        "\n",
        "    # Iterar sobre cada diccionario de género en la lista\n",
        "    for genre in genres_list:\n",
        "        ids.append(str(genre['id']))  # Agregar el 'id' del género a la lista 'ids'\n",
        "        names.append(genre['name'])  # Agregar el 'name' del género a la lista 'names'\n",
        "\n",
        "    # Unir los valores de 'ids' y 'names' separados por \",\"\n",
        "    id_str = ','.join(ids)\n",
        "    name_str = ','.join(names)\n",
        "\n",
        "    # Asignar los valores desanidados de \"id\" y \"name\" a las columnas correspondientes\n",
        "    dfI.at[index, 'id_a'] = id_str\n",
        "    dfI.at[index, 'name_a'] = name_str\n"
      ]
    },
    {
      "cell_type": "code",
      "execution_count": null,
      "metadata": {
        "id": "-kr-pa3SUAi6",
        "outputId": "0e806313-5df8-45bf-fac3-0bbcf70e332e"
      },
      "outputs": [
        {
          "name": "stdout",
          "output_type": "stream",
          "text": [
            "<class 'pandas.core.frame.DataFrame'>\n",
            "Int64Index: 45376 entries, 0 to 45465\n",
            "Data columns (total 26 columns):\n",
            " #   Column                      Non-Null Count  Dtype         \n",
            "---  ------                      --------------  -----         \n",
            " 0   belongs_to_collection       45376 non-null  object        \n",
            " 1   budget                      45376 non-null  float64       \n",
            " 2   genres                      45376 non-null  object        \n",
            " 3   id                          45376 non-null  object        \n",
            " 4   original_language           45365 non-null  object        \n",
            " 5   overview                    44435 non-null  object        \n",
            " 6   popularity                  45376 non-null  object        \n",
            " 7   production_companies        45376 non-null  object        \n",
            " 8   production_countries        45376 non-null  object        \n",
            " 9   release_date                45376 non-null  datetime64[ns]\n",
            " 10  revenue                     45376 non-null  float64       \n",
            " 11  runtime                     45130 non-null  float64       \n",
            " 12  spoken_languages            45376 non-null  object        \n",
            " 13  status                      45296 non-null  object        \n",
            " 14  tagline                     20398 non-null  object        \n",
            " 15  title                       45376 non-null  object        \n",
            " 16  vote_average                45376 non-null  float64       \n",
            " 17  vote_count                  45376 non-null  float64       \n",
            " 18  return                      45376 non-null  float64       \n",
            " 19  release_year                45376 non-null  int64         \n",
            " 20  collection_id_a             4488 non-null   float64       \n",
            " 21  collection_name_a           4488 non-null   object        \n",
            " 22  collection_poster_path_a    3945 non-null   object        \n",
            " 23  collection_backdrop_path_a  3260 non-null   object        \n",
            " 24  id_a                        45376 non-null  object        \n",
            " 25  name_a                      45376 non-null  object        \n",
            "dtypes: datetime64[ns](1), float64(7), int64(1), object(17)\n",
            "memory usage: 10.4+ MB\n"
          ]
        }
      ],
      "source": [
        "# Se visualiza que se crearon las columnas solicitadas\n",
        "dfI.info()"
      ]
    },
    {
      "cell_type": "code",
      "execution_count": null,
      "metadata": {
        "id": "UrF6yk4HUAi6",
        "outputId": "26f56af6-fbfe-4b89-e991-d7c8e66ba453"
      },
      "outputs": [
        {
          "data": {
            "text/html": [
              "<div>\n",
              "<style scoped>\n",
              "    .dataframe tbody tr th:only-of-type {\n",
              "        vertical-align: middle;\n",
              "    }\n",
              "\n",
              "    .dataframe tbody tr th {\n",
              "        vertical-align: top;\n",
              "    }\n",
              "\n",
              "    .dataframe thead th {\n",
              "        text-align: right;\n",
              "    }\n",
              "</style>\n",
              "<table border=\"1\" class=\"dataframe\">\n",
              "  <thead>\n",
              "    <tr style=\"text-align: right;\">\n",
              "      <th></th>\n",
              "      <th>belongs_to_collection</th>\n",
              "      <th>budget</th>\n",
              "      <th>genres</th>\n",
              "      <th>id</th>\n",
              "      <th>original_language</th>\n",
              "      <th>overview</th>\n",
              "      <th>popularity</th>\n",
              "      <th>production_companies</th>\n",
              "      <th>production_countries</th>\n",
              "      <th>release_date</th>\n",
              "      <th>...</th>\n",
              "      <th>vote_average</th>\n",
              "      <th>vote_count</th>\n",
              "      <th>return</th>\n",
              "      <th>release_year</th>\n",
              "      <th>collection_id_a</th>\n",
              "      <th>collection_name_a</th>\n",
              "      <th>collection_poster_path_a</th>\n",
              "      <th>collection_backdrop_path_a</th>\n",
              "      <th>id_a</th>\n",
              "      <th>name_a</th>\n",
              "    </tr>\n",
              "  </thead>\n",
              "  <tbody>\n",
              "    <tr>\n",
              "      <th>45463</th>\n",
              "      <td>{}</td>\n",
              "      <td>0.0</td>\n",
              "      <td>[{'id': 28, 'name': 'Action'}, {'id': 18, 'nam...</td>\n",
              "      <td>67758</td>\n",
              "      <td>en</td>\n",
              "      <td>When one of her hits goes wrong, a professiona...</td>\n",
              "      <td>0.903007</td>\n",
              "      <td>[{'name': 'American World Pictures', 'id': 6165}]</td>\n",
              "      <td>[{'iso_3166_1': 'US', 'name': 'United States o...</td>\n",
              "      <td>2003-08-01</td>\n",
              "      <td>...</td>\n",
              "      <td>3.8</td>\n",
              "      <td>6.0</td>\n",
              "      <td>0.0</td>\n",
              "      <td>2003</td>\n",
              "      <td>NaN</td>\n",
              "      <td>NaN</td>\n",
              "      <td>NaN</td>\n",
              "      <td>NaN</td>\n",
              "      <td>28,18,53</td>\n",
              "      <td>Action,Drama,Thriller</td>\n",
              "    </tr>\n",
              "    <tr>\n",
              "      <th>45464</th>\n",
              "      <td>{}</td>\n",
              "      <td>0.0</td>\n",
              "      <td>[]</td>\n",
              "      <td>227506</td>\n",
              "      <td>en</td>\n",
              "      <td>In a small town live two brothers, one a minis...</td>\n",
              "      <td>0.003503</td>\n",
              "      <td>[{'name': 'Yermoliev', 'id': 88753}]</td>\n",
              "      <td>[{'iso_3166_1': 'RU', 'name': 'Russia'}]</td>\n",
              "      <td>1917-10-21</td>\n",
              "      <td>...</td>\n",
              "      <td>0.0</td>\n",
              "      <td>0.0</td>\n",
              "      <td>0.0</td>\n",
              "      <td>1917</td>\n",
              "      <td>NaN</td>\n",
              "      <td>NaN</td>\n",
              "      <td>NaN</td>\n",
              "      <td>NaN</td>\n",
              "      <td></td>\n",
              "      <td></td>\n",
              "    </tr>\n",
              "    <tr>\n",
              "      <th>45465</th>\n",
              "      <td>{}</td>\n",
              "      <td>0.0</td>\n",
              "      <td>[]</td>\n",
              "      <td>461257</td>\n",
              "      <td>en</td>\n",
              "      <td>50 years after decriminalisation of homosexual...</td>\n",
              "      <td>0.163015</td>\n",
              "      <td>[]</td>\n",
              "      <td>[{'iso_3166_1': 'GB', 'name': 'United Kingdom'}]</td>\n",
              "      <td>2017-06-09</td>\n",
              "      <td>...</td>\n",
              "      <td>0.0</td>\n",
              "      <td>0.0</td>\n",
              "      <td>0.0</td>\n",
              "      <td>2017</td>\n",
              "      <td>NaN</td>\n",
              "      <td>NaN</td>\n",
              "      <td>NaN</td>\n",
              "      <td>NaN</td>\n",
              "      <td></td>\n",
              "      <td></td>\n",
              "    </tr>\n",
              "  </tbody>\n",
              "</table>\n",
              "<p>3 rows × 26 columns</p>\n",
              "</div>"
            ],
            "text/plain": [
              "      belongs_to_collection  budget  \\\n",
              "45463                    {}     0.0   \n",
              "45464                    {}     0.0   \n",
              "45465                    {}     0.0   \n",
              "\n",
              "                                                  genres      id  \\\n",
              "45463  [{'id': 28, 'name': 'Action'}, {'id': 18, 'nam...   67758   \n",
              "45464                                                 []  227506   \n",
              "45465                                                 []  461257   \n",
              "\n",
              "      original_language                                           overview  \\\n",
              "45463                en  When one of her hits goes wrong, a professiona...   \n",
              "45464                en  In a small town live two brothers, one a minis...   \n",
              "45465                en  50 years after decriminalisation of homosexual...   \n",
              "\n",
              "      popularity                               production_companies  \\\n",
              "45463   0.903007  [{'name': 'American World Pictures', 'id': 6165}]   \n",
              "45464   0.003503               [{'name': 'Yermoliev', 'id': 88753}]   \n",
              "45465   0.163015                                                 []   \n",
              "\n",
              "                                    production_countries release_date  ...  \\\n",
              "45463  [{'iso_3166_1': 'US', 'name': 'United States o...   2003-08-01  ...   \n",
              "45464           [{'iso_3166_1': 'RU', 'name': 'Russia'}]   1917-10-21  ...   \n",
              "45465   [{'iso_3166_1': 'GB', 'name': 'United Kingdom'}]   2017-06-09  ...   \n",
              "\n",
              "       vote_average  vote_count return release_year collection_id_a  \\\n",
              "45463           3.8         6.0    0.0         2003             NaN   \n",
              "45464           0.0         0.0    0.0         1917             NaN   \n",
              "45465           0.0         0.0    0.0         2017             NaN   \n",
              "\n",
              "      collection_name_a  collection_poster_path_a  collection_backdrop_path_a  \\\n",
              "45463               NaN                       NaN                         NaN   \n",
              "45464               NaN                       NaN                         NaN   \n",
              "45465               NaN                       NaN                         NaN   \n",
              "\n",
              "           id_a                 name_a  \n",
              "45463  28,18,53  Action,Drama,Thriller  \n",
              "45464                                   \n",
              "45465                                   \n",
              "\n",
              "[3 rows x 26 columns]"
            ]
          },
          "execution_count": 38,
          "metadata": {},
          "output_type": "execute_result"
        }
      ],
      "source": [
        "# Podemos visualizar los últimos 3 valores de las columnas nuevas\n",
        "dfI.tail(3)"
      ]
    },
    {
      "cell_type": "markdown",
      "metadata": {
        "id": "d53-u9djUAi6"
      },
      "source": [
        "Luego se procede a desanidar las listas:\n",
        "\n",
        "- production_companies - Lista con las compañias productoras asociadas a la película\n",
        "- production_countries - Lista con los países donde se produjo la película\n",
        "- spoken_languages - Lista con los idiomas que se hablan en la pelicula"
      ]
    },
    {
      "cell_type": "code",
      "execution_count": null,
      "metadata": {
        "id": "ExjTzYbiUAi6",
        "outputId": "63708ce5-d4c2-4284-ef40-e32191cec50b"
      },
      "outputs": [
        {
          "name": "stdout",
          "output_type": "stream",
          "text": [
            "[{'name': 'Universal Pictures', 'id': 33}, {'name': 'Légende Entreprises', 'id': 10898}, {'name': 'Syalis DA', 'id': 11583}, {'name': 'De Fina-Cappa', 'id': 11584}]\n",
            "[{'name': 'Regency Enterprises', 'id': 508}, {'name': 'Forward Pass', 'id': 675}, {'name': 'Warner Bros.', 'id': 6194}]\n"
          ]
        }
      ],
      "source": [
        "# PRODUCTION_COMPANIES\n",
        "\n",
        "contenido = dfI.iloc[15, dfI.columns.get_loc(\"production_companies\")]\n",
        "contenido2 = dfI.iloc[5, dfI.columns.get_loc(\"production_companies\")]\n",
        "print(contenido)\n",
        "print(contenido2)\n",
        "# Nuevamente tenemos cantidades variables de información"
      ]
    },
    {
      "cell_type": "code",
      "execution_count": null,
      "metadata": {
        "id": "Im_Rv9C3UAi6"
      },
      "outputs": [],
      "source": [
        "dfJ = dfI.copy()\n",
        "\n",
        "# Nuevamente se crean columnas vacías para almacenar los valores desanidados\n",
        "dfJ['production_companies_name_a'] = ''\n",
        "dfJ['production_companies_id_a'] = ''\n",
        "\n",
        "# Iterar sobre cada fila del DataFrame\n",
        "for index, row in dfJ.iterrows():\n",
        "    production_str = row['production_companies']  # Obtener la cadena de compañías de producción para la fila actual\n",
        "\n",
        "    # Convertir la cadena en una lista de diccionarios\n",
        "    try:\n",
        "        prod_list = ast.literal_eval(production_str)\n",
        "    except (ValueError, SyntaxError):\n",
        "        prod_list = []\n",
        "\n",
        "    names_a = []\n",
        "    id_a = []\n",
        "\n",
        "    # Iterar sobre cada diccionario de compañía de producción en la lista\n",
        "    for production_company in prod_list:\n",
        "        names_a.append(production_company['name'])  # Agregar el 'name' de la compañía a la lista 'names_a'\n",
        "        id_a.append(str(production_company['id']))  # Agregar el 'id' de la compañía a la lista 'id_a'\n",
        "\n",
        "    # Unir los valores de 'names_a' e 'id_a' separados por \",\"\n",
        "    names_str = ','.join(names_a)\n",
        "    ids_str = ','.join(id_a)\n",
        "\n",
        "    # Asignar los valores desanidados a las columnas correspondientes\n",
        "    dfJ.at[index, 'production_companies_name_a'] = names_str\n",
        "    dfJ.at[index, 'production_companies_id_a'] = ids_str\n"
      ]
    },
    {
      "cell_type": "code",
      "execution_count": null,
      "metadata": {
        "id": "9UMfTma1UAi7",
        "outputId": "b6ae22d9-2e1f-4648-c639-e3c226d4b128"
      },
      "outputs": [
        {
          "name": "stdout",
          "output_type": "stream",
          "text": [
            "<class 'pandas.core.frame.DataFrame'>\n",
            "Int64Index: 45376 entries, 0 to 45465\n",
            "Data columns (total 28 columns):\n",
            " #   Column                       Non-Null Count  Dtype         \n",
            "---  ------                       --------------  -----         \n",
            " 0   belongs_to_collection        45376 non-null  object        \n",
            " 1   budget                       45376 non-null  float64       \n",
            " 2   genres                       45376 non-null  object        \n",
            " 3   id                           45376 non-null  object        \n",
            " 4   original_language            45365 non-null  object        \n",
            " 5   overview                     44435 non-null  object        \n",
            " 6   popularity                   45376 non-null  object        \n",
            " 7   production_companies         45376 non-null  object        \n",
            " 8   production_countries         45376 non-null  object        \n",
            " 9   release_date                 45376 non-null  datetime64[ns]\n",
            " 10  revenue                      45376 non-null  float64       \n",
            " 11  runtime                      45130 non-null  float64       \n",
            " 12  spoken_languages             45376 non-null  object        \n",
            " 13  status                       45296 non-null  object        \n",
            " 14  tagline                      20398 non-null  object        \n",
            " 15  title                        45376 non-null  object        \n",
            " 16  vote_average                 45376 non-null  float64       \n",
            " 17  vote_count                   45376 non-null  float64       \n",
            " 18  return                       45376 non-null  float64       \n",
            " 19  release_year                 45376 non-null  int64         \n",
            " 20  collection_id_a              4488 non-null   float64       \n",
            " 21  collection_name_a            4488 non-null   object        \n",
            " 22  collection_poster_path_a     3945 non-null   object        \n",
            " 23  collection_backdrop_path_a   3260 non-null   object        \n",
            " 24  id_a                         45376 non-null  object        \n",
            " 25  name_a                       45376 non-null  object        \n",
            " 26  production_companies_name_a  45376 non-null  object        \n",
            " 27  production_companies_id_a    45376 non-null  object        \n",
            "dtypes: datetime64[ns](1), float64(7), int64(1), object(19)\n",
            "memory usage: 11.0+ MB\n"
          ]
        }
      ],
      "source": [
        "dfJ.info()\n",
        "# Se crearon las columnas necesarias"
      ]
    },
    {
      "cell_type": "code",
      "execution_count": null,
      "metadata": {
        "id": "4UkIS2VlUAi7",
        "outputId": "b8d413f9-579d-479f-cad4-a33b4583be18"
      },
      "outputs": [
        {
          "data": {
            "text/html": [
              "<div>\n",
              "<style scoped>\n",
              "    .dataframe tbody tr th:only-of-type {\n",
              "        vertical-align: middle;\n",
              "    }\n",
              "\n",
              "    .dataframe tbody tr th {\n",
              "        vertical-align: top;\n",
              "    }\n",
              "\n",
              "    .dataframe thead th {\n",
              "        text-align: right;\n",
              "    }\n",
              "</style>\n",
              "<table border=\"1\" class=\"dataframe\">\n",
              "  <thead>\n",
              "    <tr style=\"text-align: right;\">\n",
              "      <th></th>\n",
              "      <th>belongs_to_collection</th>\n",
              "      <th>budget</th>\n",
              "      <th>genres</th>\n",
              "      <th>id</th>\n",
              "      <th>original_language</th>\n",
              "      <th>overview</th>\n",
              "      <th>popularity</th>\n",
              "      <th>production_companies</th>\n",
              "      <th>production_countries</th>\n",
              "      <th>release_date</th>\n",
              "      <th>...</th>\n",
              "      <th>return</th>\n",
              "      <th>release_year</th>\n",
              "      <th>collection_id_a</th>\n",
              "      <th>collection_name_a</th>\n",
              "      <th>collection_poster_path_a</th>\n",
              "      <th>collection_backdrop_path_a</th>\n",
              "      <th>id_a</th>\n",
              "      <th>name_a</th>\n",
              "      <th>production_companies_name_a</th>\n",
              "      <th>production_companies_id_a</th>\n",
              "    </tr>\n",
              "  </thead>\n",
              "  <tbody>\n",
              "    <tr>\n",
              "      <th>31209</th>\n",
              "      <td>{}</td>\n",
              "      <td>0.0</td>\n",
              "      <td>[{'id': 18, 'name': 'Drama'}, {'id': 53, 'name...</td>\n",
              "      <td>192644</td>\n",
              "      <td>en</td>\n",
              "      <td>A musician with hyper-sensitive hearing goes i...</td>\n",
              "      <td>1.319479</td>\n",
              "      <td>[]</td>\n",
              "      <td>[]</td>\n",
              "      <td>2012-06-01</td>\n",
              "      <td>...</td>\n",
              "      <td>0.0</td>\n",
              "      <td>2012</td>\n",
              "      <td>NaN</td>\n",
              "      <td>NaN</td>\n",
              "      <td>NaN</td>\n",
              "      <td>NaN</td>\n",
              "      <td>18,53</td>\n",
              "      <td>Drama,Thriller</td>\n",
              "      <td></td>\n",
              "      <td></td>\n",
              "    </tr>\n",
              "    <tr>\n",
              "      <th>30799</th>\n",
              "      <td>{}</td>\n",
              "      <td>0.0</td>\n",
              "      <td>[{'id': 18, 'name': 'Drama'}]</td>\n",
              "      <td>310569</td>\n",
              "      <td>pt</td>\n",
              "      <td>After leaving her daughter Jessica in a small ...</td>\n",
              "      <td>5.458754</td>\n",
              "      <td>[{'name': 'Gullane Entretenimento S.A.', 'id':...</td>\n",
              "      <td>[{'iso_3166_1': 'BR', 'name': 'Brazil'}]</td>\n",
              "      <td>2015-02-08</td>\n",
              "      <td>...</td>\n",
              "      <td>0.0</td>\n",
              "      <td>2015</td>\n",
              "      <td>NaN</td>\n",
              "      <td>NaN</td>\n",
              "      <td>NaN</td>\n",
              "      <td>NaN</td>\n",
              "      <td>18</td>\n",
              "      <td>Drama</td>\n",
              "      <td>Gullane Entretenimento S.A.,África Filmes</td>\n",
              "      <td>44615,47462</td>\n",
              "    </tr>\n",
              "    <tr>\n",
              "      <th>3108</th>\n",
              "      <td>{}</td>\n",
              "      <td>0.0</td>\n",
              "      <td>[{'id': 10402, 'name': 'Music'}]</td>\n",
              "      <td>123277</td>\n",
              "      <td>en</td>\n",
              "      <td>Hellhounds On My Trail is a tribute to the inf...</td>\n",
              "      <td>0.008917</td>\n",
              "      <td>[]</td>\n",
              "      <td>[]</td>\n",
              "      <td>2000-02-28</td>\n",
              "      <td>...</td>\n",
              "      <td>0.0</td>\n",
              "      <td>2000</td>\n",
              "      <td>NaN</td>\n",
              "      <td>NaN</td>\n",
              "      <td>NaN</td>\n",
              "      <td>NaN</td>\n",
              "      <td>10402</td>\n",
              "      <td>Music</td>\n",
              "      <td></td>\n",
              "      <td></td>\n",
              "    </tr>\n",
              "  </tbody>\n",
              "</table>\n",
              "<p>3 rows × 28 columns</p>\n",
              "</div>"
            ],
            "text/plain": [
              "      belongs_to_collection  budget  \\\n",
              "31209                    {}     0.0   \n",
              "30799                    {}     0.0   \n",
              "3108                     {}     0.0   \n",
              "\n",
              "                                                  genres      id  \\\n",
              "31209  [{'id': 18, 'name': 'Drama'}, {'id': 53, 'name...  192644   \n",
              "30799                      [{'id': 18, 'name': 'Drama'}]  310569   \n",
              "3108                    [{'id': 10402, 'name': 'Music'}]  123277   \n",
              "\n",
              "      original_language                                           overview  \\\n",
              "31209                en  A musician with hyper-sensitive hearing goes i...   \n",
              "30799                pt  After leaving her daughter Jessica in a small ...   \n",
              "3108                 en  Hellhounds On My Trail is a tribute to the inf...   \n",
              "\n",
              "      popularity                               production_companies  \\\n",
              "31209   1.319479                                                 []   \n",
              "30799   5.458754  [{'name': 'Gullane Entretenimento S.A.', 'id':...   \n",
              "3108    0.008917                                                 []   \n",
              "\n",
              "                           production_countries release_date  ...  return  \\\n",
              "31209                                        []   2012-06-01  ...     0.0   \n",
              "30799  [{'iso_3166_1': 'BR', 'name': 'Brazil'}]   2015-02-08  ...     0.0   \n",
              "3108                                         []   2000-02-28  ...     0.0   \n",
              "\n",
              "       release_year collection_id_a collection_name_a  \\\n",
              "31209          2012             NaN               NaN   \n",
              "30799          2015             NaN               NaN   \n",
              "3108           2000             NaN               NaN   \n",
              "\n",
              "      collection_poster_path_a collection_backdrop_path_a   id_a  \\\n",
              "31209                      NaN                        NaN  18,53   \n",
              "30799                      NaN                        NaN     18   \n",
              "3108                       NaN                        NaN  10402   \n",
              "\n",
              "               name_a                production_companies_name_a  \\\n",
              "31209  Drama,Thriller                                              \n",
              "30799           Drama  Gullane Entretenimento S.A.,África Filmes   \n",
              "3108            Music                                              \n",
              "\n",
              "       production_companies_id_a  \n",
              "31209                             \n",
              "30799                44615,47462  \n",
              "3108                              \n",
              "\n",
              "[3 rows x 28 columns]"
            ]
          },
          "execution_count": 42,
          "metadata": {},
          "output_type": "execute_result"
        }
      ],
      "source": [
        "# Revisamos 3 valores aleatorios del dataset\n",
        "dfJ.sample(3)"
      ]
    },
    {
      "cell_type": "code",
      "execution_count": null,
      "metadata": {
        "id": "JA5VsbS6UAi7",
        "outputId": "cdf5e94c-80f6-40bc-d462-335b023b9f1e"
      },
      "outputs": [
        {
          "name": "stdout",
          "output_type": "stream",
          "text": [
            "[{'iso_3166_1': 'FR', 'name': 'France'}, {'iso_3166_1': 'US', 'name': 'United States of America'}]\n",
            "[{'iso_3166_1': 'IT', 'name': 'Italy'}]\n"
          ]
        }
      ],
      "source": [
        "# Revisamos el contenido de \"production_countries\"\n",
        "contenido = dfJ.iloc[15, dfJ.columns.get_loc(\"production_countries\")]\n",
        "contenido2 = dfJ.iloc[25, dfJ.columns.get_loc(\"production_countries\")]\n",
        "print(contenido)\n",
        "print(contenido2)\n",
        "\n",
        "# Hay cantidades variables de información en cada celda"
      ]
    },
    {
      "cell_type": "markdown",
      "metadata": {
        "id": "isAHveEAUAi7"
      },
      "source": [
        "#### Nota:\n",
        "**'iso_3166_1':**\n",
        "Es la primera parte del estándar internacional de normalización ISO 3166, publicado por la Organización Internacional de Normalización (ISO), que proporciona códigos para los nombres de países y otras dependencias administrativas. La norma ISO 3166 se publicó por primera vez en 1974 por la Organización Internacional para la Normalización (ISO), y se amplió a tres partes en 1997, de las cuales esta primera parte se corresponde con la parte única anterior.\n",
        "\n",
        "ISO 3166-1 se ha convertido en uno de los estándares mundiales más conocidos y ampliamente utilizados para la codificación de nombres de países. El uso de un código de letras y/o números para representar el nombre de un país puede ayudar a ahorrar tiempo y energía, y reducir la tasa de error."
      ]
    },
    {
      "cell_type": "code",
      "execution_count": null,
      "metadata": {
        "id": "Hj4r0j5mUAi7"
      },
      "outputs": [],
      "source": [
        "# PRODUCTION_COUNTRIES\n",
        "\n",
        "dfK = dfJ.copy()\n",
        "dfK['production_countries_iso_a'] = ''\n",
        "dfK['production_countries_name_a'] = ''\n",
        "\n",
        "# Iterar sobre cada fila del DataFrame\n",
        "for index, row in dfK.iterrows():\n",
        "    production_countries_str = row['production_countries']  # Obtener la cadena de países de producción para la fila actual\n",
        "\n",
        "    # Convertir la cadena en una lista de diccionarios\n",
        "    try:\n",
        "        prod_c_list = ast.literal_eval(production_countries_str)\n",
        "    except (ValueError, SyntaxError):\n",
        "        prod_c_list = []\n",
        "\n",
        "    iso_a = []\n",
        "    countries_names_a = []\n",
        "\n",
        "    # Iterar sobre cada diccionario de países de producción en la lista\n",
        "    for production_country in prod_c_list:\n",
        "        iso_a.append(production_country['iso_3166_1'])  # Agregar el 'iso' del país a la lista 'iso_a'\n",
        "        countries_names_a.append(production_country['name'])  # Agregar el 'name' del país a la lista 'countries_names_a'\n",
        "\n",
        "    # Unir los valores de 'iso_a' y 'countries_names_a' separados por \",\"\n",
        "    iso_str = ','.join(iso_a)\n",
        "    names_str = ','.join(countries_names_a)\n",
        "\n",
        "    # Asignar los valores desanidados a las columnas correspondientes\n",
        "    dfK.at[index, 'production_countries_iso_a'] = iso_str\n",
        "    dfK.at[index, 'production_countries_name_a'] = names_str\n"
      ]
    },
    {
      "cell_type": "code",
      "execution_count": null,
      "metadata": {
        "id": "D3Tc0LeHUAi8",
        "outputId": "9e282504-0444-4d64-f3df-e3a1225a4552"
      },
      "outputs": [
        {
          "name": "stdout",
          "output_type": "stream",
          "text": [
            "<class 'pandas.core.frame.DataFrame'>\n",
            "Int64Index: 45376 entries, 0 to 45465\n",
            "Data columns (total 30 columns):\n",
            " #   Column                       Non-Null Count  Dtype         \n",
            "---  ------                       --------------  -----         \n",
            " 0   belongs_to_collection        45376 non-null  object        \n",
            " 1   budget                       45376 non-null  float64       \n",
            " 2   genres                       45376 non-null  object        \n",
            " 3   id                           45376 non-null  object        \n",
            " 4   original_language            45365 non-null  object        \n",
            " 5   overview                     44435 non-null  object        \n",
            " 6   popularity                   45376 non-null  object        \n",
            " 7   production_companies         45376 non-null  object        \n",
            " 8   production_countries         45376 non-null  object        \n",
            " 9   release_date                 45376 non-null  datetime64[ns]\n",
            " 10  revenue                      45376 non-null  float64       \n",
            " 11  runtime                      45130 non-null  float64       \n",
            " 12  spoken_languages             45376 non-null  object        \n",
            " 13  status                       45296 non-null  object        \n",
            " 14  tagline                      20398 non-null  object        \n",
            " 15  title                        45376 non-null  object        \n",
            " 16  vote_average                 45376 non-null  float64       \n",
            " 17  vote_count                   45376 non-null  float64       \n",
            " 18  return                       45376 non-null  float64       \n",
            " 19  release_year                 45376 non-null  int64         \n",
            " 20  collection_id_a              4488 non-null   float64       \n",
            " 21  collection_name_a            4488 non-null   object        \n",
            " 22  collection_poster_path_a     3945 non-null   object        \n",
            " 23  collection_backdrop_path_a   3260 non-null   object        \n",
            " 24  id_a                         45376 non-null  object        \n",
            " 25  name_a                       45376 non-null  object        \n",
            " 26  production_companies_name_a  45376 non-null  object        \n",
            " 27  production_companies_id_a    45376 non-null  object        \n",
            " 28  production_countries_iso_a   45376 non-null  object        \n",
            " 29  production_countries_name_a  45376 non-null  object        \n",
            "dtypes: datetime64[ns](1), float64(7), int64(1), object(21)\n",
            "memory usage: 11.7+ MB\n"
          ]
        }
      ],
      "source": [
        "# Revisamos la creación de nuevas columnas en el dataframe\n",
        "dfK.info()"
      ]
    },
    {
      "cell_type": "code",
      "execution_count": null,
      "metadata": {
        "id": "7x0uO0YHUAi8",
        "outputId": "df24ba46-5f59-4669-aa2f-a5ad64a90770"
      },
      "outputs": [
        {
          "data": {
            "text/html": [
              "<div>\n",
              "<style scoped>\n",
              "    .dataframe tbody tr th:only-of-type {\n",
              "        vertical-align: middle;\n",
              "    }\n",
              "\n",
              "    .dataframe tbody tr th {\n",
              "        vertical-align: top;\n",
              "    }\n",
              "\n",
              "    .dataframe thead th {\n",
              "        text-align: right;\n",
              "    }\n",
              "</style>\n",
              "<table border=\"1\" class=\"dataframe\">\n",
              "  <thead>\n",
              "    <tr style=\"text-align: right;\">\n",
              "      <th></th>\n",
              "      <th>belongs_to_collection</th>\n",
              "      <th>budget</th>\n",
              "      <th>genres</th>\n",
              "      <th>id</th>\n",
              "      <th>original_language</th>\n",
              "      <th>overview</th>\n",
              "      <th>popularity</th>\n",
              "      <th>production_companies</th>\n",
              "      <th>production_countries</th>\n",
              "      <th>release_date</th>\n",
              "      <th>...</th>\n",
              "      <th>collection_id_a</th>\n",
              "      <th>collection_name_a</th>\n",
              "      <th>collection_poster_path_a</th>\n",
              "      <th>collection_backdrop_path_a</th>\n",
              "      <th>id_a</th>\n",
              "      <th>name_a</th>\n",
              "      <th>production_companies_name_a</th>\n",
              "      <th>production_companies_id_a</th>\n",
              "      <th>production_countries_iso_a</th>\n",
              "      <th>production_countries_name_a</th>\n",
              "    </tr>\n",
              "  </thead>\n",
              "  <tbody>\n",
              "    <tr>\n",
              "      <th>29907</th>\n",
              "      <td>{'id': 306926, 'name': 'Monsters Collection', ...</td>\n",
              "      <td>0.0</td>\n",
              "      <td>[{'id': 53, 'name': 'Thriller'}, {'id': 18, 'n...</td>\n",
              "      <td>145221</td>\n",
              "      <td>en</td>\n",
              "      <td>Seven years on from the events of Monsters, an...</td>\n",
              "      <td>12.648061</td>\n",
              "      <td>[{'name': 'International Traders', 'id': 6408}...</td>\n",
              "      <td>[{'iso_3166_1': 'GB', 'name': 'United Kingdom'}]</td>\n",
              "      <td>2014-10-09</td>\n",
              "      <td>...</td>\n",
              "      <td>306926.0</td>\n",
              "      <td>Monsters Collection</td>\n",
              "      <td>/64tYLixu5g9W3l4u9mTHnhbVYlz.jpg</td>\n",
              "      <td>/2k8KXYTcqxkKpq7lBZFMJ4zjBUF.jpg</td>\n",
              "      <td>53,18,878</td>\n",
              "      <td>Thriller,Drama,Science Fiction</td>\n",
              "      <td>International Traders,Between The Eyes,Vertigo...</td>\n",
              "      <td>6408,9016,10393</td>\n",
              "      <td>GB</td>\n",
              "      <td>United Kingdom</td>\n",
              "    </tr>\n",
              "    <tr>\n",
              "      <th>27255</th>\n",
              "      <td>{}</td>\n",
              "      <td>0.0</td>\n",
              "      <td>[{'id': 53, 'name': 'Thriller'}, {'id': 18, 'n...</td>\n",
              "      <td>28490</td>\n",
              "      <td>en</td>\n",
              "      <td>I Died a Thousand Times is essentially a remak...</td>\n",
              "      <td>4.929826</td>\n",
              "      <td>[{'name': 'Warner Bros.', 'id': 6194}]</td>\n",
              "      <td>[{'iso_3166_1': 'US', 'name': 'United States o...</td>\n",
              "      <td>1955-11-09</td>\n",
              "      <td>...</td>\n",
              "      <td>NaN</td>\n",
              "      <td>NaN</td>\n",
              "      <td>NaN</td>\n",
              "      <td>NaN</td>\n",
              "      <td>53,18,80</td>\n",
              "      <td>Thriller,Drama,Crime</td>\n",
              "      <td>Warner Bros.</td>\n",
              "      <td>6194</td>\n",
              "      <td>US</td>\n",
              "      <td>United States of America</td>\n",
              "    </tr>\n",
              "    <tr>\n",
              "      <th>37840</th>\n",
              "      <td>{}</td>\n",
              "      <td>0.0</td>\n",
              "      <td>[{'id': 18, 'name': 'Drama'}]</td>\n",
              "      <td>110299</td>\n",
              "      <td>en</td>\n",
              "      <td>A woman who believes she has been chosen by Go...</td>\n",
              "      <td>0.689068</td>\n",
              "      <td>[{'name': 'Madera Productions', 'id': 14838}]</td>\n",
              "      <td>[{'iso_3166_1': 'US', 'name': 'United States o...</td>\n",
              "      <td>1961-05-14</td>\n",
              "      <td>...</td>\n",
              "      <td>NaN</td>\n",
              "      <td>NaN</td>\n",
              "      <td>NaN</td>\n",
              "      <td>NaN</td>\n",
              "      <td>18</td>\n",
              "      <td>Drama</td>\n",
              "      <td>Madera Productions</td>\n",
              "      <td>14838</td>\n",
              "      <td>US</td>\n",
              "      <td>United States of America</td>\n",
              "    </tr>\n",
              "    <tr>\n",
              "      <th>40668</th>\n",
              "      <td>{}</td>\n",
              "      <td>0.0</td>\n",
              "      <td>[{'id': 27, 'name': 'Horror'}, {'id': 53, 'nam...</td>\n",
              "      <td>245627</td>\n",
              "      <td>en</td>\n",
              "      <td>A reporter unearths an urban legend about a ho...</td>\n",
              "      <td>4.541007</td>\n",
              "      <td>[{'name': 'Radical Pictures', 'id': 7882}, {'n...</td>\n",
              "      <td>[{'iso_3166_1': 'US', 'name': 'United States o...</td>\n",
              "      <td>2016-12-08</td>\n",
              "      <td>...</td>\n",
              "      <td>NaN</td>\n",
              "      <td>NaN</td>\n",
              "      <td>NaN</td>\n",
              "      <td>NaN</td>\n",
              "      <td>27,53</td>\n",
              "      <td>Horror,Thriller</td>\n",
              "      <td>Radical Pictures,Dark Web Productions,Les Enfa...</td>\n",
              "      <td>7882,83067,83068,83069,83070</td>\n",
              "      <td>US</td>\n",
              "      <td>United States of America</td>\n",
              "    </tr>\n",
              "    <tr>\n",
              "      <th>11257</th>\n",
              "      <td>{}</td>\n",
              "      <td>30000000.0</td>\n",
              "      <td>[{'id': 12, 'name': 'Adventure'}, {'id': 35, '...</td>\n",
              "      <td>7512</td>\n",
              "      <td>en</td>\n",
              "      <td>To test its top-secret Human Hibernation Proje...</td>\n",
              "      <td>12.130803</td>\n",
              "      <td>[{'name': 'Twentieth Century Fox Film Corporat...</td>\n",
              "      <td>[{'iso_3166_1': 'US', 'name': 'United States o...</td>\n",
              "      <td>2006-09-01</td>\n",
              "      <td>...</td>\n",
              "      <td>NaN</td>\n",
              "      <td>NaN</td>\n",
              "      <td>NaN</td>\n",
              "      <td>NaN</td>\n",
              "      <td>12,35,878</td>\n",
              "      <td>Adventure,Comedy,Science Fiction</td>\n",
              "      <td>Twentieth Century Fox Film Corporation,Ternion...</td>\n",
              "      <td>306,20992</td>\n",
              "      <td>US</td>\n",
              "      <td>United States of America</td>\n",
              "    </tr>\n",
              "  </tbody>\n",
              "</table>\n",
              "<p>5 rows × 30 columns</p>\n",
              "</div>"
            ],
            "text/plain": [
              "                                   belongs_to_collection      budget  \\\n",
              "29907  {'id': 306926, 'name': 'Monsters Collection', ...         0.0   \n",
              "27255                                                 {}         0.0   \n",
              "37840                                                 {}         0.0   \n",
              "40668                                                 {}         0.0   \n",
              "11257                                                 {}  30000000.0   \n",
              "\n",
              "                                                  genres      id  \\\n",
              "29907  [{'id': 53, 'name': 'Thriller'}, {'id': 18, 'n...  145221   \n",
              "27255  [{'id': 53, 'name': 'Thriller'}, {'id': 18, 'n...   28490   \n",
              "37840                      [{'id': 18, 'name': 'Drama'}]  110299   \n",
              "40668  [{'id': 27, 'name': 'Horror'}, {'id': 53, 'nam...  245627   \n",
              "11257  [{'id': 12, 'name': 'Adventure'}, {'id': 35, '...    7512   \n",
              "\n",
              "      original_language                                           overview  \\\n",
              "29907                en  Seven years on from the events of Monsters, an...   \n",
              "27255                en  I Died a Thousand Times is essentially a remak...   \n",
              "37840                en  A woman who believes she has been chosen by Go...   \n",
              "40668                en  A reporter unearths an urban legend about a ho...   \n",
              "11257                en  To test its top-secret Human Hibernation Proje...   \n",
              "\n",
              "      popularity                               production_companies  \\\n",
              "29907  12.648061  [{'name': 'International Traders', 'id': 6408}...   \n",
              "27255   4.929826             [{'name': 'Warner Bros.', 'id': 6194}]   \n",
              "37840   0.689068      [{'name': 'Madera Productions', 'id': 14838}]   \n",
              "40668   4.541007  [{'name': 'Radical Pictures', 'id': 7882}, {'n...   \n",
              "11257  12.130803  [{'name': 'Twentieth Century Fox Film Corporat...   \n",
              "\n",
              "                                    production_countries release_date  ...  \\\n",
              "29907   [{'iso_3166_1': 'GB', 'name': 'United Kingdom'}]   2014-10-09  ...   \n",
              "27255  [{'iso_3166_1': 'US', 'name': 'United States o...   1955-11-09  ...   \n",
              "37840  [{'iso_3166_1': 'US', 'name': 'United States o...   1961-05-14  ...   \n",
              "40668  [{'iso_3166_1': 'US', 'name': 'United States o...   2016-12-08  ...   \n",
              "11257  [{'iso_3166_1': 'US', 'name': 'United States o...   2006-09-01  ...   \n",
              "\n",
              "       collection_id_a    collection_name_a          collection_poster_path_a  \\\n",
              "29907         306926.0  Monsters Collection  /64tYLixu5g9W3l4u9mTHnhbVYlz.jpg   \n",
              "27255              NaN                  NaN                               NaN   \n",
              "37840              NaN                  NaN                               NaN   \n",
              "40668              NaN                  NaN                               NaN   \n",
              "11257              NaN                  NaN                               NaN   \n",
              "\n",
              "             collection_backdrop_path_a       id_a  \\\n",
              "29907  /2k8KXYTcqxkKpq7lBZFMJ4zjBUF.jpg  53,18,878   \n",
              "27255                               NaN   53,18,80   \n",
              "37840                               NaN         18   \n",
              "40668                               NaN      27,53   \n",
              "11257                               NaN  12,35,878   \n",
              "\n",
              "                                 name_a  \\\n",
              "29907    Thriller,Drama,Science Fiction   \n",
              "27255              Thriller,Drama,Crime   \n",
              "37840                             Drama   \n",
              "40668                   Horror,Thriller   \n",
              "11257  Adventure,Comedy,Science Fiction   \n",
              "\n",
              "                             production_companies_name_a  \\\n",
              "29907  International Traders,Between The Eyes,Vertigo...   \n",
              "27255                                       Warner Bros.   \n",
              "37840                                 Madera Productions   \n",
              "40668  Radical Pictures,Dark Web Productions,Les Enfa...   \n",
              "11257  Twentieth Century Fox Film Corporation,Ternion...   \n",
              "\n",
              "          production_companies_id_a  production_countries_iso_a  \\\n",
              "29907               6408,9016,10393                          GB   \n",
              "27255                          6194                          US   \n",
              "37840                         14838                          US   \n",
              "40668  7882,83067,83068,83069,83070                          US   \n",
              "11257                     306,20992                          US   \n",
              "\n",
              "       production_countries_name_a  \n",
              "29907               United Kingdom  \n",
              "27255     United States of America  \n",
              "37840     United States of America  \n",
              "40668     United States of America  \n",
              "11257     United States of America  \n",
              "\n",
              "[5 rows x 30 columns]"
            ]
          },
          "execution_count": 46,
          "metadata": {},
          "output_type": "execute_result"
        }
      ],
      "source": [
        "# Revisión de 5 filas del df\n",
        "dfK.sample(5)"
      ]
    },
    {
      "cell_type": "code",
      "execution_count": null,
      "metadata": {
        "id": "haY4fMmtUAi8",
        "outputId": "5fa252c8-50ca-41c5-c111-106cfe624d12"
      },
      "outputs": [
        {
          "name": "stdout",
          "output_type": "stream",
          "text": [
            "[{'iso_639_1': 'en', 'name': 'English'}, {'iso_639_1': 'es', 'name': 'Español'}]\n",
            "[{'iso_639_1': 'en', 'name': 'English'}]\n"
          ]
        }
      ],
      "source": [
        "# Revisión de \"spoken_lenguages\"\n",
        "contenido = dfK.iloc[5, dfK.columns.get_loc(\"spoken_languages\")]\n",
        "contenido2 = dfK.iloc[35, dfK.columns.get_loc(\"spoken_languages\")]\n",
        "print(contenido)\n",
        "print(contenido2)\n",
        "\n",
        "# Nuevamente hay cantidad variable de información"
      ]
    },
    {
      "cell_type": "markdown",
      "metadata": {
        "id": "sA5nAG4fUAi8"
      },
      "source": [
        "#### Nota:\n",
        "\n",
        "ISO 639-1 es la primera parte del código ISO 639. Consiste en 184 códigos de dos letras usados para identificar los principales idiomas del mundo. Estos códigos son una taquigrafía internacional muy útil para indicar idiomas."
      ]
    },
    {
      "cell_type": "code",
      "execution_count": null,
      "metadata": {
        "id": "AegCo2onUAi8"
      },
      "outputs": [],
      "source": [
        "# SPOCKEN_LANGUAGES: de forma análoga a lo previamente aplicado\n",
        "dfL = dfK.copy()\n",
        "def extract_languages(row):\n",
        "    languages_str = row['spoken_languages']\n",
        "\n",
        "    try:\n",
        "        language_list = ast.literal_eval(languages_str)\n",
        "    except (ValueError, SyntaxError):\n",
        "        language_list = []\n",
        "\n",
        "    iso_l_a = []\n",
        "    name_l_a = []\n",
        "\n",
        "    for spoken_languages in language_list:\n",
        "        iso_l_a.append(spoken_languages['iso_639_1'])\n",
        "        name_l_a.append(spoken_languages['name'])\n",
        "\n",
        "    row['spoken_language_iso_a'] = ','.join(iso_l_a)\n",
        "    row['spoken_language_name_a'] = ','.join(name_l_a)\n",
        "\n",
        "    return row\n",
        "\n",
        "dfL[['spoken_language_iso_a', 'spoken_language_name_a']] = dfL.apply(extract_languages, axis=1)[['spoken_language_iso_a', 'spoken_language_name_a']]"
      ]
    },
    {
      "cell_type": "code",
      "execution_count": null,
      "metadata": {
        "id": "FbTVO7IXUAi9",
        "outputId": "0512f0ee-1c70-42fc-acd7-df132c7a2ec1"
      },
      "outputs": [
        {
          "name": "stdout",
          "output_type": "stream",
          "text": [
            "<class 'pandas.core.frame.DataFrame'>\n",
            "Int64Index: 45376 entries, 0 to 45465\n",
            "Data columns (total 32 columns):\n",
            " #   Column                       Non-Null Count  Dtype         \n",
            "---  ------                       --------------  -----         \n",
            " 0   belongs_to_collection        45376 non-null  object        \n",
            " 1   budget                       45376 non-null  float64       \n",
            " 2   genres                       45376 non-null  object        \n",
            " 3   id                           45376 non-null  object        \n",
            " 4   original_language            45365 non-null  object        \n",
            " 5   overview                     44435 non-null  object        \n",
            " 6   popularity                   45376 non-null  object        \n",
            " 7   production_companies         45376 non-null  object        \n",
            " 8   production_countries         45376 non-null  object        \n",
            " 9   release_date                 45376 non-null  datetime64[ns]\n",
            " 10  revenue                      45376 non-null  float64       \n",
            " 11  runtime                      45130 non-null  float64       \n",
            " 12  spoken_languages             45376 non-null  object        \n",
            " 13  status                       45296 non-null  object        \n",
            " 14  tagline                      20398 non-null  object        \n",
            " 15  title                        45376 non-null  object        \n",
            " 16  vote_average                 45376 non-null  float64       \n",
            " 17  vote_count                   45376 non-null  float64       \n",
            " 18  return                       45376 non-null  float64       \n",
            " 19  release_year                 45376 non-null  int64         \n",
            " 20  collection_id_a              4488 non-null   float64       \n",
            " 21  collection_name_a            4488 non-null   object        \n",
            " 22  collection_poster_path_a     3945 non-null   object        \n",
            " 23  collection_backdrop_path_a   3260 non-null   object        \n",
            " 24  id_a                         45376 non-null  object        \n",
            " 25  name_a                       45376 non-null  object        \n",
            " 26  production_companies_name_a  45376 non-null  object        \n",
            " 27  production_companies_id_a    45376 non-null  object        \n",
            " 28  production_countries_iso_a   45376 non-null  object        \n",
            " 29  production_countries_name_a  45376 non-null  object        \n",
            " 30  spoken_language_iso_a        45376 non-null  object        \n",
            " 31  spoken_language_name_a       45376 non-null  object        \n",
            "dtypes: datetime64[ns](1), float64(7), int64(1), object(23)\n",
            "memory usage: 12.4+ MB\n"
          ]
        }
      ],
      "source": [
        "# Revisión del nuevo dataframe\n",
        "dfL.info()"
      ]
    },
    {
      "cell_type": "code",
      "execution_count": null,
      "metadata": {
        "id": "0TxKREYtUAi9",
        "outputId": "015c752f-c0ec-4f52-af4a-184cffb7ef63"
      },
      "outputs": [
        {
          "data": {
            "text/html": [
              "<div>\n",
              "<style scoped>\n",
              "    .dataframe tbody tr th:only-of-type {\n",
              "        vertical-align: middle;\n",
              "    }\n",
              "\n",
              "    .dataframe tbody tr th {\n",
              "        vertical-align: top;\n",
              "    }\n",
              "\n",
              "    .dataframe thead th {\n",
              "        text-align: right;\n",
              "    }\n",
              "</style>\n",
              "<table border=\"1\" class=\"dataframe\">\n",
              "  <thead>\n",
              "    <tr style=\"text-align: right;\">\n",
              "      <th></th>\n",
              "      <th>belongs_to_collection</th>\n",
              "      <th>budget</th>\n",
              "      <th>genres</th>\n",
              "      <th>id</th>\n",
              "      <th>original_language</th>\n",
              "      <th>overview</th>\n",
              "      <th>popularity</th>\n",
              "      <th>production_companies</th>\n",
              "      <th>production_countries</th>\n",
              "      <th>release_date</th>\n",
              "      <th>...</th>\n",
              "      <th>collection_poster_path_a</th>\n",
              "      <th>collection_backdrop_path_a</th>\n",
              "      <th>id_a</th>\n",
              "      <th>name_a</th>\n",
              "      <th>production_companies_name_a</th>\n",
              "      <th>production_companies_id_a</th>\n",
              "      <th>production_countries_iso_a</th>\n",
              "      <th>production_countries_name_a</th>\n",
              "      <th>spoken_language_iso_a</th>\n",
              "      <th>spoken_language_name_a</th>\n",
              "    </tr>\n",
              "  </thead>\n",
              "  <tbody>\n",
              "    <tr>\n",
              "      <th>0</th>\n",
              "      <td>{'id': 10194, 'name': 'Toy Story Collection', ...</td>\n",
              "      <td>30000000.0</td>\n",
              "      <td>[{'id': 16, 'name': 'Animation'}, {'id': 35, '...</td>\n",
              "      <td>862</td>\n",
              "      <td>en</td>\n",
              "      <td>Led by Woody, Andy's toys live happily in his ...</td>\n",
              "      <td>21.946943</td>\n",
              "      <td>[{'name': 'Pixar Animation Studios', 'id': 3}]</td>\n",
              "      <td>[{'iso_3166_1': 'US', 'name': 'United States o...</td>\n",
              "      <td>1995-10-30</td>\n",
              "      <td>...</td>\n",
              "      <td>/7G9915LfUQ2lVfwMEEhDsn3kT4B.jpg</td>\n",
              "      <td>/9FBwqcd9IRruEDUrTdcaafOMKUq.jpg</td>\n",
              "      <td>16,35,10751</td>\n",
              "      <td>Animation,Comedy,Family</td>\n",
              "      <td>Pixar Animation Studios</td>\n",
              "      <td>3</td>\n",
              "      <td>US</td>\n",
              "      <td>United States of America</td>\n",
              "      <td>en</td>\n",
              "      <td>English</td>\n",
              "    </tr>\n",
              "    <tr>\n",
              "      <th>1</th>\n",
              "      <td>{}</td>\n",
              "      <td>65000000.0</td>\n",
              "      <td>[{'id': 12, 'name': 'Adventure'}, {'id': 14, '...</td>\n",
              "      <td>8844</td>\n",
              "      <td>en</td>\n",
              "      <td>When siblings Judy and Peter discover an encha...</td>\n",
              "      <td>17.015539</td>\n",
              "      <td>[{'name': 'TriStar Pictures', 'id': 559}, {'na...</td>\n",
              "      <td>[{'iso_3166_1': 'US', 'name': 'United States o...</td>\n",
              "      <td>1995-12-15</td>\n",
              "      <td>...</td>\n",
              "      <td>NaN</td>\n",
              "      <td>NaN</td>\n",
              "      <td>12,14,10751</td>\n",
              "      <td>Adventure,Fantasy,Family</td>\n",
              "      <td>TriStar Pictures,Teitler Film,Interscope Commu...</td>\n",
              "      <td>559,2550,10201</td>\n",
              "      <td>US</td>\n",
              "      <td>United States of America</td>\n",
              "      <td>en,fr</td>\n",
              "      <td>English,Français</td>\n",
              "    </tr>\n",
              "    <tr>\n",
              "      <th>2</th>\n",
              "      <td>{'id': 119050, 'name': 'Grumpy Old Men Collect...</td>\n",
              "      <td>0.0</td>\n",
              "      <td>[{'id': 10749, 'name': 'Romance'}, {'id': 35, ...</td>\n",
              "      <td>15602</td>\n",
              "      <td>en</td>\n",
              "      <td>A family wedding reignites the ancient feud be...</td>\n",
              "      <td>11.7129</td>\n",
              "      <td>[{'name': 'Warner Bros.', 'id': 6194}, {'name'...</td>\n",
              "      <td>[{'iso_3166_1': 'US', 'name': 'United States o...</td>\n",
              "      <td>1995-12-22</td>\n",
              "      <td>...</td>\n",
              "      <td>/nLvUdqgPgm3F85NMCii9gVFUcet.jpg</td>\n",
              "      <td>/hypTnLot2z8wpFS7qwsQHW1uV8u.jpg</td>\n",
              "      <td>10749,35</td>\n",
              "      <td>Romance,Comedy</td>\n",
              "      <td>Warner Bros.,Lancaster Gate</td>\n",
              "      <td>6194,19464</td>\n",
              "      <td>US</td>\n",
              "      <td>United States of America</td>\n",
              "      <td>en</td>\n",
              "      <td>English</td>\n",
              "    </tr>\n",
              "  </tbody>\n",
              "</table>\n",
              "<p>3 rows × 32 columns</p>\n",
              "</div>"
            ],
            "text/plain": [
              "                               belongs_to_collection      budget  \\\n",
              "0  {'id': 10194, 'name': 'Toy Story Collection', ...  30000000.0   \n",
              "1                                                 {}  65000000.0   \n",
              "2  {'id': 119050, 'name': 'Grumpy Old Men Collect...         0.0   \n",
              "\n",
              "                                              genres     id original_language  \\\n",
              "0  [{'id': 16, 'name': 'Animation'}, {'id': 35, '...    862                en   \n",
              "1  [{'id': 12, 'name': 'Adventure'}, {'id': 14, '...   8844                en   \n",
              "2  [{'id': 10749, 'name': 'Romance'}, {'id': 35, ...  15602                en   \n",
              "\n",
              "                                            overview popularity  \\\n",
              "0  Led by Woody, Andy's toys live happily in his ...  21.946943   \n",
              "1  When siblings Judy and Peter discover an encha...  17.015539   \n",
              "2  A family wedding reignites the ancient feud be...    11.7129   \n",
              "\n",
              "                                production_companies  \\\n",
              "0     [{'name': 'Pixar Animation Studios', 'id': 3}]   \n",
              "1  [{'name': 'TriStar Pictures', 'id': 559}, {'na...   \n",
              "2  [{'name': 'Warner Bros.', 'id': 6194}, {'name'...   \n",
              "\n",
              "                                production_countries release_date  ...  \\\n",
              "0  [{'iso_3166_1': 'US', 'name': 'United States o...   1995-10-30  ...   \n",
              "1  [{'iso_3166_1': 'US', 'name': 'United States o...   1995-12-15  ...   \n",
              "2  [{'iso_3166_1': 'US', 'name': 'United States o...   1995-12-22  ...   \n",
              "\n",
              "           collection_poster_path_a        collection_backdrop_path_a  \\\n",
              "0  /7G9915LfUQ2lVfwMEEhDsn3kT4B.jpg  /9FBwqcd9IRruEDUrTdcaafOMKUq.jpg   \n",
              "1                               NaN                               NaN   \n",
              "2  /nLvUdqgPgm3F85NMCii9gVFUcet.jpg  /hypTnLot2z8wpFS7qwsQHW1uV8u.jpg   \n",
              "\n",
              "          id_a                    name_a  \\\n",
              "0  16,35,10751   Animation,Comedy,Family   \n",
              "1  12,14,10751  Adventure,Fantasy,Family   \n",
              "2     10749,35            Romance,Comedy   \n",
              "\n",
              "                         production_companies_name_a  \\\n",
              "0                            Pixar Animation Studios   \n",
              "1  TriStar Pictures,Teitler Film,Interscope Commu...   \n",
              "2                        Warner Bros.,Lancaster Gate   \n",
              "\n",
              "  production_companies_id_a  production_countries_iso_a  \\\n",
              "0                         3                          US   \n",
              "1            559,2550,10201                          US   \n",
              "2                6194,19464                          US   \n",
              "\n",
              "   production_countries_name_a  spoken_language_iso_a  spoken_language_name_a  \n",
              "0     United States of America                     en                 English  \n",
              "1     United States of America                  en,fr        English,Français  \n",
              "2     United States of America                     en                 English  \n",
              "\n",
              "[3 rows x 32 columns]"
            ]
          },
          "execution_count": 50,
          "metadata": {},
          "output_type": "execute_result"
        }
      ],
      "source": [
        "# Visualización de las primeras 3 filas\n",
        "dfL.head(3)"
      ]
    },
    {
      "cell_type": "code",
      "execution_count": null,
      "metadata": {
        "id": "TQHlDWViUAi9",
        "outputId": "6781a41f-c3c3-44cc-dd3d-66463fb4e9ef"
      },
      "outputs": [
        {
          "data": {
            "text/html": [
              "<div>\n",
              "<style scoped>\n",
              "    .dataframe tbody tr th:only-of-type {\n",
              "        vertical-align: middle;\n",
              "    }\n",
              "\n",
              "    .dataframe tbody tr th {\n",
              "        vertical-align: top;\n",
              "    }\n",
              "\n",
              "    .dataframe thead th {\n",
              "        text-align: right;\n",
              "    }\n",
              "</style>\n",
              "<table border=\"1\" class=\"dataframe\">\n",
              "  <thead>\n",
              "    <tr style=\"text-align: right;\">\n",
              "      <th></th>\n",
              "      <th>belongs_to_collection</th>\n",
              "      <th>budget</th>\n",
              "      <th>genres</th>\n",
              "      <th>id</th>\n",
              "      <th>original_language</th>\n",
              "      <th>overview</th>\n",
              "      <th>popularity</th>\n",
              "      <th>production_companies</th>\n",
              "      <th>production_countries</th>\n",
              "      <th>release_date</th>\n",
              "      <th>...</th>\n",
              "      <th>collection_poster_path_a</th>\n",
              "      <th>collection_backdrop_path_a</th>\n",
              "      <th>id_a</th>\n",
              "      <th>name_a</th>\n",
              "      <th>production_companies_name_a</th>\n",
              "      <th>production_companies_id_a</th>\n",
              "      <th>production_countries_iso_a</th>\n",
              "      <th>production_countries_name_a</th>\n",
              "      <th>spoken_language_iso_a</th>\n",
              "      <th>spoken_language_name_a</th>\n",
              "    </tr>\n",
              "  </thead>\n",
              "  <tbody>\n",
              "    <tr>\n",
              "      <th>0</th>\n",
              "      <td>{'id': 10194, 'name': 'Toy Story Collection', ...</td>\n",
              "      <td>30000000.0</td>\n",
              "      <td>[{'id': 16, 'name': 'Animation'}, {'id': 35, '...</td>\n",
              "      <td>862</td>\n",
              "      <td>en</td>\n",
              "      <td>Led by Woody, Andy's toys live happily in his ...</td>\n",
              "      <td>21.946943</td>\n",
              "      <td>[{'name': 'Pixar Animation Studios', 'id': 3}]</td>\n",
              "      <td>[{'iso_3166_1': 'US', 'name': 'United States o...</td>\n",
              "      <td>1995-10-30</td>\n",
              "      <td>...</td>\n",
              "      <td>/7G9915LfUQ2lVfwMEEhDsn3kT4B.jpg</td>\n",
              "      <td>/9FBwqcd9IRruEDUrTdcaafOMKUq.jpg</td>\n",
              "      <td>16,35,10751</td>\n",
              "      <td>Animation,Comedy,Family</td>\n",
              "      <td>Pixar Animation Studios</td>\n",
              "      <td>3</td>\n",
              "      <td>US</td>\n",
              "      <td>United States of America</td>\n",
              "      <td>en</td>\n",
              "      <td>English</td>\n",
              "    </tr>\n",
              "    <tr>\n",
              "      <th>1</th>\n",
              "      <td>{}</td>\n",
              "      <td>65000000.0</td>\n",
              "      <td>[{'id': 12, 'name': 'Adventure'}, {'id': 14, '...</td>\n",
              "      <td>8844</td>\n",
              "      <td>en</td>\n",
              "      <td>When siblings Judy and Peter discover an encha...</td>\n",
              "      <td>17.015539</td>\n",
              "      <td>[{'name': 'TriStar Pictures', 'id': 559}, {'na...</td>\n",
              "      <td>[{'iso_3166_1': 'US', 'name': 'United States o...</td>\n",
              "      <td>1995-12-15</td>\n",
              "      <td>...</td>\n",
              "      <td>NaN</td>\n",
              "      <td>NaN</td>\n",
              "      <td>12,14,10751</td>\n",
              "      <td>Adventure,Fantasy,Family</td>\n",
              "      <td>TriStar Pictures,Teitler Film,Interscope Commu...</td>\n",
              "      <td>559,2550,10201</td>\n",
              "      <td>US</td>\n",
              "      <td>United States of America</td>\n",
              "      <td>en,fr</td>\n",
              "      <td>English,Français</td>\n",
              "    </tr>\n",
              "  </tbody>\n",
              "</table>\n",
              "<p>2 rows × 32 columns</p>\n",
              "</div>"
            ],
            "text/plain": [
              "                               belongs_to_collection      budget  \\\n",
              "0  {'id': 10194, 'name': 'Toy Story Collection', ...  30000000.0   \n",
              "1                                                 {}  65000000.0   \n",
              "\n",
              "                                              genres    id original_language  \\\n",
              "0  [{'id': 16, 'name': 'Animation'}, {'id': 35, '...   862                en   \n",
              "1  [{'id': 12, 'name': 'Adventure'}, {'id': 14, '...  8844                en   \n",
              "\n",
              "                                            overview popularity  \\\n",
              "0  Led by Woody, Andy's toys live happily in his ...  21.946943   \n",
              "1  When siblings Judy and Peter discover an encha...  17.015539   \n",
              "\n",
              "                                production_companies  \\\n",
              "0     [{'name': 'Pixar Animation Studios', 'id': 3}]   \n",
              "1  [{'name': 'TriStar Pictures', 'id': 559}, {'na...   \n",
              "\n",
              "                                production_countries release_date  ...  \\\n",
              "0  [{'iso_3166_1': 'US', 'name': 'United States o...   1995-10-30  ...   \n",
              "1  [{'iso_3166_1': 'US', 'name': 'United States o...   1995-12-15  ...   \n",
              "\n",
              "           collection_poster_path_a        collection_backdrop_path_a  \\\n",
              "0  /7G9915LfUQ2lVfwMEEhDsn3kT4B.jpg  /9FBwqcd9IRruEDUrTdcaafOMKUq.jpg   \n",
              "1                               NaN                               NaN   \n",
              "\n",
              "          id_a                    name_a  \\\n",
              "0  16,35,10751   Animation,Comedy,Family   \n",
              "1  12,14,10751  Adventure,Fantasy,Family   \n",
              "\n",
              "                         production_companies_name_a  \\\n",
              "0                            Pixar Animation Studios   \n",
              "1  TriStar Pictures,Teitler Film,Interscope Commu...   \n",
              "\n",
              "  production_companies_id_a  production_countries_iso_a  \\\n",
              "0                         3                          US   \n",
              "1            559,2550,10201                          US   \n",
              "\n",
              "   production_countries_name_a  spoken_language_iso_a  spoken_language_name_a  \n",
              "0     United States of America                     en                 English  \n",
              "1     United States of America                  en,fr        English,Français  \n",
              "\n",
              "[2 rows x 32 columns]"
            ]
          },
          "execution_count": 51,
          "metadata": {},
          "output_type": "execute_result"
        }
      ],
      "source": [
        "# Visualizar los datos (opcional)\n",
        "dfL.head(2)"
      ]
    },
    {
      "cell_type": "code",
      "execution_count": null,
      "metadata": {
        "id": "zjm11j7nUAi9"
      },
      "outputs": [],
      "source": [
        "# Para poder unir los df eventualemente, previamente es necesario convertir la columna \"id\" de dfL a tipo object\n",
        "dfL[\"id\"] = dfL[\"id\"].astype(float)"
      ]
    },
    {
      "cell_type": "markdown",
      "metadata": {
        "id": "A4pcBUlzUAi-"
      },
      "source": [
        "## --------------------------------------------------------------------\n",
        "### Credits. csv\n",
        "\n",
        "Se procede a desanidar las columnas y seleccionar aquellas que serán necesarias desde el archivo \"credits.csv\""
      ]
    },
    {
      "cell_type": "code",
      "execution_count": null,
      "metadata": {
        "id": "nMKqT0-mUAi-",
        "outputId": "99a52284-7e70-45fd-f101-481fcaa4b928"
      },
      "outputs": [
        {
          "name": "stdout",
          "output_type": "stream",
          "text": [
            "(45476, 3)\n"
          ]
        },
        {
          "data": {
            "text/html": [
              "<div>\n",
              "<style scoped>\n",
              "    .dataframe tbody tr th:only-of-type {\n",
              "        vertical-align: middle;\n",
              "    }\n",
              "\n",
              "    .dataframe tbody tr th {\n",
              "        vertical-align: top;\n",
              "    }\n",
              "\n",
              "    .dataframe thead th {\n",
              "        text-align: right;\n",
              "    }\n",
              "</style>\n",
              "<table border=\"1\" class=\"dataframe\">\n",
              "  <thead>\n",
              "    <tr style=\"text-align: right;\">\n",
              "      <th></th>\n",
              "      <th>cast</th>\n",
              "      <th>crew</th>\n",
              "      <th>id</th>\n",
              "    </tr>\n",
              "  </thead>\n",
              "  <tbody>\n",
              "    <tr>\n",
              "      <th>7190</th>\n",
              "      <td>[{'cast_id': 3, 'character': 'Narrator (voice)...</td>\n",
              "      <td>[{'credit_id': '52fe46249251416c9104a9ed', 'de...</td>\n",
              "      <td>37044</td>\n",
              "    </tr>\n",
              "    <tr>\n",
              "      <th>36088</th>\n",
              "      <td>[{'cast_id': 1, 'character': 'Eyal Goldman', '...</td>\n",
              "      <td>[{'credit_id': '52fe4bb1c3a36847f820fbb5', 'de...</td>\n",
              "      <td>117316</td>\n",
              "    </tr>\n",
              "    <tr>\n",
              "      <th>19936</th>\n",
              "      <td>[{'cast_id': 0, 'character': 'Barbara Olmstead...</td>\n",
              "      <td>[{'credit_id': '5372244fc3a3684366001102', 'de...</td>\n",
              "      <td>259292</td>\n",
              "    </tr>\n",
              "  </tbody>\n",
              "</table>\n",
              "</div>"
            ],
            "text/plain": [
              "                                                    cast  \\\n",
              "7190   [{'cast_id': 3, 'character': 'Narrator (voice)...   \n",
              "36088  [{'cast_id': 1, 'character': 'Eyal Goldman', '...   \n",
              "19936  [{'cast_id': 0, 'character': 'Barbara Olmstead...   \n",
              "\n",
              "                                                    crew      id  \n",
              "7190   [{'credit_id': '52fe46249251416c9104a9ed', 'de...   37044  \n",
              "36088  [{'credit_id': '52fe4bb1c3a36847f820fbb5', 'de...  117316  \n",
              "19936  [{'credit_id': '5372244fc3a3684366001102', 'de...  259292  "
            ]
          },
          "execution_count": 54,
          "metadata": {},
          "output_type": "execute_result"
        }
      ],
      "source": [
        "# Carga del archivo y revisión del mismo\n",
        "df1 = pd.read_csv(\"credits.csv\", low_memory=False)\n",
        "print(df1.shape) # contiene 45476 filas y 3 columnas: cast, crew, id\n",
        "df1.sample(3)"
      ]
    },
    {
      "cell_type": "code",
      "execution_count": null,
      "metadata": {
        "id": "t7-17CrjUAi-",
        "outputId": "7084ccff-e3c8-4ab8-bec0-24415036ca5c"
      },
      "outputs": [
        {
          "data": {
            "text/plain": [
              "cast    0\n",
              "crew    0\n",
              "id      0\n",
              "dtype: int64"
            ]
          },
          "execution_count": 55,
          "metadata": {},
          "output_type": "execute_result"
        }
      ],
      "source": [
        "# Evaluación de vacios del DataFrame\n",
        "df1.isna().sum() # no contiene vacíos"
      ]
    },
    {
      "cell_type": "markdown",
      "metadata": {
        "id": "YMi2QKVkUAi-"
      },
      "source": [
        "Será necesario para el trabajo futuro:\n",
        "* Obtener el nombre de los actores de la columna \"cast\"\n",
        "* Obtener el nombre del director de la columna \"crew\""
      ]
    },
    {
      "cell_type": "code",
      "execution_count": null,
      "metadata": {
        "id": "E5gr7ZLkUAi-"
      },
      "outputs": [],
      "source": [
        "# CAST\n",
        "\n",
        "# Se crea una columna \"cast_eval\" con los datos obtenidos de \"cast\"\n",
        "df1[\"cast_eval\"] = df1[\"cast\"].apply(lambda x: ast.literal_eval(x))\n"
      ]
    },
    {
      "cell_type": "code",
      "execution_count": null,
      "metadata": {
        "id": "B-iCwUzIUAi-",
        "outputId": "92983e1b-266e-425e-f74c-3de4ac1b2de5"
      },
      "outputs": [
        {
          "name": "stdout",
          "output_type": "stream",
          "text": [
            "(564892, 2)\n"
          ]
        },
        {
          "data": {
            "text/html": [
              "<div>\n",
              "<style scoped>\n",
              "    .dataframe tbody tr th:only-of-type {\n",
              "        vertical-align: middle;\n",
              "    }\n",
              "\n",
              "    .dataframe tbody tr th {\n",
              "        vertical-align: top;\n",
              "    }\n",
              "\n",
              "    .dataframe thead th {\n",
              "        text-align: right;\n",
              "    }\n",
              "</style>\n",
              "<table border=\"1\" class=\"dataframe\">\n",
              "  <thead>\n",
              "    <tr style=\"text-align: right;\">\n",
              "      <th></th>\n",
              "      <th>id</th>\n",
              "      <th>cast_eval</th>\n",
              "    </tr>\n",
              "  </thead>\n",
              "  <tbody>\n",
              "    <tr>\n",
              "      <th>438555</th>\n",
              "      <td>50341</td>\n",
              "      <td>{'cast_id': 7, 'character': '', 'credit_id': '...</td>\n",
              "    </tr>\n",
              "    <tr>\n",
              "      <th>19363</th>\n",
              "      <td>38554</td>\n",
              "      <td>{'cast_id': 45, 'character': 'Information Boot...</td>\n",
              "    </tr>\n",
              "    <tr>\n",
              "      <th>3106</th>\n",
              "      <td>11980</td>\n",
              "      <td>{'cast_id': 9, 'character': 'Gabriel', 'credit...</td>\n",
              "    </tr>\n",
              "  </tbody>\n",
              "</table>\n",
              "</div>"
            ],
            "text/plain": [
              "           id                                          cast_eval\n",
              "438555  50341  {'cast_id': 7, 'character': '', 'credit_id': '...\n",
              "19363   38554  {'cast_id': 45, 'character': 'Information Boot...\n",
              "3106    11980  {'cast_id': 9, 'character': 'Gabriel', 'credit..."
            ]
          },
          "execution_count": 57,
          "metadata": {},
          "output_type": "execute_result"
        }
      ],
      "source": [
        "# Se crea un df \"cast_df\" con la información de las columnas \"id\", \"cast_eval\"\n",
        "cast_df = df1[[\"id\",\"cast_eval\"]].explode(\"cast_eval\").reset_index(drop=True)\n",
        "print(cast_df.shape) # este df cuenta con 564892 filas y 2 columnas\n",
        "cast_df.sample(3)"
      ]
    },
    {
      "cell_type": "code",
      "execution_count": null,
      "metadata": {
        "id": "g-G7iv3zUAi_",
        "outputId": "0b90679d-e851-4dfd-8712-fe8a991a9b50"
      },
      "outputs": [
        {
          "name": "stdout",
          "output_type": "stream",
          "text": [
            "(564892, 10)\n"
          ]
        },
        {
          "data": {
            "text/html": [
              "<div>\n",
              "<style scoped>\n",
              "    .dataframe tbody tr th:only-of-type {\n",
              "        vertical-align: middle;\n",
              "    }\n",
              "\n",
              "    .dataframe tbody tr th {\n",
              "        vertical-align: top;\n",
              "    }\n",
              "\n",
              "    .dataframe thead th {\n",
              "        text-align: right;\n",
              "    }\n",
              "</style>\n",
              "<table border=\"1\" class=\"dataframe\">\n",
              "  <thead>\n",
              "    <tr style=\"text-align: right;\">\n",
              "      <th></th>\n",
              "      <th>id_cast</th>\n",
              "      <th>cast_eval</th>\n",
              "      <th>cast_id</th>\n",
              "      <th>character</th>\n",
              "      <th>credit_id</th>\n",
              "      <th>gender</th>\n",
              "      <th>id_cast</th>\n",
              "      <th>name</th>\n",
              "      <th>order</th>\n",
              "      <th>profile_path</th>\n",
              "    </tr>\n",
              "  </thead>\n",
              "  <tbody>\n",
              "    <tr>\n",
              "      <th>304857</th>\n",
              "      <td>5686</td>\n",
              "      <td>{'cast_id': 13, 'character': 'Ivy', 'credit_id...</td>\n",
              "      <td>13.0</td>\n",
              "      <td>Ivy</td>\n",
              "      <td>544696fc0e0a26633d00b68f</td>\n",
              "      <td>0.0</td>\n",
              "      <td>65103.0</td>\n",
              "      <td>Linda Lee Cadwell</td>\n",
              "      <td>7.0</td>\n",
              "      <td>/yvl7es5vcJmzjPdS6K04SoY7VkT.jpg</td>\n",
              "    </tr>\n",
              "    <tr>\n",
              "      <th>72894</th>\n",
              "      <td>21056</td>\n",
              "      <td>{'cast_id': 1, 'character': 'Henry Hart', 'cre...</td>\n",
              "      <td>1.0</td>\n",
              "      <td>Henry Hart</td>\n",
              "      <td>52fe440ac3a368484e00bf55</td>\n",
              "      <td>2.0</td>\n",
              "      <td>72028.0</td>\n",
              "      <td>Arye Gross</td>\n",
              "      <td>0.0</td>\n",
              "      <td>/ha4ziYlBSBBHs88ltnamOKLZ084.jpg</td>\n",
              "    </tr>\n",
              "    <tr>\n",
              "      <th>497353</th>\n",
              "      <td>85327</td>\n",
              "      <td>{'cast_id': 13, 'character': '', 'credit_id': ...</td>\n",
              "      <td>13.0</td>\n",
              "      <td></td>\n",
              "      <td>57abecefc3a368230b003dc8</td>\n",
              "      <td>0.0</td>\n",
              "      <td>84762.0</td>\n",
              "      <td>Kathryn Walker</td>\n",
              "      <td>11.0</td>\n",
              "      <td>/4e6tEWOmxQ1aIwsUlp6fXdTCoxr.jpg</td>\n",
              "    </tr>\n",
              "  </tbody>\n",
              "</table>\n",
              "</div>"
            ],
            "text/plain": [
              "        id_cast                                          cast_eval  cast_id  \\\n",
              "304857     5686  {'cast_id': 13, 'character': 'Ivy', 'credit_id...     13.0   \n",
              "72894     21056  {'cast_id': 1, 'character': 'Henry Hart', 'cre...      1.0   \n",
              "497353    85327  {'cast_id': 13, 'character': '', 'credit_id': ...     13.0   \n",
              "\n",
              "         character                 credit_id  gender  id_cast  \\\n",
              "304857         Ivy  544696fc0e0a26633d00b68f     0.0  65103.0   \n",
              "72894   Henry Hart  52fe440ac3a368484e00bf55     2.0  72028.0   \n",
              "497353              57abecefc3a368230b003dc8     0.0  84762.0   \n",
              "\n",
              "                     name  order                      profile_path  \n",
              "304857  Linda Lee Cadwell    7.0  /yvl7es5vcJmzjPdS6K04SoY7VkT.jpg  \n",
              "72894          Arye Gross    0.0  /ha4ziYlBSBBHs88ltnamOKLZ084.jpg  \n",
              "497353     Kathryn Walker   11.0  /4e6tEWOmxQ1aIwsUlp6fXdTCoxr.jpg  "
            ]
          },
          "execution_count": 58,
          "metadata": {},
          "output_type": "execute_result"
        }
      ],
      "source": [
        "# Agregar columnas normalizadas al df \"cast_df\"\n",
        "cast_df = pd.concat([cast_df, pd.json_normalize(cast_df[\"cast_eval\"])], axis=1).rename(columns={\"id\":\"id_cast\"})\n",
        "print(cast_df.shape) #  Tine 564892 filas y 10 columnas\n",
        "cast_df.sample(3)"
      ]
    },
    {
      "cell_type": "code",
      "execution_count": null,
      "metadata": {
        "id": "EM6FveifUAi_"
      },
      "outputs": [],
      "source": [
        "# CREW\n",
        "\n",
        "# De forma análoga se crea la columna \"crew_eval\" con los datos de \"crew\"\n",
        "df1[\"crew_eval\"] = df1[\"crew\"].apply(lambda x: ast.literal_eval(x))"
      ]
    },
    {
      "cell_type": "code",
      "execution_count": null,
      "metadata": {
        "id": "5nBoctSjUAi_",
        "outputId": "093dfd4f-2ef4-4cf0-aaca-dd9a63fd5328"
      },
      "outputs": [
        {
          "name": "stdout",
          "output_type": "stream",
          "text": [
            "(45476, 2)\n"
          ]
        },
        {
          "data": {
            "text/html": [
              "<div>\n",
              "<style scoped>\n",
              "    .dataframe tbody tr th:only-of-type {\n",
              "        vertical-align: middle;\n",
              "    }\n",
              "\n",
              "    .dataframe tbody tr th {\n",
              "        vertical-align: top;\n",
              "    }\n",
              "\n",
              "    .dataframe thead th {\n",
              "        text-align: right;\n",
              "    }\n",
              "</style>\n",
              "<table border=\"1\" class=\"dataframe\">\n",
              "  <thead>\n",
              "    <tr style=\"text-align: right;\">\n",
              "      <th></th>\n",
              "      <th>id_crew</th>\n",
              "      <th>crew</th>\n",
              "    </tr>\n",
              "  </thead>\n",
              "  <tbody>\n",
              "    <tr>\n",
              "      <th>5290</th>\n",
              "      <td>27451</td>\n",
              "      <td>[{'credit_id': '52fe454bc3a368484e051df1', 'de...</td>\n",
              "    </tr>\n",
              "    <tr>\n",
              "      <th>10793</th>\n",
              "      <td>12096</td>\n",
              "      <td>[{'credit_id': '5628186ac3a368487d00002a', 'de...</td>\n",
              "    </tr>\n",
              "    <tr>\n",
              "      <th>5537</th>\n",
              "      <td>70443</td>\n",
              "      <td>[{'credit_id': '52fe47f8c3a368484e0e353b', 'de...</td>\n",
              "    </tr>\n",
              "  </tbody>\n",
              "</table>\n",
              "</div>"
            ],
            "text/plain": [
              "       id_crew                                               crew\n",
              "5290     27451  [{'credit_id': '52fe454bc3a368484e051df1', 'de...\n",
              "10793    12096  [{'credit_id': '5628186ac3a368487d00002a', 'de...\n",
              "5537     70443  [{'credit_id': '52fe47f8c3a368484e0e353b', 'de..."
            ]
          },
          "execution_count": 60,
          "metadata": {},
          "output_type": "execute_result"
        }
      ],
      "source": [
        "# Se crea el df \"crew_df\" y se normalizan los datos\n",
        "crew_df = df1[[\"id\",\"crew\"]].explode(\"crew\").reset_index(drop=True)\n",
        "crew_df = pd.concat([crew_df, pd.json_normalize(crew_df[\"crew\"])],axis=1).rename(columns={\"id\":\"id_crew\"})\n",
        "print(crew_df.shape)\n",
        "crew_df.sample(3)"
      ]
    },
    {
      "cell_type": "code",
      "execution_count": null,
      "metadata": {
        "id": "cSLuGsjgUAi_"
      },
      "outputs": [],
      "source": [
        "df1[\"crew_size\"] = df1[\"crew_eval\"].apply(len)\n",
        "df1[\"cast_size\"] = df1[\"cast_eval\"].apply(len)"
      ]
    },
    {
      "cell_type": "code",
      "execution_count": null,
      "metadata": {
        "id": "3Qk-itFEUAi_",
        "outputId": "ddb43bad-50bd-44a4-d3e3-58ec4200c735"
      },
      "outputs": [
        {
          "data": {
            "text/html": [
              "<div>\n",
              "<style scoped>\n",
              "    .dataframe tbody tr th:only-of-type {\n",
              "        vertical-align: middle;\n",
              "    }\n",
              "\n",
              "    .dataframe tbody tr th {\n",
              "        vertical-align: top;\n",
              "    }\n",
              "\n",
              "    .dataframe thead th {\n",
              "        text-align: right;\n",
              "    }\n",
              "</style>\n",
              "<table border=\"1\" class=\"dataframe\">\n",
              "  <thead>\n",
              "    <tr style=\"text-align: right;\">\n",
              "      <th></th>\n",
              "      <th>cast</th>\n",
              "      <th>crew</th>\n",
              "      <th>id</th>\n",
              "      <th>cast_eval</th>\n",
              "      <th>crew_eval</th>\n",
              "      <th>crew_size</th>\n",
              "      <th>cast_size</th>\n",
              "    </tr>\n",
              "  </thead>\n",
              "  <tbody>\n",
              "    <tr>\n",
              "      <th>27477</th>\n",
              "      <td>[{'cast_id': 1, 'character': 'Perry Mason', 'c...</td>\n",
              "      <td>[{'credit_id': '52fe4912c3a368484e119035', 'de...</td>\n",
              "      <td>75770</td>\n",
              "      <td>[{'cast_id': 1, 'character': 'Perry Mason', 'c...</td>\n",
              "      <td>[{'credit_id': '52fe4912c3a368484e119035', 'de...</td>\n",
              "      <td>9</td>\n",
              "      <td>20</td>\n",
              "    </tr>\n",
              "    <tr>\n",
              "      <th>21616</th>\n",
              "      <td>[{'cast_id': 5, 'character': 'Himself', 'credi...</td>\n",
              "      <td>[{'credit_id': '52fe496bc3a36847f819933d', 'de...</td>\n",
              "      <td>58607</td>\n",
              "      <td>[{'cast_id': 5, 'character': 'Himself', 'credi...</td>\n",
              "      <td>[{'credit_id': '52fe496bc3a36847f819933d', 'de...</td>\n",
              "      <td>4</td>\n",
              "      <td>1</td>\n",
              "    </tr>\n",
              "    <tr>\n",
              "      <th>24711</th>\n",
              "      <td>[{'cast_id': 2, 'character': 'Jack Ryan', 'cre...</td>\n",
              "      <td>[{'credit_id': '52fe46cbc3a368484e0a4355', 'de...</td>\n",
              "      <td>64160</td>\n",
              "      <td>[{'cast_id': 2, 'character': 'Jack Ryan', 'cre...</td>\n",
              "      <td>[{'credit_id': '52fe46cbc3a368484e0a4355', 'de...</td>\n",
              "      <td>2</td>\n",
              "      <td>3</td>\n",
              "    </tr>\n",
              "  </tbody>\n",
              "</table>\n",
              "</div>"
            ],
            "text/plain": [
              "                                                    cast  \\\n",
              "27477  [{'cast_id': 1, 'character': 'Perry Mason', 'c...   \n",
              "21616  [{'cast_id': 5, 'character': 'Himself', 'credi...   \n",
              "24711  [{'cast_id': 2, 'character': 'Jack Ryan', 'cre...   \n",
              "\n",
              "                                                    crew     id  \\\n",
              "27477  [{'credit_id': '52fe4912c3a368484e119035', 'de...  75770   \n",
              "21616  [{'credit_id': '52fe496bc3a36847f819933d', 'de...  58607   \n",
              "24711  [{'credit_id': '52fe46cbc3a368484e0a4355', 'de...  64160   \n",
              "\n",
              "                                               cast_eval  \\\n",
              "27477  [{'cast_id': 1, 'character': 'Perry Mason', 'c...   \n",
              "21616  [{'cast_id': 5, 'character': 'Himself', 'credi...   \n",
              "24711  [{'cast_id': 2, 'character': 'Jack Ryan', 'cre...   \n",
              "\n",
              "                                               crew_eval  crew_size  cast_size  \n",
              "27477  [{'credit_id': '52fe4912c3a368484e119035', 'de...          9         20  \n",
              "21616  [{'credit_id': '52fe496bc3a36847f819933d', 'de...          4          1  \n",
              "24711  [{'credit_id': '52fe46cbc3a368484e0a4355', 'de...          2          3  "
            ]
          },
          "execution_count": 62,
          "metadata": {},
          "output_type": "execute_result"
        }
      ],
      "source": [
        "df1.sample(3)"
      ]
    },
    {
      "cell_type": "code",
      "execution_count": null,
      "metadata": {
        "id": "Mu0UME73UAjA",
        "outputId": "c385a83c-bcaa-4fb4-ddcd-5113b54dc320"
      },
      "outputs": [
        {
          "name": "stdout",
          "output_type": "stream",
          "text": [
            "[{'credit_id': '52fe44779251416c91011acb', 'department': 'Directing', 'gender': 2, 'id': 2178, 'job': 'Director', 'name': 'Forest Whitaker', 'profile_path': '/4pMQkelS5lK661m9Kz3oIxLYiyS.jpg'}, {'credit_id': '52fe44779251416c91011ae1', 'department': 'Writing', 'gender': 0, 'id': 5144, 'job': 'Screenplay', 'name': 'Ronald Bass', 'profile_path': None}, {'credit_id': '52fe44779251416c91011ae7', 'department': 'Production', 'gender': 0, 'id': 5144, 'job': 'Producer', 'name': 'Ronald Bass', 'profile_path': None}, {'credit_id': '52fe44779251416c91011aff', 'department': 'Production', 'gender': 2, 'id': 21968, 'job': 'Producer', 'name': 'Ezra Swerdlow', 'profile_path': None}, {'credit_id': '52fe44779251416c91011af9', 'department': 'Production', 'gender': 1, 'id': 70592, 'job': 'Producer', 'name': 'Deborah Schindler', 'profile_path': '/2vFzdHxcB8cEtvPlNSs2VGZ7WG3.jpg'}, {'credit_id': '52fe44779251416c91011adb', 'department': 'Writing', 'gender': 0, 'id': 111118, 'job': 'Screenplay', 'name': 'Terry McMillan', 'profile_path': None}, {'credit_id': '52fe44779251416c91011af3', 'department': 'Production', 'gender': 0, 'id': 111118, 'job': 'Executive Producer', 'name': 'Terry McMillan', 'profile_path': None}, {'credit_id': '52fe44779251416c91011ad5', 'department': 'Writing', 'gender': 0, 'id': 111118, 'job': 'Novel', 'name': 'Terry McMillan', 'profile_path': None}, {'credit_id': '52fe44779251416c91011b05', 'department': 'Sound', 'gender': 2, 'id': 1079697, 'job': 'Original Music Composer', 'name': 'Kenneth Edmonds', 'profile_path': '/2EqVBaDGRA0sHkEKagu2NxfP1Nm.jpg'}, {'credit_id': '52fe44779251416c91011aed', 'department': 'Production', 'gender': 0, 'id': 1087695, 'job': 'Producer', 'name': 'Caron K', 'profile_path': None}]\n"
          ]
        }
      ],
      "source": [
        "# Podemos evaluar el contenido de algunas celdas de la columna \"crew_eval\"\n",
        "contenido1 = df1.iloc[3, df1.columns.get_loc(\"crew_eval\")]\n",
        "print(contenido1)"
      ]
    },
    {
      "cell_type": "code",
      "execution_count": null,
      "metadata": {
        "id": "mWAW2pDsUAjA"
      },
      "outputs": [],
      "source": [
        "df2=df1.copy()\n",
        "df2= pd.DataFrame(df2)"
      ]
    },
    {
      "cell_type": "code",
      "execution_count": null,
      "metadata": {
        "id": "_FLfis9cUAjA",
        "outputId": "730b76b7-097c-410d-ea52-784e345c6334"
      },
      "outputs": [
        {
          "name": "stdout",
          "output_type": "stream",
          "text": [
            "<class 'pandas.core.frame.DataFrame'>\n",
            "RangeIndex: 45476 entries, 0 to 45475\n",
            "Data columns (total 7 columns):\n",
            " #   Column     Non-Null Count  Dtype \n",
            "---  ------     --------------  ----- \n",
            " 0   cast       45476 non-null  object\n",
            " 1   crew       45476 non-null  object\n",
            " 2   id         45476 non-null  int64 \n",
            " 3   cast_eval  45476 non-null  object\n",
            " 4   crew_eval  45476 non-null  object\n",
            " 5   crew_size  45476 non-null  int64 \n",
            " 6   cast_size  45476 non-null  int64 \n",
            "dtypes: int64(3), object(4)\n",
            "memory usage: 2.4+ MB\n"
          ]
        }
      ],
      "source": [
        "df2.info()"
      ]
    },
    {
      "cell_type": "code",
      "execution_count": null,
      "metadata": {
        "id": "NDOGiWvhUAjA"
      },
      "outputs": [],
      "source": [
        "# Crear una nueva columna llamada \"Name_actors\" con los nombres de los actores separados por comas\n",
        "df2['Name_actors'] = df2['cast'].apply(lambda x: ', '.join([actor['name'] for actor in eval(x)]))"
      ]
    },
    {
      "cell_type": "code",
      "execution_count": null,
      "metadata": {
        "id": "qnxx4KXCUAjA",
        "outputId": "eb92f314-2cfa-4597-cdee-539c876f8aef"
      },
      "outputs": [
        {
          "name": "stdout",
          "output_type": "stream",
          "text": [
            "<class 'pandas.core.frame.DataFrame'>\n",
            "RangeIndex: 45476 entries, 0 to 45475\n",
            "Data columns (total 8 columns):\n",
            " #   Column       Non-Null Count  Dtype \n",
            "---  ------       --------------  ----- \n",
            " 0   cast         45476 non-null  object\n",
            " 1   crew         45476 non-null  object\n",
            " 2   id           45476 non-null  int64 \n",
            " 3   cast_eval    45476 non-null  object\n",
            " 4   crew_eval    45476 non-null  object\n",
            " 5   crew_size    45476 non-null  int64 \n",
            " 6   cast_size    45476 non-null  int64 \n",
            " 7   Name_actors  45476 non-null  object\n",
            "dtypes: int64(3), object(5)\n",
            "memory usage: 2.8+ MB\n"
          ]
        }
      ],
      "source": [
        "# Reviso nuevamente las modificaciones realizadas\n",
        "df2.info()"
      ]
    },
    {
      "cell_type": "code",
      "execution_count": null,
      "metadata": {
        "id": "0G3w5ULXUAjB",
        "outputId": "bbfb6e75-b3cd-4e89-d13e-ab73d2e33424"
      },
      "outputs": [
        {
          "data": {
            "text/html": [
              "<div>\n",
              "<style scoped>\n",
              "    .dataframe tbody tr th:only-of-type {\n",
              "        vertical-align: middle;\n",
              "    }\n",
              "\n",
              "    .dataframe tbody tr th {\n",
              "        vertical-align: top;\n",
              "    }\n",
              "\n",
              "    .dataframe thead th {\n",
              "        text-align: right;\n",
              "    }\n",
              "</style>\n",
              "<table border=\"1\" class=\"dataframe\">\n",
              "  <thead>\n",
              "    <tr style=\"text-align: right;\">\n",
              "      <th></th>\n",
              "      <th>cast</th>\n",
              "      <th>crew</th>\n",
              "      <th>id</th>\n",
              "      <th>cast_eval</th>\n",
              "      <th>crew_eval</th>\n",
              "      <th>crew_size</th>\n",
              "      <th>cast_size</th>\n",
              "      <th>Name_actors</th>\n",
              "    </tr>\n",
              "  </thead>\n",
              "  <tbody>\n",
              "    <tr>\n",
              "      <th>0</th>\n",
              "      <td>[{'cast_id': 14, 'character': 'Woody (voice)',...</td>\n",
              "      <td>[{'credit_id': '52fe4284c3a36847f8024f49', 'de...</td>\n",
              "      <td>862</td>\n",
              "      <td>[{'cast_id': 14, 'character': 'Woody (voice)',...</td>\n",
              "      <td>[{'credit_id': '52fe4284c3a36847f8024f49', 'de...</td>\n",
              "      <td>106</td>\n",
              "      <td>13</td>\n",
              "      <td>Tom Hanks, Tim Allen, Don Rickles, Jim Varney,...</td>\n",
              "    </tr>\n",
              "    <tr>\n",
              "      <th>1</th>\n",
              "      <td>[{'cast_id': 1, 'character': 'Alan Parrish', '...</td>\n",
              "      <td>[{'credit_id': '52fe44bfc3a36847f80a7cd1', 'de...</td>\n",
              "      <td>8844</td>\n",
              "      <td>[{'cast_id': 1, 'character': 'Alan Parrish', '...</td>\n",
              "      <td>[{'credit_id': '52fe44bfc3a36847f80a7cd1', 'de...</td>\n",
              "      <td>16</td>\n",
              "      <td>26</td>\n",
              "      <td>Robin Williams, Jonathan Hyde, Kirsten Dunst, ...</td>\n",
              "    </tr>\n",
              "    <tr>\n",
              "      <th>2</th>\n",
              "      <td>[{'cast_id': 2, 'character': 'Max Goldman', 'c...</td>\n",
              "      <td>[{'credit_id': '52fe466a9251416c75077a89', 'de...</td>\n",
              "      <td>15602</td>\n",
              "      <td>[{'cast_id': 2, 'character': 'Max Goldman', 'c...</td>\n",
              "      <td>[{'credit_id': '52fe466a9251416c75077a89', 'de...</td>\n",
              "      <td>4</td>\n",
              "      <td>7</td>\n",
              "      <td>Walter Matthau, Jack Lemmon, Ann-Margret, Soph...</td>\n",
              "    </tr>\n",
              "  </tbody>\n",
              "</table>\n",
              "</div>"
            ],
            "text/plain": [
              "                                                cast  \\\n",
              "0  [{'cast_id': 14, 'character': 'Woody (voice)',...   \n",
              "1  [{'cast_id': 1, 'character': 'Alan Parrish', '...   \n",
              "2  [{'cast_id': 2, 'character': 'Max Goldman', 'c...   \n",
              "\n",
              "                                                crew     id  \\\n",
              "0  [{'credit_id': '52fe4284c3a36847f8024f49', 'de...    862   \n",
              "1  [{'credit_id': '52fe44bfc3a36847f80a7cd1', 'de...   8844   \n",
              "2  [{'credit_id': '52fe466a9251416c75077a89', 'de...  15602   \n",
              "\n",
              "                                           cast_eval  \\\n",
              "0  [{'cast_id': 14, 'character': 'Woody (voice)',...   \n",
              "1  [{'cast_id': 1, 'character': 'Alan Parrish', '...   \n",
              "2  [{'cast_id': 2, 'character': 'Max Goldman', 'c...   \n",
              "\n",
              "                                           crew_eval  crew_size  cast_size  \\\n",
              "0  [{'credit_id': '52fe4284c3a36847f8024f49', 'de...        106         13   \n",
              "1  [{'credit_id': '52fe44bfc3a36847f80a7cd1', 'de...         16         26   \n",
              "2  [{'credit_id': '52fe466a9251416c75077a89', 'de...          4          7   \n",
              "\n",
              "                                         Name_actors  \n",
              "0  Tom Hanks, Tim Allen, Don Rickles, Jim Varney,...  \n",
              "1  Robin Williams, Jonathan Hyde, Kirsten Dunst, ...  \n",
              "2  Walter Matthau, Jack Lemmon, Ann-Margret, Soph...  "
            ]
          },
          "execution_count": 68,
          "metadata": {},
          "output_type": "execute_result"
        }
      ],
      "source": [
        "# Podemos ver las columnas de las 3 primeras filas\n",
        "df2.head(3)"
      ]
    },
    {
      "cell_type": "code",
      "execution_count": null,
      "metadata": {
        "id": "fECiC25vUAjB",
        "outputId": "4a4e4619-0029-4aad-d898-3976cd8fce4d"
      },
      "outputs": [
        {
          "name": "stdout",
          "output_type": "stream",
          "text": [
            "Whitney Houston, Angela Bassett, Loretta Devine, Lela Rochon, Gregory Hines, Dennis Haysbert, Michael Beach, Mykelti Williamson, Lamont Johnson, Wesley Snipes\n"
          ]
        }
      ],
      "source": [
        "# Si revisamos el contenido de la celda 3 podemos ver que se encuentran los actores separados por \",\"\n",
        "contenido = df2.iloc[3, df2.columns.get_loc(\"Name_actors\")]\n",
        "print(contenido)"
      ]
    },
    {
      "cell_type": "code",
      "execution_count": null,
      "metadata": {
        "id": "uI3AMuvLUAjB"
      },
      "outputs": [],
      "source": [
        "# DIRECTOR\n",
        "\n",
        "df3= df2.copy()"
      ]
    },
    {
      "cell_type": "code",
      "execution_count": null,
      "metadata": {
        "id": "ZlmBGfuxUAjB"
      },
      "outputs": [],
      "source": [
        "# Crear una nueva columna llamada \"Names_crew\" con los nombres de los actores separados por comas\n",
        "df3['Names_crew'] = df3['crew'].apply(lambda x: ', '.join([director['name'] for director in eval(x)]))\n"
      ]
    },
    {
      "cell_type": "code",
      "execution_count": null,
      "metadata": {
        "id": "GGDi_3k4UAjB",
        "outputId": "98d697e8-1397-4e0b-dfbb-9e44298f3536"
      },
      "outputs": [
        {
          "data": {
            "text/html": [
              "<div>\n",
              "<style scoped>\n",
              "    .dataframe tbody tr th:only-of-type {\n",
              "        vertical-align: middle;\n",
              "    }\n",
              "\n",
              "    .dataframe tbody tr th {\n",
              "        vertical-align: top;\n",
              "    }\n",
              "\n",
              "    .dataframe thead th {\n",
              "        text-align: right;\n",
              "    }\n",
              "</style>\n",
              "<table border=\"1\" class=\"dataframe\">\n",
              "  <thead>\n",
              "    <tr style=\"text-align: right;\">\n",
              "      <th></th>\n",
              "      <th>cast</th>\n",
              "      <th>crew</th>\n",
              "      <th>id</th>\n",
              "      <th>cast_eval</th>\n",
              "      <th>crew_eval</th>\n",
              "      <th>crew_size</th>\n",
              "      <th>cast_size</th>\n",
              "      <th>Name_actors</th>\n",
              "      <th>Names_crew</th>\n",
              "    </tr>\n",
              "  </thead>\n",
              "  <tbody>\n",
              "    <tr>\n",
              "      <th>0</th>\n",
              "      <td>[{'cast_id': 14, 'character': 'Woody (voice)',...</td>\n",
              "      <td>[{'credit_id': '52fe4284c3a36847f8024f49', 'de...</td>\n",
              "      <td>862</td>\n",
              "      <td>[{'cast_id': 14, 'character': 'Woody (voice)',...</td>\n",
              "      <td>[{'credit_id': '52fe4284c3a36847f8024f49', 'de...</td>\n",
              "      <td>106</td>\n",
              "      <td>13</td>\n",
              "      <td>Tom Hanks, Tim Allen, Don Rickles, Jim Varney,...</td>\n",
              "      <td>John Lasseter, Joss Whedon, Andrew Stanton, Jo...</td>\n",
              "    </tr>\n",
              "    <tr>\n",
              "      <th>1</th>\n",
              "      <td>[{'cast_id': 1, 'character': 'Alan Parrish', '...</td>\n",
              "      <td>[{'credit_id': '52fe44bfc3a36847f80a7cd1', 'de...</td>\n",
              "      <td>8844</td>\n",
              "      <td>[{'cast_id': 1, 'character': 'Alan Parrish', '...</td>\n",
              "      <td>[{'credit_id': '52fe44bfc3a36847f80a7cd1', 'de...</td>\n",
              "      <td>16</td>\n",
              "      <td>26</td>\n",
              "      <td>Robin Williams, Jonathan Hyde, Kirsten Dunst, ...</td>\n",
              "      <td>Larry J. Franco, Jonathan Hensleigh, James Hor...</td>\n",
              "    </tr>\n",
              "    <tr>\n",
              "      <th>2</th>\n",
              "      <td>[{'cast_id': 2, 'character': 'Max Goldman', 'c...</td>\n",
              "      <td>[{'credit_id': '52fe466a9251416c75077a89', 'de...</td>\n",
              "      <td>15602</td>\n",
              "      <td>[{'cast_id': 2, 'character': 'Max Goldman', 'c...</td>\n",
              "      <td>[{'credit_id': '52fe466a9251416c75077a89', 'de...</td>\n",
              "      <td>4</td>\n",
              "      <td>7</td>\n",
              "      <td>Walter Matthau, Jack Lemmon, Ann-Margret, Soph...</td>\n",
              "      <td>Howard Deutch, Mark Steven Johnson, Mark Steve...</td>\n",
              "    </tr>\n",
              "  </tbody>\n",
              "</table>\n",
              "</div>"
            ],
            "text/plain": [
              "                                                cast  \\\n",
              "0  [{'cast_id': 14, 'character': 'Woody (voice)',...   \n",
              "1  [{'cast_id': 1, 'character': 'Alan Parrish', '...   \n",
              "2  [{'cast_id': 2, 'character': 'Max Goldman', 'c...   \n",
              "\n",
              "                                                crew     id  \\\n",
              "0  [{'credit_id': '52fe4284c3a36847f8024f49', 'de...    862   \n",
              "1  [{'credit_id': '52fe44bfc3a36847f80a7cd1', 'de...   8844   \n",
              "2  [{'credit_id': '52fe466a9251416c75077a89', 'de...  15602   \n",
              "\n",
              "                                           cast_eval  \\\n",
              "0  [{'cast_id': 14, 'character': 'Woody (voice)',...   \n",
              "1  [{'cast_id': 1, 'character': 'Alan Parrish', '...   \n",
              "2  [{'cast_id': 2, 'character': 'Max Goldman', 'c...   \n",
              "\n",
              "                                           crew_eval  crew_size  cast_size  \\\n",
              "0  [{'credit_id': '52fe4284c3a36847f8024f49', 'de...        106         13   \n",
              "1  [{'credit_id': '52fe44bfc3a36847f80a7cd1', 'de...         16         26   \n",
              "2  [{'credit_id': '52fe466a9251416c75077a89', 'de...          4          7   \n",
              "\n",
              "                                         Name_actors  \\\n",
              "0  Tom Hanks, Tim Allen, Don Rickles, Jim Varney,...   \n",
              "1  Robin Williams, Jonathan Hyde, Kirsten Dunst, ...   \n",
              "2  Walter Matthau, Jack Lemmon, Ann-Margret, Soph...   \n",
              "\n",
              "                                          Names_crew  \n",
              "0  John Lasseter, Joss Whedon, Andrew Stanton, Jo...  \n",
              "1  Larry J. Franco, Jonathan Hensleigh, James Hor...  \n",
              "2  Howard Deutch, Mark Steven Johnson, Mark Steve...  "
            ]
          },
          "execution_count": 72,
          "metadata": {},
          "output_type": "execute_result"
        }
      ],
      "source": [
        "df3.head(3)"
      ]
    },
    {
      "cell_type": "code",
      "execution_count": null,
      "metadata": {
        "id": "xwkc7cAtUAjB",
        "outputId": "f07e27f6-c975-4abd-a83d-90e62afd5226"
      },
      "outputs": [
        {
          "name": "stdout",
          "output_type": "stream",
          "text": [
            "<class 'pandas.core.frame.DataFrame'>\n",
            "RangeIndex: 45476 entries, 0 to 45475\n",
            "Data columns (total 9 columns):\n",
            " #   Column       Non-Null Count  Dtype \n",
            "---  ------       --------------  ----- \n",
            " 0   cast         45476 non-null  object\n",
            " 1   crew         45476 non-null  object\n",
            " 2   id           45476 non-null  int64 \n",
            " 3   cast_eval    45476 non-null  object\n",
            " 4   crew_eval    45476 non-null  object\n",
            " 5   crew_size    45476 non-null  int64 \n",
            " 6   cast_size    45476 non-null  int64 \n",
            " 7   Name_actors  45476 non-null  object\n",
            " 8   Names_crew   45476 non-null  object\n",
            "dtypes: int64(3), object(6)\n",
            "memory usage: 3.1+ MB\n"
          ]
        }
      ],
      "source": [
        "df3.info()"
      ]
    },
    {
      "cell_type": "code",
      "execution_count": null,
      "metadata": {
        "id": "xb7Bhkm_UAjC",
        "outputId": "048276c5-2300-4720-dfbc-6c631a410888"
      },
      "outputs": [
        {
          "name": "stdout",
          "output_type": "stream",
          "text": [
            "cast           object\n",
            "crew           object\n",
            "id              int64\n",
            "cast_eval      object\n",
            "crew_eval      object\n",
            "crew_size       int64\n",
            "cast_size       int64\n",
            "Name_actors    object\n",
            "Names_crew     object\n",
            "dtype: object\n"
          ]
        }
      ],
      "source": [
        "# Transformar la columna \"Names_crew\" a string\n",
        "df3['Names_crew'] = df3['Names_crew'].astype(str)\n",
        "\n",
        "print(df3.dtypes)"
      ]
    },
    {
      "cell_type": "code",
      "execution_count": null,
      "metadata": {
        "id": "EjFGK-eBUAjC",
        "outputId": "096a535f-3c0b-45f4-cdf5-3e24893fb8ff"
      },
      "outputs": [
        {
          "name": "stdout",
          "output_type": "stream",
          "text": [
            "0    John Lasseter, Joss Whedon, Andrew Stanton, Jo...\n",
            "1    Larry J. Franco, Jonathan Hensleigh, James Hor...\n",
            "2    Howard Deutch, Mark Steven Johnson, Mark Steve...\n",
            "3    Forest Whitaker, Ronald Bass, Ronald Bass, Ezr...\n",
            "4    Alan Silvestri, Elliot Davis, Nancy Meyers, Na...\n",
            "Name: Names_crew, dtype: object\n"
          ]
        }
      ],
      "source": [
        "# Podemos ver que se armó una lista de los nombres de las personas en \"crew\"\n",
        "print(df3['Names_crew'].head())"
      ]
    },
    {
      "cell_type": "code",
      "execution_count": null,
      "metadata": {
        "id": "f5g5C-nvUAjC"
      },
      "outputs": [],
      "source": [
        "# Extraer el primer nombre de \"names_crew\", asumiendo que en esta lista es el Director\n",
        "df3['Director_name'] = df3['Names_crew'].str.split(',').str.get(0)"
      ]
    },
    {
      "cell_type": "code",
      "execution_count": null,
      "metadata": {
        "id": "G1SROMqjUAjC",
        "outputId": "c9926878-1591-4126-e1e1-540f4ed998b1"
      },
      "outputs": [
        {
          "data": {
            "text/html": [
              "<div>\n",
              "<style scoped>\n",
              "    .dataframe tbody tr th:only-of-type {\n",
              "        vertical-align: middle;\n",
              "    }\n",
              "\n",
              "    .dataframe tbody tr th {\n",
              "        vertical-align: top;\n",
              "    }\n",
              "\n",
              "    .dataframe thead th {\n",
              "        text-align: right;\n",
              "    }\n",
              "</style>\n",
              "<table border=\"1\" class=\"dataframe\">\n",
              "  <thead>\n",
              "    <tr style=\"text-align: right;\">\n",
              "      <th></th>\n",
              "      <th>cast</th>\n",
              "      <th>crew</th>\n",
              "      <th>id</th>\n",
              "      <th>cast_eval</th>\n",
              "      <th>crew_eval</th>\n",
              "      <th>crew_size</th>\n",
              "      <th>cast_size</th>\n",
              "      <th>Name_actors</th>\n",
              "      <th>Names_crew</th>\n",
              "      <th>Director_name</th>\n",
              "    </tr>\n",
              "  </thead>\n",
              "  <tbody>\n",
              "    <tr>\n",
              "      <th>19741</th>\n",
              "      <td>[{'cast_id': 1002, 'character': 'Pauline', 'cr...</td>\n",
              "      <td>[{'credit_id': '52fe48df9251416c9109b1cf', 'de...</td>\n",
              "      <td>84194</td>\n",
              "      <td>[{'cast_id': 1002, 'character': 'Pauline', 'cr...</td>\n",
              "      <td>[{'credit_id': '52fe48df9251416c9109b1cf', 'de...</td>\n",
              "      <td>13</td>\n",
              "      <td>17</td>\n",
              "      <td>AnnaLynne McCord, Traci Lords, Ariel Winter, R...</td>\n",
              "      <td>Richard Bates Jr., Richard Bates Jr., Dylan Ha...</td>\n",
              "      <td>Richard Bates Jr.</td>\n",
              "    </tr>\n",
              "    <tr>\n",
              "      <th>25519</th>\n",
              "      <td>[{'cast_id': 1, 'character': 'The Genie', 'cre...</td>\n",
              "      <td>[{'credit_id': '52fe4531c3a36847f80c162b', 'de...</td>\n",
              "      <td>9807</td>\n",
              "      <td>[{'cast_id': 1, 'character': 'The Genie', 'cre...</td>\n",
              "      <td>[{'credit_id': '52fe4531c3a36847f80c162b', 'de...</td>\n",
              "      <td>10</td>\n",
              "      <td>5</td>\n",
              "      <td>Bud Spencer, Luca Venantini, Julian Voloshin, ...</td>\n",
              "      <td>Menahem Golan, Yoram Globus, Mario Amendola, S...</td>\n",
              "      <td>Menahem Golan</td>\n",
              "    </tr>\n",
              "  </tbody>\n",
              "</table>\n",
              "</div>"
            ],
            "text/plain": [
              "                                                    cast  \\\n",
              "19741  [{'cast_id': 1002, 'character': 'Pauline', 'cr...   \n",
              "25519  [{'cast_id': 1, 'character': 'The Genie', 'cre...   \n",
              "\n",
              "                                                    crew     id  \\\n",
              "19741  [{'credit_id': '52fe48df9251416c9109b1cf', 'de...  84194   \n",
              "25519  [{'credit_id': '52fe4531c3a36847f80c162b', 'de...   9807   \n",
              "\n",
              "                                               cast_eval  \\\n",
              "19741  [{'cast_id': 1002, 'character': 'Pauline', 'cr...   \n",
              "25519  [{'cast_id': 1, 'character': 'The Genie', 'cre...   \n",
              "\n",
              "                                               crew_eval  crew_size  \\\n",
              "19741  [{'credit_id': '52fe48df9251416c9109b1cf', 'de...         13   \n",
              "25519  [{'credit_id': '52fe4531c3a36847f80c162b', 'de...         10   \n",
              "\n",
              "       cast_size                                        Name_actors  \\\n",
              "19741         17  AnnaLynne McCord, Traci Lords, Ariel Winter, R...   \n",
              "25519          5  Bud Spencer, Luca Venantini, Julian Voloshin, ...   \n",
              "\n",
              "                                              Names_crew      Director_name  \n",
              "19741  Richard Bates Jr., Richard Bates Jr., Dylan Ha...  Richard Bates Jr.  \n",
              "25519  Menahem Golan, Yoram Globus, Mario Amendola, S...      Menahem Golan  "
            ]
          },
          "execution_count": 77,
          "metadata": {},
          "output_type": "execute_result"
        }
      ],
      "source": [
        "df3.sample(2)"
      ]
    },
    {
      "cell_type": "code",
      "execution_count": null,
      "metadata": {
        "id": "PJ3DBQXhUAjC",
        "outputId": "68b64306-73fd-4af7-c737-7417b9c1d819"
      },
      "outputs": [
        {
          "name": "stderr",
          "output_type": "stream",
          "text": [
            "C:\\Users\\AGaby\\AppData\\Local\\Temp\\ipykernel_18620\\1327248413.py:3: FutureWarning: In a future version of pandas all arguments of StringMethods.rsplit except for the argument 'pat' will be keyword-only.\n",
            "  df4[['D_Name', 'D_LastName']] = df4['Director_name'].str.rsplit(' ', 1).apply(pd.Series)\n"
          ]
        }
      ],
      "source": [
        "# Dividir la columna \"directores\" en nombre y apellido\n",
        "df4 = df3.copy()\n",
        "df4[['D_Name', 'D_LastName']] = df4['Director_name'].str.rsplit(' ', 1).apply(pd.Series)"
      ]
    },
    {
      "cell_type": "code",
      "execution_count": null,
      "metadata": {
        "id": "Tg0c8ETQUAjC",
        "outputId": "9239a4ff-af67-4c7a-f157-fbf2e1a45c53"
      },
      "outputs": [
        {
          "data": {
            "text/html": [
              "<div>\n",
              "<style scoped>\n",
              "    .dataframe tbody tr th:only-of-type {\n",
              "        vertical-align: middle;\n",
              "    }\n",
              "\n",
              "    .dataframe tbody tr th {\n",
              "        vertical-align: top;\n",
              "    }\n",
              "\n",
              "    .dataframe thead th {\n",
              "        text-align: right;\n",
              "    }\n",
              "</style>\n",
              "<table border=\"1\" class=\"dataframe\">\n",
              "  <thead>\n",
              "    <tr style=\"text-align: right;\">\n",
              "      <th></th>\n",
              "      <th>cast</th>\n",
              "      <th>crew</th>\n",
              "      <th>id</th>\n",
              "      <th>cast_eval</th>\n",
              "      <th>crew_eval</th>\n",
              "      <th>crew_size</th>\n",
              "      <th>cast_size</th>\n",
              "      <th>Name_actors</th>\n",
              "      <th>Names_crew</th>\n",
              "      <th>Director_name</th>\n",
              "      <th>D_Name</th>\n",
              "      <th>D_LastName</th>\n",
              "    </tr>\n",
              "  </thead>\n",
              "  <tbody>\n",
              "    <tr>\n",
              "      <th>19457</th>\n",
              "      <td>[{'cast_id': 1, 'character': 'Gary', 'credit_i...</td>\n",
              "      <td>[{'credit_id': '52fe48ee9251416c9109d113', 'de...</td>\n",
              "      <td>84348</td>\n",
              "      <td>[{'cast_id': 1, 'character': 'Gary', 'credit_i...</td>\n",
              "      <td>[{'credit_id': '52fe48ee9251416c9109d113', 'de...</td>\n",
              "      <td>19</td>\n",
              "      <td>30</td>\n",
              "      <td>Calvin Lee Reeder, Lane Hughes, Adam Wingard, ...</td>\n",
              "      <td>Joe Swanberg, Matt Bettinelli-Olpin, Matt Bett...</td>\n",
              "      <td>Joe Swanberg</td>\n",
              "      <td>Joe</td>\n",
              "      <td>Swanberg</td>\n",
              "    </tr>\n",
              "    <tr>\n",
              "      <th>1275</th>\n",
              "      <td>[{'cast_id': 3, 'character': 'Jacob Sterling',...</td>\n",
              "      <td>[{'credit_id': '5372fddfc3a3681518000a4f', 'de...</td>\n",
              "      <td>41671</td>\n",
              "      <td>[{'cast_id': 3, 'character': 'Jacob Sterling',...</td>\n",
              "      <td>[{'credit_id': '5372fddfc3a3681518000a4f', 'de...</td>\n",
              "      <td>3</td>\n",
              "      <td>11</td>\n",
              "      <td>Stephen Macht, Shawn Weatherly, Megan Ward, Da...</td>\n",
              "      <td>Tony Randel, Christopher DeFaria, Antonio Toro</td>\n",
              "      <td>Tony Randel</td>\n",
              "      <td>Tony</td>\n",
              "      <td>Randel</td>\n",
              "    </tr>\n",
              "  </tbody>\n",
              "</table>\n",
              "</div>"
            ],
            "text/plain": [
              "                                                    cast  \\\n",
              "19457  [{'cast_id': 1, 'character': 'Gary', 'credit_i...   \n",
              "1275   [{'cast_id': 3, 'character': 'Jacob Sterling',...   \n",
              "\n",
              "                                                    crew     id  \\\n",
              "19457  [{'credit_id': '52fe48ee9251416c9109d113', 'de...  84348   \n",
              "1275   [{'credit_id': '5372fddfc3a3681518000a4f', 'de...  41671   \n",
              "\n",
              "                                               cast_eval  \\\n",
              "19457  [{'cast_id': 1, 'character': 'Gary', 'credit_i...   \n",
              "1275   [{'cast_id': 3, 'character': 'Jacob Sterling',...   \n",
              "\n",
              "                                               crew_eval  crew_size  \\\n",
              "19457  [{'credit_id': '52fe48ee9251416c9109d113', 'de...         19   \n",
              "1275   [{'credit_id': '5372fddfc3a3681518000a4f', 'de...          3   \n",
              "\n",
              "       cast_size                                        Name_actors  \\\n",
              "19457         30  Calvin Lee Reeder, Lane Hughes, Adam Wingard, ...   \n",
              "1275          11  Stephen Macht, Shawn Weatherly, Megan Ward, Da...   \n",
              "\n",
              "                                              Names_crew Director_name D_Name  \\\n",
              "19457  Joe Swanberg, Matt Bettinelli-Olpin, Matt Bett...  Joe Swanberg    Joe   \n",
              "1275      Tony Randel, Christopher DeFaria, Antonio Toro   Tony Randel   Tony   \n",
              "\n",
              "      D_LastName  \n",
              "19457   Swanberg  \n",
              "1275      Randel  "
            ]
          },
          "execution_count": 79,
          "metadata": {},
          "output_type": "execute_result"
        }
      ],
      "source": [
        "df4.sample(2)"
      ]
    },
    {
      "cell_type": "code",
      "source": [
        "# Creo una funcion para obtener los nombres de los Directores, esto no va a servir para los actores\n",
        "# ya que tendra que ser en un formato de lista porque son varios por peliculas\n",
        "\n",
        "def bus_director(x):\n",
        "    '''\n",
        "    Esta funcion busca en una lista por diccionario que tiene la clave 'job' con el valor de director, una vez\n",
        "    se encuentra el diccionario de director se devuelve el valor asociado a la clave 'name'.\n",
        "    De no encontrar valor se devolvera un valor nulo.\n",
        "    '''\n",
        "    for i in x:\n",
        "        if i['job'] == 'Director':\n",
        "            return i['name']\n",
        "    return np.nan"
      ],
      "metadata": {
        "id": "mFyeBfWTUtK6"
      },
      "execution_count": null,
      "outputs": []
    },
    {
      "cell_type": "code",
      "source": [
        "df5 = df4.copy()"
      ],
      "metadata": {
        "id": "mCRcEhD6VXrG"
      },
      "execution_count": null,
      "outputs": []
    },
    {
      "cell_type": "code",
      "source": [
        "#df5 = pd.read_csv('proyecto1_crew.csv', low_memory=False)\n",
        "df5['crew'] = df5['crew'].apply(literal_eval)\n",
        "df5['director'] = df5['crew'].apply(bus_director)"
      ],
      "metadata": {
        "id": "uSLXCqiHUwec"
      },
      "execution_count": null,
      "outputs": []
    },
    {
      "cell_type": "markdown",
      "metadata": {
        "id": "K-ymDy4gUAjC"
      },
      "source": [
        "Ahora, se pueden unir ambos dataset usando el ID"
      ]
    },
    {
      "cell_type": "code",
      "execution_count": null,
      "metadata": {
        "id": "9accOto2UAjD"
      },
      "outputs": [],
      "source": [
        "# Realizar la comparación de las columnas \"id\" y unir los DataFrames\n",
        "df_unidos = pd.merge(dfL, df5, on=\"id\", how=\"inner\")"
      ]
    },
    {
      "cell_type": "code",
      "execution_count": null,
      "metadata": {
        "id": "arMwbEx8UAjD",
        "outputId": "93a6eb03-6208-4e06-eb44-21073a117004"
      },
      "outputs": [
        {
          "name": "stdout",
          "output_type": "stream",
          "text": [
            "<class 'pandas.core.frame.DataFrame'>\n",
            "Int64Index: 45451 entries, 0 to 45450\n",
            "Data columns (total 43 columns):\n",
            " #   Column                       Non-Null Count  Dtype         \n",
            "---  ------                       --------------  -----         \n",
            " 0   belongs_to_collection        45451 non-null  object        \n",
            " 1   budget                       45451 non-null  float64       \n",
            " 2   genres                       45451 non-null  object        \n",
            " 3   id                           45451 non-null  float64       \n",
            " 4   original_language            45440 non-null  object        \n",
            " 5   overview                     44510 non-null  object        \n",
            " 6   popularity                   45451 non-null  object        \n",
            " 7   production_companies         45451 non-null  object        \n",
            " 8   production_countries         45451 non-null  object        \n",
            " 9   release_date                 45451 non-null  datetime64[ns]\n",
            " 10  revenue                      45451 non-null  float64       \n",
            " 11  runtime                      45205 non-null  float64       \n",
            " 12  spoken_languages             45451 non-null  object        \n",
            " 13  status                       45371 non-null  object        \n",
            " 14  tagline                      20425 non-null  object        \n",
            " 15  title                        45451 non-null  object        \n",
            " 16  vote_average                 45451 non-null  float64       \n",
            " 17  vote_count                   45451 non-null  float64       \n",
            " 18  return                       45451 non-null  float64       \n",
            " 19  release_year                 45451 non-null  int64         \n",
            " 20  collection_id_a              4497 non-null   float64       \n",
            " 21  collection_name_a            4497 non-null   object        \n",
            " 22  collection_poster_path_a     3954 non-null   object        \n",
            " 23  collection_backdrop_path_a   3266 non-null   object        \n",
            " 24  id_a                         45451 non-null  object        \n",
            " 25  name_a                       45451 non-null  object        \n",
            " 26  production_companies_name_a  45451 non-null  object        \n",
            " 27  production_companies_id_a    45451 non-null  object        \n",
            " 28  production_countries_iso_a   45451 non-null  object        \n",
            " 29  production_countries_name_a  45451 non-null  object        \n",
            " 30  spoken_language_iso_a        45451 non-null  object        \n",
            " 31  spoken_language_name_a       45451 non-null  object        \n",
            " 32  cast                         45451 non-null  object        \n",
            " 33  crew                         45451 non-null  object        \n",
            " 34  cast_eval                    45451 non-null  object        \n",
            " 35  crew_eval                    45451 non-null  object        \n",
            " 36  crew_size                    45451 non-null  int64         \n",
            " 37  cast_size                    45451 non-null  int64         \n",
            " 38  Name_actors                  45451 non-null  object        \n",
            " 39  Names_crew                   45451 non-null  object        \n",
            " 40  Director_name                45451 non-null  object        \n",
            " 41  D_Name                       45451 non-null  object        \n",
            " 42  D_LastName                   44538 non-null  object        \n",
            "dtypes: datetime64[ns](1), float64(8), int64(3), object(31)\n",
            "memory usage: 15.3+ MB\n"
          ]
        }
      ],
      "source": [
        "df_unidos.info()"
      ]
    },
    {
      "cell_type": "markdown",
      "metadata": {
        "id": "jAXX7TVRUAjD"
      },
      "source": [
        "Finalmente es posible exportar los dataframes de interes a un archivo .csv por ejemplo"
      ]
    },
    {
      "cell_type": "code",
      "execution_count": null,
      "metadata": {
        "id": "aW_IjQq2UAjD"
      },
      "outputs": [],
      "source": [
        "# Ruta y nombre de archivo de salida\n",
        "#ruta_salida = \"ProyectoPI_df_unido.csv\"\n",
        "\n",
        "# Exportar el DataFrame como CSV con un códec de caracteres específico\n",
        "#df_unidos.to_csv(ruta_salida, index=False, encoding='utf-8')"
      ]
    },
    {
      "cell_type": "code",
      "execution_count": null,
      "metadata": {
        "id": "gOj_LtNEUAjD"
      },
      "outputs": [],
      "source": [
        "# De forma análoga es posible exportar los df separados\n",
        "#dfL.to_csv('proyecto1_movies.csv', index=False)\n",
        "#df4.to_csv('proyecto1_crew.csv', index=False)"
      ]
    },
    {
      "cell_type": "markdown",
      "metadata": {
        "id": "Q3x_KFERUAjD"
      },
      "source": [
        "Una vez finalizada esta etapa, se puede pasar al desarrollo de la API"
      ]
    }
  ],
  "metadata": {
    "kernelspec": {
      "display_name": "Python 3",
      "language": "python",
      "name": "python3"
    },
    "language_info": {
      "codemirror_mode": {
        "name": "ipython",
        "version": 3
      },
      "file_extension": ".py",
      "mimetype": "text/x-python",
      "name": "python",
      "nbconvert_exporter": "python",
      "pygments_lexer": "ipython3",
      "version": "3.11.1"
    },
    "orig_nbformat": 4,
    "colab": {
      "provenance": []
    }
  },
  "nbformat": 4,
  "nbformat_minor": 0
}